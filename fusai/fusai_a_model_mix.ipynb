{
 "cells": [
  {
   "cell_type": "code",
   "execution_count": 1,
   "metadata": {
    "collapsed": true
   },
   "outputs": [],
   "source": [
    "import pandas as pd\n",
    "from pandas import Series, DataFrame\n",
    "import numpy as np\n",
    "from scipy.stats import mode\n",
    "import csv\n",
    "import matplotlib.dates\n",
    "import matplotlib.pyplot as plt\n",
    "import matplotlib.pylab as pylab\n",
    "import seaborn as sns\n",
    "from datetime import *\n",
    "import matplotlib.pylab as pylab\n",
    "from pylab import *  \n",
    "mpl.rcParams['font.sans-serif'] = ['SimHei']\n",
    "import math\n"
   ]
  },
  {
   "cell_type": "code",
   "execution_count": 8,
   "metadata": {},
   "outputs": [
    {
     "name": "stdout",
     "output_type": "stream",
     "text": [
      "<class 'pandas.core.frame.DataFrame'>\n",
      "RangeIndex: 519888 entries, 0 to 519887\n",
      "Data columns (total 2 columns):\n",
      "instance_id          519888 non-null int64\n",
      "predicted_score_1    519888 non-null float64\n",
      "dtypes: float64(1), int64(1)\n",
      "memory usage: 7.9 MB\n",
      "None\n",
      "0.03876910738948676\n",
      "<class 'pandas.core.frame.DataFrame'>\n",
      "RangeIndex: 519888 entries, 0 to 519887\n",
      "Data columns (total 2 columns):\n",
      "instance_id          519888 non-null int64\n",
      "predicted_score_2    519888 non-null float64\n",
      "dtypes: float64(1), int64(1)\n",
      "memory usage: 7.9 MB\n",
      "None\n",
      "0.038768894686015944\n"
     ]
    }
   ],
   "source": [
    "#导入结果数据\n",
    "result_df_keng = pd.read_csv('../../data/fusai/submit/fusai_xgb_5_7_wen_adjust.txt', sep=' ')\n",
    "result_df_keng.rename(columns={'predicted_score':'predicted_score_1'}, inplace=True)\n",
    "print(result_df_keng.info())\n",
    "print(result_df_keng['predicted_score_1'].mean())\n",
    "\n",
    "result_df_yuna = pd.read_csv('../../data/fusai/submit/xgboost2A_after_lake_5_8_9.txt', sep=' ')\n",
    "result_df_yuna.rename(columns={'predicted_score':'predicted_score_2'}, inplace=True)\n",
    "print(result_df_yuna.info())\n",
    "print(result_df_yuna['predicted_score_2'].mean())\n"
   ]
  },
  {
   "cell_type": "code",
   "execution_count": 10,
   "metadata": {},
   "outputs": [
    {
     "name": "stdout",
     "output_type": "stream",
     "text": [
      "519888\n",
      "        instance_id  predicted_score_1  predicted_score_2  predicted_score\n",
      "0    93294255633855           0.038887           0.044084         0.041485\n",
      "1   558322259509454           0.007602           0.009160         0.008381\n",
      "2   594573634113186           0.019812           0.022591         0.021201\n",
      "3   667327653735176           0.033166           0.034852         0.034009\n",
      "4   697732672924394           0.025713           0.032090         0.028902\n",
      "5  1467522731866334           0.056775           0.066838         0.061807\n",
      "6  2564345731136577           0.046818           0.043903         0.045360\n",
      "7  2635932702100660           0.021763           0.027854         0.024809\n",
      "8  3208825666465730           0.026728           0.019629         0.023179\n",
      "9  3654424870386483           0.044079           0.053054         0.048567\n"
     ]
    }
   ],
   "source": [
    "result_df_mix = pd.merge(result_df_keng, result_df_yuna, on=['instance_id'], how='left')\n",
    "result_df_mix['predicted_score'] = (result_df_mix['predicted_score_1'] + result_df_mix['predicted_score_2']) / 2\n",
    "print(len(result_df_mix))\n",
    "print(result_df_mix.head(10))\n"
   ]
  },
  {
   "cell_type": "code",
   "execution_count": 11,
   "metadata": {},
   "outputs": [
    {
     "name": "stdout",
     "output_type": "stream",
     "text": [
      "<class 'pandas.core.frame.DataFrame'>\n",
      "RangeIndex: 519888 entries, 0 to 519887\n",
      "Data columns (total 30 columns):\n",
      "instance_id                  519888 non-null int64\n",
      "item_id                      519888 non-null int64\n",
      "item_category_list           519888 non-null object\n",
      "item_property_list           519888 non-null object\n",
      "item_brand_id                519888 non-null int64\n",
      "item_city_id                 519888 non-null int64\n",
      "item_price_level             519888 non-null int64\n",
      "item_sales_level             519888 non-null int64\n",
      "item_collected_level         519888 non-null int64\n",
      "item_pv_level                519888 non-null int64\n",
      "user_id                      519888 non-null int64\n",
      "user_gender_id               519888 non-null int64\n",
      "user_age_level               519888 non-null int64\n",
      "user_occupation_id           519888 non-null int64\n",
      "user_star_level              519888 non-null int64\n",
      "context_id                   519888 non-null int64\n",
      "context_timestamp            519888 non-null int64\n",
      "context_page_id              519888 non-null int64\n",
      "predict_category_property    519888 non-null object\n",
      "shop_id                      519888 non-null int64\n",
      "shop_review_num_level        519888 non-null int64\n",
      "shop_review_positive_rate    519888 non-null float64\n",
      "shop_star_level              519888 non-null int64\n",
      "shop_score_service           519888 non-null float64\n",
      "shop_score_delivery          519888 non-null float64\n",
      "shop_score_description       519888 non-null float64\n",
      "date                         519888 non-null datetime64[ns]\n",
      "weekday                      519888 non-null int64\n",
      "day                          519888 non-null int64\n",
      "hour                         519888 non-null int64\n",
      "dtypes: datetime64[ns](1), float64(4), int64(22), object(3)\n",
      "memory usage: 119.0+ MB\n",
      "None\n"
     ]
    }
   ],
   "source": [
    "#导入测试集进行数据处理\n",
    "test_df = pd.read_csv('../../data/round2_ijcai_18_test_a_20180425.txt', sep=' ')\n",
    "\n",
    "test_df['date'] = test_df.context_timestamp.map(lambda x: datetime.datetime.fromtimestamp(x))\n",
    "test_df['weekday'] = test_df['date'].map(lambda x: x.weekday())\n",
    "test_df['day'] = test_df['date'].map(lambda x: x.day)\n",
    "test_df['hour'] = test_df['date'].map(lambda x: x.hour)\n",
    "\n",
    "print(test_df.info())\n"
   ]
  },
  {
   "cell_type": "code",
   "execution_count": 12,
   "metadata": {},
   "outputs": [
    {
     "name": "stdout",
     "output_type": "stream",
     "text": [
      "<class 'pandas.core.frame.DataFrame'>\n",
      "Int64Index: 519888 entries, 0 to 519887\n",
      "Data columns (total 33 columns):\n",
      "instance_id                  519888 non-null int64\n",
      "item_id                      519888 non-null int64\n",
      "item_category_list           519888 non-null object\n",
      "item_property_list           519888 non-null object\n",
      "item_brand_id                519888 non-null int64\n",
      "item_city_id                 519888 non-null int64\n",
      "item_price_level             519888 non-null int64\n",
      "item_sales_level             519888 non-null int64\n",
      "item_collected_level         519888 non-null int64\n",
      "item_pv_level                519888 non-null int64\n",
      "user_id                      519888 non-null int64\n",
      "user_gender_id               519888 non-null int64\n",
      "user_age_level               519888 non-null int64\n",
      "user_occupation_id           519888 non-null int64\n",
      "user_star_level              519888 non-null int64\n",
      "context_id                   519888 non-null int64\n",
      "context_timestamp            519888 non-null int64\n",
      "context_page_id              519888 non-null int64\n",
      "predict_category_property    519888 non-null object\n",
      "shop_id                      519888 non-null int64\n",
      "shop_review_num_level        519888 non-null int64\n",
      "shop_review_positive_rate    519888 non-null float64\n",
      "shop_star_level              519888 non-null int64\n",
      "shop_score_service           519888 non-null float64\n",
      "shop_score_delivery          519888 non-null float64\n",
      "shop_score_description       519888 non-null float64\n",
      "date                         519888 non-null datetime64[ns]\n",
      "weekday                      519888 non-null int64\n",
      "day                          519888 non-null int64\n",
      "hour                         519888 non-null int64\n",
      "predicted_score_1            519888 non-null float64\n",
      "predicted_score_2            519888 non-null float64\n",
      "predicted_score              519888 non-null float64\n",
      "dtypes: datetime64[ns](1), float64(7), int64(22), object(3)\n",
      "memory usage: 134.9+ MB\n",
      "None\n"
     ]
    }
   ],
   "source": [
    "test_df = pd.merge(test_df, result_df_mix, on=['instance_id'], how='left')\n",
    "print(test_df.info())\n"
   ]
  },
  {
   "cell_type": "code",
   "execution_count": 15,
   "metadata": {},
   "outputs": [
    {
     "name": "stdout",
     "output_type": "stream",
     "text": [
      "        instance_id  predicted_score\n",
      "0    93294255633855         0.041485\n",
      "1   558322259509454         0.008381\n",
      "2   594573634113186         0.021201\n",
      "3   667327653735176         0.034009\n",
      "4   697732672924394         0.028902\n",
      "5  1467522731866334         0.061807\n",
      "6  2564345731136577         0.045360\n",
      "7  2635932702100660         0.024809\n",
      "8  3208825666465730         0.023179\n",
      "9  3654424870386483         0.048567\n"
     ]
    }
   ],
   "source": [
    "print(test_df[['instance_id', 'predicted_score']].head(10))\n"
   ]
  },
  {
   "cell_type": "code",
   "execution_count": 16,
   "metadata": {},
   "outputs": [
    {
     "name": "stdout",
     "output_type": "stream",
     "text": [
      "    hour  predicted_score_hour_mean\n",
      "0     12                   0.042641\n",
      "1     13                   0.040599\n",
      "2     14                   0.039930\n",
      "3     15                   0.040101\n",
      "4     16                   0.039957\n",
      "5     17                   0.040177\n",
      "6     18                   0.039958\n",
      "7     19                   0.039547\n",
      "8     20                   0.039542\n",
      "9     21                   0.036749\n",
      "10    22                   0.035445\n",
      "11    23                   0.034270\n"
     ]
    }
   ],
   "source": [
    "test_df_pivot_table = pd.pivot_table(test_df[['hour', 'predicted_score']], index=['hour'], aggfunc=mean)\n",
    "test_df_pivot_table.reset_index(inplace=True)\n",
    "test_df_pivot_table.rename(columns={'predicted_score':'predicted_score_hour_mean'}, inplace=True)\n",
    "print(test_df_pivot_table.head(20))\n"
   ]
  },
  {
   "cell_type": "code",
   "execution_count": 17,
   "metadata": {},
   "outputs": [
    {
     "name": "stderr",
     "output_type": "stream",
     "text": [
      "/usr/local/anaconda3/lib/python3.6/site-packages/matplotlib/font_manager.py:1297: UserWarning: findfont: Font family ['sans-serif'] not found. Falling back to DejaVu Sans\n",
      "  (prop.get_family(), self.defaultFamily[fontext]))\n"
     ]
    },
    {
     "data": {
      "image/png": "[encoded data removed]",
      "text/plain": [
       "<matplotlib.figure.Figure at 0x7fbe7ae0ffd0>"
      ]
     },
     "metadata": {},
     "output_type": "display_data"
    }
   ],
   "source": [
    "test_df_pivot_table.plot(x='hour', y='predicted_score_hour_mean')\n",
    "plt.show()\n"
   ]
  },
  {
   "cell_type": "code",
   "execution_count": 18,
   "metadata": {
    "collapsed": true
   },
   "outputs": [],
   "source": [
    "# 导出预测结果\n",
    "def exportResult(df, fileName):\n",
    "    df.to_csv('../../data/fusai/submit/%s.txt' % fileName, sep=' ', header=True, index=False)\n",
    "\n",
    "exportResult(result_df_mix[['instance_id', 'predicted_score']], 'fusai_xgb_5_9')\n"
   ]
  },
  {
   "cell_type": "code",
   "execution_count": 19,
   "metadata": {},
   "outputs": [
    {
     "name": "stdout",
     "output_type": "stream",
     "text": [
      "0.03876900103775267\n"
     ]
    }
   ],
   "source": [
    "print(result_df_mix['predicted_score'].mean())\n"
   ]
  },
  {
   "cell_type": "code",
   "execution_count": null,
   "metadata": {
    "collapsed": true
   },
   "outputs": [],
   "source": []
  }
 ],
 "metadata": {
  "kernelspec": {
   "display_name": "Python 3",
   "language": "python",
   "name": "python3"
  },
  "language_info": {
   "codemirror_mode": {
    "name": "ipython",
    "version": 3
   },
   "file_extension": ".py",
   "mimetype": "text/x-python",
   "name": "python",
   "nbconvert_exporter": "python",
   "pygments_lexer": "ipython3",
   "version": "3.6.2"
  }
 },
 "nbformat": 4,
 "nbformat_minor": 2
}
