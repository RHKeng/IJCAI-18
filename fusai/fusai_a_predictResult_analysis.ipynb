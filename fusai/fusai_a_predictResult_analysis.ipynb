{
 "cells": [
  {
   "cell_type": "code",
   "execution_count": 1,
   "metadata": {
    "collapsed": true
   },
   "outputs": [],
   "source": [
    "import pandas as pd\n",
    "from pandas import Series, DataFrame\n",
    "import numpy as np\n",
    "from scipy.stats import mode\n",
    "import csv\n",
    "import matplotlib.dates\n",
    "import matplotlib.pyplot as plt\n",
    "import matplotlib.pylab as pylab\n",
    "import seaborn as sns\n",
    "from datetime import *\n",
    "import matplotlib.pylab as pylab\n",
    "from pylab import *  \n",
    "mpl.rcParams['font.sans-serif'] = ['SimHei']\n"
   ]
  },
  {
   "cell_type": "code",
   "execution_count": 25,
   "metadata": {},
   "outputs": [
    {
     "name": "stdout",
     "output_type": "stream",
     "text": [
      "<class 'pandas.core.frame.DataFrame'>\n",
      "RangeIndex: 519888 entries, 0 to 519887\n",
      "Data columns (total 30 columns):\n",
      "instance_id                  519888 non-null int64\n",
      "item_id                      519888 non-null int64\n",
      "item_category_list           519888 non-null object\n",
      "item_property_list           519888 non-null object\n",
      "item_brand_id                519888 non-null int64\n",
      "item_city_id                 519888 non-null int64\n",
      "item_price_level             519888 non-null int64\n",
      "item_sales_level             519888 non-null int64\n",
      "item_collected_level         519888 non-null int64\n",
      "item_pv_level                519888 non-null int64\n",
      "user_id                      519888 non-null int64\n",
      "user_gender_id               519888 non-null int64\n",
      "user_age_level               519888 non-null int64\n",
      "user_occupation_id           519888 non-null int64\n",
      "user_star_level              519888 non-null int64\n",
      "context_id                   519888 non-null int64\n",
      "context_timestamp            519888 non-null int64\n",
      "context_page_id              519888 non-null int64\n",
      "predict_category_property    519888 non-null object\n",
      "shop_id                      519888 non-null int64\n",
      "shop_review_num_level        519888 non-null int64\n",
      "shop_review_positive_rate    519888 non-null float64\n",
      "shop_star_level              519888 non-null int64\n",
      "shop_score_service           519888 non-null float64\n",
      "shop_score_delivery          519888 non-null float64\n",
      "shop_score_description       519888 non-null float64\n",
      "date                         519888 non-null datetime64[ns]\n",
      "weekday                      519888 non-null int64\n",
      "day                          519888 non-null int64\n",
      "hour                         519888 non-null int64\n",
      "dtypes: datetime64[ns](1), float64(4), int64(22), object(3)\n",
      "memory usage: 119.0+ MB\n",
      "None\n"
     ]
    }
   ],
   "source": [
    "#导入测试集进行数据处理\n",
    "test_df = pd.read_csv('../../data/round2_ijcai_18_test_a_20180425.txt', sep=' ')\n",
    "\n",
    "test_df['date'] = test_df.context_timestamp.map(lambda x: datetime.datetime.fromtimestamp(x))\n",
    "test_df['weekday'] = test_df['date'].map(lambda x: x.weekday())\n",
    "test_df['day'] = test_df['date'].map(lambda x: x.day)\n",
    "test_df['hour'] = test_df['date'].map(lambda x: x.hour)\n",
    "\n",
    "print(test_df.info())\n"
   ]
  },
  {
   "cell_type": "code",
   "execution_count": 2,
   "metadata": {},
   "outputs": [
    {
     "name": "stdout",
     "output_type": "stream",
     "text": [
      "<class 'pandas.core.frame.DataFrame'>\n",
      "RangeIndex: 1209768 entries, 0 to 1209767\n",
      "Data columns (total 3 columns):\n",
      "instance_id        1209768 non-null int64\n",
      "predicted_score    1209768 non-null float64\n",
      "hour               1209768 non-null int64\n",
      "dtypes: float64(1), int64(2)\n",
      "memory usage: 27.7 MB\n",
      "None\n"
     ]
    }
   ],
   "source": [
    "#导入结果数据\n",
    "result_df = pd.read_csv('../../data/fusai/submit/fusai_b_xgb_5_14_normal.txt', sep=' ')\n",
    "print(result_df.info())\n"
   ]
  },
  {
   "cell_type": "code",
   "execution_count": 27,
   "metadata": {},
   "outputs": [
    {
     "name": "stdout",
     "output_type": "stream",
     "text": [
      "<class 'pandas.core.frame.DataFrame'>\n",
      "Int64Index: 519888 entries, 0 to 519887\n",
      "Data columns (total 31 columns):\n",
      "instance_id                  519888 non-null int64\n",
      "item_id                      519888 non-null int64\n",
      "item_category_list           519888 non-null object\n",
      "item_property_list           519888 non-null object\n",
      "item_brand_id                519888 non-null int64\n",
      "item_city_id                 519888 non-null int64\n",
      "item_price_level             519888 non-null int64\n",
      "item_sales_level             519888 non-null int64\n",
      "item_collected_level         519888 non-null int64\n",
      "item_pv_level                519888 non-null int64\n",
      "user_id                      519888 non-null int64\n",
      "user_gender_id               519888 non-null int64\n",
      "user_age_level               519888 non-null int64\n",
      "user_occupation_id           519888 non-null int64\n",
      "user_star_level              519888 non-null int64\n",
      "context_id                   519888 non-null int64\n",
      "context_timestamp            519888 non-null int64\n",
      "context_page_id              519888 non-null int64\n",
      "predict_category_property    519888 non-null object\n",
      "shop_id                      519888 non-null int64\n",
      "shop_review_num_level        519888 non-null int64\n",
      "shop_review_positive_rate    519888 non-null float64\n",
      "shop_star_level              519888 non-null int64\n",
      "shop_score_service           519888 non-null float64\n",
      "shop_score_delivery          519888 non-null float64\n",
      "shop_score_description       519888 non-null float64\n",
      "date                         519888 non-null datetime64[ns]\n",
      "weekday                      519888 non-null int64\n",
      "day                          519888 non-null int64\n",
      "hour                         519888 non-null int64\n",
      "predicted_score              519888 non-null float64\n",
      "dtypes: datetime64[ns](1), float64(5), int64(22), object(3)\n",
      "memory usage: 126.9+ MB\n",
      "None\n"
     ]
    }
   ],
   "source": [
    "test_df = pd.merge(test_df, result_df, on=['instance_id'], how='left')\n",
    "print(test_df.info())\n"
   ]
  },
  {
   "cell_type": "code",
   "execution_count": 3,
   "metadata": {},
   "outputs": [
    {
     "name": "stdout",
     "output_type": "stream",
     "text": [
      "    hour  predicted_score_hour_mean\n",
      "0     12                   0.043358\n",
      "1     13                   0.043546\n",
      "2     14                   0.042618\n",
      "3     15                   0.042743\n",
      "4     16                   0.043237\n",
      "5     17                   0.043926\n",
      "6     18                   0.043956\n",
      "7     19                   0.044257\n",
      "8     20                   0.044773\n",
      "9     21                   0.044650\n",
      "10    22                   0.045242\n",
      "11    23                   0.045335\n"
     ]
    }
   ],
   "source": [
    "test_df_pivot_table = pd.pivot_table(result_df[['hour', 'predicted_score']], index=['hour'], aggfunc=mean)\n",
    "test_df_pivot_table.reset_index(inplace=True)\n",
    "test_df_pivot_table.rename(columns={'predicted_score':'predicted_score_hour_mean'}, inplace=True)\n",
    "print(test_df_pivot_table.head(20))\n"
   ]
  },
  {
   "cell_type": "code",
   "execution_count": 4,
   "metadata": {},
   "outputs": [
    {
     "name": "stderr",
     "output_type": "stream",
     "text": [
      "/usr/local/anaconda3/lib/python3.6/site-packages/matplotlib/font_manager.py:1297: UserWarning: findfont: Font family ['sans-serif'] not found. Falling back to DejaVu Sans\n",
      "  (prop.get_family(), self.defaultFamily[fontext]))\n"
     ]
    },
    {
     "data": {
      "image/png": "[encoded data removed]",
      "text/plain": [
       "<matplotlib.figure.Figure at 0x7f4ffbb0bf98>"
      ]
     },
     "metadata": {},
     "output_type": "display_data"
    }
   ],
   "source": [
    "test_df_pivot_table.plot(x='hour', y='predicted_score_hour_mean')\n",
    "plt.show()\n"
   ]
  },
  {
   "cell_type": "code",
   "execution_count": null,
   "metadata": {
    "collapsed": true
   },
   "outputs": [],
   "source": []
  }
 ],
 "metadata": {
  "kernelspec": {
   "display_name": "Python 3",
   "language": "python",
   "name": "python3"
  },
  "language_info": {
   "codemirror_mode": {
    "name": "ipython",
    "version": 3
   },
   "file_extension": ".py",
   "mimetype": "text/x-python",
   "name": "python",
   "nbconvert_exporter": "python",
   "pygments_lexer": "ipython3",
   "version": "3.6.2"
  }
 },
 "nbformat": 4,
 "nbformat_minor": 2
}
