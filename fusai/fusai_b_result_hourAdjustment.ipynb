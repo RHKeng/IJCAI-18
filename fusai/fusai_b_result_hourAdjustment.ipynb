{
 "cells": [
  {
   "cell_type": "code",
   "execution_count": 1,
   "metadata": {
    "collapsed": true
   },
   "outputs": [],
   "source": [
    "import pandas as pd\n",
    "from pandas import Series, DataFrame\n",
    "import numpy as np\n",
    "from scipy.stats import mode\n",
    "import csv\n",
    "import matplotlib.dates\n",
    "import matplotlib.pyplot as plt\n",
    "import matplotlib.pylab as pylab\n",
    "import seaborn as sns\n",
    "from datetime import *\n",
    "import matplotlib.pylab as pylab\n",
    "from pylab import *  \n",
    "mpl.rcParams['font.sans-serif'] = ['SimHei']\n",
    "import math\n"
   ]
  },
  {
   "cell_type": "code",
   "execution_count": 135,
   "metadata": {},
   "outputs": [
    {
     "name": "stdout",
     "output_type": "stream",
     "text": [
      "<class 'pandas.core.frame.DataFrame'>\n",
      "RangeIndex: 1209768 entries, 0 to 1209767\n",
      "Data columns (total 3 columns):\n",
      "instance_id        1209768 non-null int64\n",
      "predicted_score    0 non-null float64\n",
      "hour               1209768 non-null int64\n",
      "dtypes: float64(1), int64(2)\n",
      "memory usage: 27.7 MB\n",
      "None\n"
     ]
    }
   ],
   "source": [
    "#导入结果数据\n",
    "test_df = pd.read_csv('../../data/fusai/submit/fusai_b_xgb_5_15_normal.txt', sep=' ')\n",
    "print(test_df.info())\n"
   ]
  },
  {
   "cell_type": "code",
   "execution_count": 136,
   "metadata": {},
   "outputs": [
    {
     "name": "stdout",
     "output_type": "stream",
     "text": [
      "original mean :  nan\n",
      "nan\n"
     ]
    }
   ],
   "source": [
    "#定义调整函数\n",
    "def resultAdjustment(result_df, t):\n",
    "    result_df_temp = result_df.copy()\n",
    "    result_df_temp['x'] = result_df_temp.predicted_score.map(lambda x: -(math.log(((1 - x) / x), math.e)))\n",
    "    result_df_temp['adjust_result'] = result_df_temp.x.map(lambda x: 1 / (1 + math.exp(-(x + t)))) \n",
    "    print(result_df_temp['adjust_result'].mean())\n",
    "    return result_df_temp['adjust_result']\n",
    "\n",
    "print('original mean : ', test_df['predicted_score'].mean())\n",
    "test_df_after = resultAdjustment(test_df, -0.04535)\n"
   ]
  },
  {
   "cell_type": "code",
   "execution_count": 13,
   "metadata": {},
   "outputs": [
    {
     "name": "stdout",
     "output_type": "stream",
     "text": [
      "original 12 mean :  0.04330028352336873\n",
      "0.04264153651193551\n"
     ]
    }
   ],
   "source": [
    "test_df_12 = test_df[['instance_id', 'predicted_score']][test_df.hour == 12]\n",
    "print('original 12 mean : ', test_df_12['predicted_score'].mean())\n",
    "test_df_12_after = resultAdjustment(test_df_12, -0.01663)\n"
   ]
  },
  {
   "cell_type": "code",
   "execution_count": 23,
   "metadata": {},
   "outputs": [
    {
     "name": "stdout",
     "output_type": "stream",
     "text": [
      "original 13 mean :  0.04342423191085969\n",
      "0.040599321360859204\n"
     ]
    }
   ],
   "source": [
    "test_df_13 = test_df[['instance_id', 'predicted_score']][test_df.hour == 13]\n",
    "print('original 13 mean : ', test_df_13['predicted_score'].mean())\n",
    "test_df_13_after = resultAdjustment(test_df_13, -0.07278)\n"
   ]
  },
  {
   "cell_type": "code",
   "execution_count": 33,
   "metadata": {},
   "outputs": [
    {
     "name": "stdout",
     "output_type": "stream",
     "text": [
      "original 14 mean :  0.04291555171833535\n",
      "0.03993034184835272\n"
     ]
    }
   ],
   "source": [
    "test_df_14 = test_df[['instance_id', 'predicted_score']][test_df.hour == 14]\n",
    "print('original 14 mean : ', test_df_14['predicted_score'].mean())\n",
    "test_df_14_after = resultAdjustment(test_df_14, -0.07793)\n"
   ]
  },
  {
   "cell_type": "code",
   "execution_count": 39,
   "metadata": {},
   "outputs": [
    {
     "name": "stdout",
     "output_type": "stream",
     "text": [
      "original 15 mean :  0.043110644950659825\n",
      "0.040100373349413326\n"
     ]
    }
   ],
   "source": [
    "test_df_15 = test_df[['instance_id', 'predicted_score']][test_df.hour == 15]\n",
    "print('original 15 mean : ', test_df_15['predicted_score'].mean())\n",
    "test_df_15_after = resultAdjustment(test_df_15, -0.0782)\n"
   ]
  },
  {
   "cell_type": "code",
   "execution_count": 51,
   "metadata": {},
   "outputs": [
    {
     "name": "stdout",
     "output_type": "stream",
     "text": [
      "original 16 mean :  0.04363853084052036\n",
      "0.03995700063086579\n"
     ]
    }
   ],
   "source": [
    "test_df_16 = test_df[['instance_id', 'predicted_score']][test_df.hour == 16]\n",
    "print('original 16 mean : ', test_df_16['predicted_score'].mean())\n",
    "test_df_16_after = resultAdjustment(test_df_16, -0.09525)\n"
   ]
  },
  {
   "cell_type": "code",
   "execution_count": 61,
   "metadata": {},
   "outputs": [
    {
     "name": "stdout",
     "output_type": "stream",
     "text": [
      "original 17 mean :  0.04431183049832064\n",
      "0.04017765511960413\n"
     ]
    }
   ],
   "source": [
    "test_df_17 = test_df[['instance_id', 'predicted_score']][test_df.hour == 17]\n",
    "print('original 17 mean : ', test_df_17['predicted_score'].mean())\n",
    "test_df_17_after = resultAdjustment(test_df_17, -0.10593)\n"
   ]
  },
  {
   "cell_type": "code",
   "execution_count": 71,
   "metadata": {},
   "outputs": [
    {
     "name": "stdout",
     "output_type": "stream",
     "text": [
      "original 18 mean :  0.044408614088830727\n",
      "0.03995809907208435\n"
     ]
    }
   ],
   "source": [
    "test_df_18 = test_df[['instance_id', 'predicted_score']][test_df.hour == 18]\n",
    "print('original 18 mean : ', test_df_18['predicted_score'].mean())\n",
    "test_df_18_after = resultAdjustment(test_df_18, -0.114245)\n"
   ]
  },
  {
   "cell_type": "code",
   "execution_count": 80,
   "metadata": {},
   "outputs": [
    {
     "name": "stdout",
     "output_type": "stream",
     "text": [
      "original 19 mean :  0.04466484543700406\n",
      "0.039547475392146696\n"
     ]
    }
   ],
   "source": [
    "test_df_19 = test_df[['instance_id', 'predicted_score']][test_df.hour == 19]\n",
    "print('original 19 mean : ', test_df_19['predicted_score'].mean())\n",
    "test_df_19_after = resultAdjustment(test_df_19, -0.1316)\n"
   ]
  },
  {
   "cell_type": "code",
   "execution_count": 90,
   "metadata": {},
   "outputs": [
    {
     "name": "stdout",
     "output_type": "stream",
     "text": [
      "original 20 mean :  0.045180693437555916\n",
      "0.03954244762976713\n"
     ]
    }
   ],
   "source": [
    "test_df_20 = test_df[['instance_id', 'predicted_score']][test_df.hour == 20]\n",
    "print('original 20 mean : ', test_df_20['predicted_score'].mean())\n",
    "test_df_20_after = resultAdjustment(test_df_20, -0.1441)\n"
   ]
  },
  {
   "cell_type": "code",
   "execution_count": 102,
   "metadata": {},
   "outputs": [
    {
     "name": "stdout",
     "output_type": "stream",
     "text": [
      "original 21 mean :  0.045873246541968817\n",
      "0.036749407008989585\n"
     ]
    }
   ],
   "source": [
    "test_df_21 = test_df[['instance_id', 'predicted_score']][test_df.hour == 21]\n",
    "print('original 21 mean : ', test_df_21['predicted_score'].mean())\n",
    "test_df_21_after = resultAdjustment(test_df_21, -0.23928)\n"
   ]
  },
  {
   "cell_type": "code",
   "execution_count": 110,
   "metadata": {},
   "outputs": [
    {
     "name": "stdout",
     "output_type": "stream",
     "text": [
      "original 22 mean :  0.046781344517696284\n",
      "0.03544528775848672\n"
     ]
    }
   ],
   "source": [
    "test_df_22 = test_df[['instance_id', 'predicted_score']][test_df.hour == 22]\n",
    "print('original 22 mean : ', test_df_22['predicted_score'].mean())\n",
    "test_df_22_after = resultAdjustment(test_df_22, -0.29918)\n"
   ]
  },
  {
   "cell_type": "code",
   "execution_count": 118,
   "metadata": {},
   "outputs": [
    {
     "name": "stdout",
     "output_type": "stream",
     "text": [
      "original 23 mean :  0.0483536073384615\n",
      "0.03427002903319926\n"
     ]
    }
   ],
   "source": [
    "test_df_23 = test_df[['instance_id', 'predicted_score']][test_df.hour == 23]\n",
    "print('original 23 mean : ', test_df_23['predicted_score'].mean())\n",
    "test_df_23_after = resultAdjustment(test_df_23, -0.37118)\n"
   ]
  },
  {
   "cell_type": "code",
   "execution_count": 119,
   "metadata": {
    "scrolled": true
   },
   "outputs": [
    {
     "name": "stderr",
     "output_type": "stream",
     "text": [
      "/usr/local/anaconda3/lib/python3.6/site-packages/ipykernel_launcher.py:2: SettingWithCopyWarning: \n",
      "A value is trying to be set on a copy of a slice from a DataFrame\n",
      "\n",
      "See the caveats in the documentation: http://pandas.pydata.org/pandas-docs/stable/indexing.html#indexing-view-versus-copy\n",
      "  \n",
      "/usr/local/anaconda3/lib/python3.6/site-packages/ipykernel_launcher.py:3: SettingWithCopyWarning: \n",
      "A value is trying to be set on a copy of a slice from a DataFrame\n",
      "\n",
      "See the caveats in the documentation: http://pandas.pydata.org/pandas-docs/stable/indexing.html#indexing-view-versus-copy\n",
      "  This is separate from the ipykernel package so we can avoid doing imports until\n",
      "/usr/local/anaconda3/lib/python3.6/site-packages/ipykernel_launcher.py:4: SettingWithCopyWarning: \n",
      "A value is trying to be set on a copy of a slice from a DataFrame\n",
      "\n",
      "See the caveats in the documentation: http://pandas.pydata.org/pandas-docs/stable/indexing.html#indexing-view-versus-copy\n",
      "  after removing the cwd from sys.path.\n",
      "/usr/local/anaconda3/lib/python3.6/site-packages/ipykernel_launcher.py:5: SettingWithCopyWarning: \n",
      "A value is trying to be set on a copy of a slice from a DataFrame\n",
      "\n",
      "See the caveats in the documentation: http://pandas.pydata.org/pandas-docs/stable/indexing.html#indexing-view-versus-copy\n",
      "  \"\"\"\n",
      "/usr/local/anaconda3/lib/python3.6/site-packages/ipykernel_launcher.py:6: SettingWithCopyWarning: \n",
      "A value is trying to be set on a copy of a slice from a DataFrame\n",
      "\n",
      "See the caveats in the documentation: http://pandas.pydata.org/pandas-docs/stable/indexing.html#indexing-view-versus-copy\n",
      "  \n",
      "/usr/local/anaconda3/lib/python3.6/site-packages/ipykernel_launcher.py:7: SettingWithCopyWarning: \n",
      "A value is trying to be set on a copy of a slice from a DataFrame\n",
      "\n",
      "See the caveats in the documentation: http://pandas.pydata.org/pandas-docs/stable/indexing.html#indexing-view-versus-copy\n",
      "  import sys\n",
      "/usr/local/anaconda3/lib/python3.6/site-packages/ipykernel_launcher.py:8: SettingWithCopyWarning: \n",
      "A value is trying to be set on a copy of a slice from a DataFrame\n",
      "\n",
      "See the caveats in the documentation: http://pandas.pydata.org/pandas-docs/stable/indexing.html#indexing-view-versus-copy\n",
      "  \n",
      "/usr/local/anaconda3/lib/python3.6/site-packages/ipykernel_launcher.py:9: SettingWithCopyWarning: \n",
      "A value is trying to be set on a copy of a slice from a DataFrame\n",
      "\n",
      "See the caveats in the documentation: http://pandas.pydata.org/pandas-docs/stable/indexing.html#indexing-view-versus-copy\n",
      "  if __name__ == '__main__':\n",
      "/usr/local/anaconda3/lib/python3.6/site-packages/ipykernel_launcher.py:10: SettingWithCopyWarning: \n",
      "A value is trying to be set on a copy of a slice from a DataFrame\n",
      "\n",
      "See the caveats in the documentation: http://pandas.pydata.org/pandas-docs/stable/indexing.html#indexing-view-versus-copy\n",
      "  # Remove the CWD from sys.path while we load stuff.\n",
      "/usr/local/anaconda3/lib/python3.6/site-packages/ipykernel_launcher.py:11: SettingWithCopyWarning: \n",
      "A value is trying to be set on a copy of a slice from a DataFrame\n",
      "\n",
      "See the caveats in the documentation: http://pandas.pydata.org/pandas-docs/stable/indexing.html#indexing-view-versus-copy\n",
      "  # This is added back by InteractiveShellApp.init_path()\n",
      "/usr/local/anaconda3/lib/python3.6/site-packages/ipykernel_launcher.py:12: SettingWithCopyWarning: \n",
      "A value is trying to be set on a copy of a slice from a DataFrame\n",
      "\n",
      "See the caveats in the documentation: http://pandas.pydata.org/pandas-docs/stable/indexing.html#indexing-view-versus-copy\n",
      "  if sys.path[0] == '':\n",
      "/usr/local/anaconda3/lib/python3.6/site-packages/ipykernel_launcher.py:13: SettingWithCopyWarning: \n",
      "A value is trying to be set on a copy of a slice from a DataFrame\n",
      "\n",
      "See the caveats in the documentation: http://pandas.pydata.org/pandas-docs/stable/indexing.html#indexing-view-versus-copy\n",
      "  del sys.path[0]\n"
     ]
    }
   ],
   "source": [
    "test_df['predicted_score_adjust'] = 0\n",
    "test_df['predicted_score_adjust'][test_df.hour == 12] = test_df_12_after\n",
    "test_df['predicted_score_adjust'][test_df.hour == 13] = test_df_13_after\n",
    "test_df['predicted_score_adjust'][test_df.hour == 14] = test_df_14_after\n",
    "test_df['predicted_score_adjust'][test_df.hour == 15] = test_df_15_after\n",
    "test_df['predicted_score_adjust'][test_df.hour == 16] = test_df_16_after\n",
    "test_df['predicted_score_adjust'][test_df.hour == 17] = test_df_17_after\n",
    "test_df['predicted_score_adjust'][test_df.hour == 18] = test_df_18_after\n",
    "test_df['predicted_score_adjust'][test_df.hour == 19] = test_df_19_after\n",
    "test_df['predicted_score_adjust'][test_df.hour == 20] = test_df_20_after\n",
    "test_df['predicted_score_adjust'][test_df.hour == 21] = test_df_21_after\n",
    "test_df['predicted_score_adjust'][test_df.hour == 22] = test_df_22_after\n",
    "test_df['predicted_score_adjust'][test_df.hour == 23] = test_df_23_after\n",
    "\n"
   ]
  },
  {
   "cell_type": "code",
   "execution_count": 120,
   "metadata": {},
   "outputs": [
    {
     "name": "stdout",
     "output_type": "stream",
     "text": [
      "        instance_id  predicted_score  hour  predicted_score_adjust\n",
      "0    74080508196716         0.096662    17                0.087799\n",
      "1   204576715383250         0.041262    16                0.037655\n",
      "2   339754209266814         0.021544    21                0.017037\n",
      "3  1232471723234702         0.110195    14                0.102783\n",
      "4  1432327895640503         0.031533    21                0.024990\n",
      "5  1582628758469245         0.142089    23                0.102548\n",
      "6  1779564246041746         0.088675    18                0.079866\n",
      "7  1796710634742147         0.073191    17                0.066323\n",
      "8  1842191994190388         0.044776    21                0.035586\n",
      "9  1923760687276623         0.115283    18                0.104133\n",
      "0.03877333411647865\n",
      "1209768\n"
     ]
    }
   ],
   "source": [
    "print(test_df.head(10))\n",
    "print(test_df['predicted_score_adjust'].mean())\n",
    "print(len(test_df))\n"
   ]
  },
  {
   "cell_type": "code",
   "execution_count": 121,
   "metadata": {
    "collapsed": true
   },
   "outputs": [],
   "source": [
    "test_df.drop(['predicted_score'], axis=1, inplace=True)\n",
    "test_df.rename(columns={'predicted_score_adjust' : 'predicted_score'}, inplace=True)\n"
   ]
  },
  {
   "cell_type": "code",
   "execution_count": 132,
   "metadata": {},
   "outputs": [
    {
     "name": "stdout",
     "output_type": "stream",
     "text": [
      "original mean :  0.03877333411647865\n",
      "0.03575739389400053\n"
     ]
    }
   ],
   "source": [
    "print('original mean : ', test_df['predicted_score'].mean())\n",
    "test_df_after = resultAdjustment(test_df, -0.08683)\n"
   ]
  },
  {
   "cell_type": "code",
   "execution_count": 133,
   "metadata": {},
   "outputs": [
    {
     "name": "stdout",
     "output_type": "stream",
     "text": [
      "0.03575739389400053\n",
      "      predicted_score\n",
      "hour                 \n",
      "12           0.039350\n",
      "13           0.037452\n",
      "14           0.036832\n",
      "15           0.036987\n",
      "16           0.036854\n",
      "17           0.037059\n",
      "18           0.036856\n",
      "19           0.036475\n",
      "20           0.036468\n",
      "21           0.033879\n",
      "22           0.032670\n",
      "23           0.031582\n",
      "        instance_id  hour  predicted_score\n",
      "0    74080508196716    17         0.081089\n",
      "1   204576715383250    16         0.034631\n",
      "2   339754209266814    21         0.015642\n",
      "3  1232471723234702    14         0.095047\n",
      "4  1432327895640503    21         0.022959\n",
      "5  1582628758469245    23         0.094828\n",
      "6  1779564246041746    18         0.073714\n",
      "7  1796710634742147    17         0.061144\n",
      "8  1842191994190388    21         0.032724\n",
      "9  1923760687276623    18         0.096307\n"
     ]
    }
   ],
   "source": [
    "test_df['predicted_score'] = test_df_after\n",
    "print(test_df['predicted_score'].mean())\n",
    "\n",
    "test_df_hour_pivot_table = pd.pivot_table(test_df, values=['predicted_score'], index=['hour'], aggfunc=mean)\n",
    "print(test_df_hour_pivot_table)\n",
    "\n",
    "print(test_df.head(10))\n"
   ]
  },
  {
   "cell_type": "code",
   "execution_count": 134,
   "metadata": {
    "collapsed": true
   },
   "outputs": [],
   "source": [
    "# 导出预测结果\n",
    "def exportResult(df, fileName):\n",
    "    df.to_csv('../../data/fusai/submit/%s.txt' % fileName, sep=' ', header=True, index=False)\n",
    "\n",
    "exportResult(test_df[['instance_id', 'predicted_score']], 'fusai_b_xgb_5_15_adjust')\n"
   ]
  },
  {
   "cell_type": "code",
   "execution_count": null,
   "metadata": {
    "collapsed": true
   },
   "outputs": [],
   "source": []
  }
 ],
 "metadata": {
  "kernelspec": {
   "display_name": "Python 3",
   "language": "python",
   "name": "python3"
  },
  "language_info": {
   "codemirror_mode": {
    "name": "ipython",
    "version": 3
   },
   "file_extension": ".py",
   "mimetype": "text/x-python",
   "name": "python",
   "nbconvert_exporter": "python",
   "pygments_lexer": "ipython3",
   "version": "3.6.2"
  }
 },
 "nbformat": 4,
 "nbformat_minor": 2
}
