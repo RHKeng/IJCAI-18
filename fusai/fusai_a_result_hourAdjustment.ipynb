{
 "cells": [
  {
   "cell_type": "code",
   "execution_count": 276,
   "metadata": {
    "collapsed": true
   },
   "outputs": [],
   "source": [
    "import pandas as pd\n",
    "from pandas import Series, DataFrame\n",
    "import numpy as np\n",
    "from scipy.stats import mode\n",
    "import csv\n",
    "import matplotlib.dates\n",
    "import matplotlib.pyplot as plt\n",
    "import matplotlib.pylab as pylab\n",
    "import seaborn as sns\n",
    "from datetime import *\n",
    "import matplotlib.pylab as pylab\n",
    "from pylab import *  \n",
    "mpl.rcParams['font.sans-serif'] = ['SimHei']\n",
    "import math\n"
   ]
  },
  {
   "cell_type": "code",
   "execution_count": 277,
   "metadata": {},
   "outputs": [
    {
     "name": "stdout",
     "output_type": "stream",
     "text": [
      "<class 'pandas.core.frame.DataFrame'>\n",
      "RangeIndex: 519888 entries, 0 to 519887\n",
      "Data columns (total 2 columns):\n",
      "instance_id        519888 non-null int64\n",
      "predicted_score    519888 non-null float64\n",
      "dtypes: float64(1), int64(1)\n",
      "memory usage: 7.9 MB\n",
      "None\n"
     ]
    }
   ],
   "source": [
    "#导入结果数据\n",
    "result_df = pd.read_csv('../../data/fusai/submit/fusai_b_xgb_5_15.txt', sep=' ')\n",
    "print(result_df.info())\n"
   ]
  },
  {
   "cell_type": "code",
   "execution_count": 278,
   "metadata": {},
   "outputs": [
    {
     "name": "stdout",
     "output_type": "stream",
     "text": [
      "<class 'pandas.core.frame.DataFrame'>\n",
      "RangeIndex: 519888 entries, 0 to 519887\n",
      "Data columns (total 30 columns):\n",
      "instance_id                  519888 non-null int64\n",
      "item_id                      519888 non-null int64\n",
      "item_category_list           519888 non-null object\n",
      "item_property_list           519888 non-null object\n",
      "item_brand_id                519888 non-null int64\n",
      "item_city_id                 519888 non-null int64\n",
      "item_price_level             519888 non-null int64\n",
      "item_sales_level             519888 non-null int64\n",
      "item_collected_level         519888 non-null int64\n",
      "item_pv_level                519888 non-null int64\n",
      "user_id                      519888 non-null int64\n",
      "user_gender_id               519888 non-null int64\n",
      "user_age_level               519888 non-null int64\n",
      "user_occupation_id           519888 non-null int64\n",
      "user_star_level              519888 non-null int64\n",
      "context_id                   519888 non-null int64\n",
      "context_timestamp            519888 non-null int64\n",
      "context_page_id              519888 non-null int64\n",
      "predict_category_property    519888 non-null object\n",
      "shop_id                      519888 non-null int64\n",
      "shop_review_num_level        519888 non-null int64\n",
      "shop_review_positive_rate    519888 non-null float64\n",
      "shop_star_level              519888 non-null int64\n",
      "shop_score_service           519888 non-null float64\n",
      "shop_score_delivery          519888 non-null float64\n",
      "shop_score_description       519888 non-null float64\n",
      "date                         519888 non-null datetime64[ns]\n",
      "weekday                      519888 non-null int64\n",
      "day                          519888 non-null int64\n",
      "hour                         519888 non-null int64\n",
      "dtypes: datetime64[ns](1), float64(4), int64(22), object(3)\n",
      "memory usage: 119.0+ MB\n",
      "None\n"
     ]
    }
   ],
   "source": [
    "#导入测试集进行数据处理\n",
    "test_df = pd.read_csv('../../data/round2_ijcai_18_test_a_20180425.txt', sep=' ')\n",
    "\n",
    "test_df['date'] = test_df.context_timestamp.map(lambda x: datetime.datetime.fromtimestamp(x))\n",
    "test_df['weekday'] = test_df['date'].map(lambda x: x.weekday())\n",
    "test_df['day'] = test_df['date'].map(lambda x: x.day)\n",
    "test_df['hour'] = test_df['date'].map(lambda x: x.hour)\n",
    "\n",
    "print(test_df.info())\n"
   ]
  },
  {
   "cell_type": "code",
   "execution_count": 279,
   "metadata": {},
   "outputs": [
    {
     "name": "stdout",
     "output_type": "stream",
     "text": [
      "<class 'pandas.core.frame.DataFrame'>\n",
      "Int64Index: 519888 entries, 0 to 519887\n",
      "Data columns (total 31 columns):\n",
      "instance_id                  519888 non-null int64\n",
      "item_id                      519888 non-null int64\n",
      "item_category_list           519888 non-null object\n",
      "item_property_list           519888 non-null object\n",
      "item_brand_id                519888 non-null int64\n",
      "item_city_id                 519888 non-null int64\n",
      "item_price_level             519888 non-null int64\n",
      "item_sales_level             519888 non-null int64\n",
      "item_collected_level         519888 non-null int64\n",
      "item_pv_level                519888 non-null int64\n",
      "user_id                      519888 non-null int64\n",
      "user_gender_id               519888 non-null int64\n",
      "user_age_level               519888 non-null int64\n",
      "user_occupation_id           519888 non-null int64\n",
      "user_star_level              519888 non-null int64\n",
      "context_id                   519888 non-null int64\n",
      "context_timestamp            519888 non-null int64\n",
      "context_page_id              519888 non-null int64\n",
      "predict_category_property    519888 non-null object\n",
      "shop_id                      519888 non-null int64\n",
      "shop_review_num_level        519888 non-null int64\n",
      "shop_review_positive_rate    519888 non-null float64\n",
      "shop_star_level              519888 non-null int64\n",
      "shop_score_service           519888 non-null float64\n",
      "shop_score_delivery          519888 non-null float64\n",
      "shop_score_description       519888 non-null float64\n",
      "date                         519888 non-null datetime64[ns]\n",
      "weekday                      519888 non-null int64\n",
      "day                          519888 non-null int64\n",
      "hour                         519888 non-null int64\n",
      "predicted_score              519888 non-null float64\n",
      "dtypes: datetime64[ns](1), float64(5), int64(22), object(3)\n",
      "memory usage: 126.9+ MB\n",
      "None\n"
     ]
    }
   ],
   "source": [
    "test_df = pd.merge(test_df, result_df, on=['instance_id'], how='left')\n",
    "print(test_df.info())\n"
   ]
  },
  {
   "cell_type": "code",
   "execution_count": 280,
   "metadata": {},
   "outputs": [
    {
     "name": "stdout",
     "output_type": "stream",
     "text": [
      "original mean :  0.05341672552241463\n",
      "0.05123924248724091\n"
     ]
    }
   ],
   "source": [
    "#定义调整函数\n",
    "def resultAdjustment(result_df, t):\n",
    "    result_df_temp = result_df.copy()\n",
    "    result_df_temp['x'] = result_df_temp.predicted_score.map(lambda x: -(math.log(((1 - x) / x), math.e)))\n",
    "    result_df_temp['adjust_result'] = result_df_temp.x.map(lambda x: 1 / (1 + math.exp(-(x + t)))) \n",
    "    print(result_df_temp['adjust_result'].mean())\n",
    "    return result_df_temp['adjust_result']\n",
    "\n",
    "print('original mean : ', result_df['predicted_score'].mean())\n",
    "result_df_after = resultAdjustment(result_df, -0.04535)\n"
   ]
  },
  {
   "cell_type": "code",
   "execution_count": 286,
   "metadata": {},
   "outputs": [
    {
     "name": "stdout",
     "output_type": "stream",
     "text": [
      "original 12 mean :  0.05283739128288282\n",
      "0.042639124632199966\n"
     ]
    }
   ],
   "source": [
    "test_df_12 = test_df[['instance_id', 'predicted_score']][test_df.hour == 12]\n",
    "print('original 12 mean : ', test_df_12['predicted_score'].mean())\n",
    "test_df_12_after = resultAdjustment(test_df_12, -0.23228)\n"
   ]
  },
  {
   "cell_type": "code",
   "execution_count": 256,
   "metadata": {},
   "outputs": [
    {
     "name": "stdout",
     "output_type": "stream",
     "text": [
      "original 13 mean :  0.05283658133486613\n",
      "0.040599644099692425\n"
     ]
    }
   ],
   "source": [
    "test_df_13 = test_df[['instance_id', 'predicted_score']][test_df.hour == 13]\n",
    "print('original 13 mean : ', test_df_13['predicted_score'].mean())\n",
    "test_df_13_after = resultAdjustment(test_df_13, -0.28441)\n"
   ]
  },
  {
   "cell_type": "code",
   "execution_count": 137,
   "metadata": {},
   "outputs": [
    {
     "name": "stdout",
     "output_type": "stream",
     "text": [
      "original 14 mean :  0.05215652673685003\n",
      "0.03993054077287504\n"
     ]
    }
   ],
   "source": [
    "test_df_14 = test_df[['instance_id', 'predicted_score']][test_df.hour == 14]\n",
    "print('original 14 mean : ', test_df_14['predicted_score'].mean())\n",
    "test_df_14_after = resultAdjustment(test_df_14, -0.2883)\n"
   ]
  },
  {
   "cell_type": "code",
   "execution_count": 153,
   "metadata": {},
   "outputs": [
    {
     "name": "stdout",
     "output_type": "stream",
     "text": [
      "original 15 mean :  0.05200881459591182\n",
      "0.04010094091659781\n"
     ]
    }
   ],
   "source": [
    "test_df_15 = test_df[['instance_id', 'predicted_score']][test_df.hour == 15]\n",
    "print('original 15 mean : ', test_df_15['predicted_score'].mean())\n",
    "test_df_15_after = resultAdjustment(test_df_15, -0.28035)\n"
   ]
  },
  {
   "cell_type": "code",
   "execution_count": 169,
   "metadata": {},
   "outputs": [
    {
     "name": "stdout",
     "output_type": "stream",
     "text": [
      "original 16 mean :  0.05244831926589089\n",
      "0.03995739137131936\n"
     ]
    }
   ],
   "source": [
    "test_df_16 = test_df[['instance_id', 'predicted_score']][test_df.hour == 16]\n",
    "print('original 16 mean : ', test_df_16['predicted_score'].mean())\n",
    "test_df_16_after = resultAdjustment(test_df_16, -0.2932)\n"
   ]
  },
  {
   "cell_type": "code",
   "execution_count": 176,
   "metadata": {},
   "outputs": [
    {
     "name": "stdout",
     "output_type": "stream",
     "text": [
      "original 17 mean :  0.052712468884988185\n",
      "0.04017705459263549\n"
     ]
    }
   ],
   "source": [
    "test_df_17 = test_df[['instance_id', 'predicted_score']][test_df.hour == 17]\n",
    "print('original 17 mean : ', test_df_17['predicted_score'].mean())\n",
    "test_df_17_after = resultAdjustment(test_df_17, -0.292978)\n"
   ]
  },
  {
   "cell_type": "code",
   "execution_count": 195,
   "metadata": {},
   "outputs": [
    {
     "name": "stdout",
     "output_type": "stream",
     "text": [
      "original 18 mean :  0.05296905112289874\n",
      "0.039958673604784285\n"
     ]
    }
   ],
   "source": [
    "test_df_18 = test_df[['instance_id', 'predicted_score']][test_df.hour == 18]\n",
    "print('original 18 mean : ', test_df_18['predicted_score'].mean())\n",
    "test_df_18_after = resultAdjustment(test_df_18, -0.30403)\n"
   ]
  },
  {
   "cell_type": "code",
   "execution_count": 207,
   "metadata": {},
   "outputs": [
    {
     "name": "stdout",
     "output_type": "stream",
     "text": [
      "original 19 mean :  0.05352158145598468\n",
      "0.039547877969990576\n"
     ]
    }
   ],
   "source": [
    "test_df_19 = test_df[['instance_id', 'predicted_score']][test_df.hour == 19]\n",
    "print('original 19 mean : ', test_df_19['predicted_score'].mean())\n",
    "test_df_19_after = resultAdjustment(test_df_19, -0.32645)\n"
   ]
  },
  {
   "cell_type": "code",
   "execution_count": 219,
   "metadata": {},
   "outputs": [
    {
     "name": "stdout",
     "output_type": "stream",
     "text": [
      "original 20 mean :  0.05371616541083388\n",
      "0.03954216149744848\n"
     ]
    }
   ],
   "source": [
    "test_df_20 = test_df[['instance_id', 'predicted_score']][test_df.hour == 20]\n",
    "print('original 20 mean : ', test_df_20['predicted_score'].mean())\n",
    "test_df_20_after = resultAdjustment(test_df_20, -0.330275)\n"
   ]
  },
  {
   "cell_type": "code",
   "execution_count": 228,
   "metadata": {},
   "outputs": [
    {
     "name": "stdout",
     "output_type": "stream",
     "text": [
      "original 21 mean :  0.05407431193918088\n",
      "0.03674813674846068\n"
     ]
    }
   ],
   "source": [
    "test_df_21 = test_df[['instance_id', 'predicted_score']][test_df.hour == 21]\n",
    "print('original 21 mean : ', test_df_21['predicted_score'].mean())\n",
    "test_df_21_after = resultAdjustment(test_df_21, -0.4157)\n"
   ]
  },
  {
   "cell_type": "code",
   "execution_count": 241,
   "metadata": {},
   "outputs": [
    {
     "name": "stdout",
     "output_type": "stream",
     "text": [
      "original 22 mean :  0.054842371964653684\n",
      "0.03544453089104816\n"
     ]
    }
   ],
   "source": [
    "test_df_22 = test_df[['instance_id', 'predicted_score']][test_df.hour == 22]\n",
    "print('original 22 mean : ', test_df_22['predicted_score'].mean())\n",
    "test_df_22_after = resultAdjustment(test_df_22, -0.4696)\n"
   ]
  },
  {
   "cell_type": "code",
   "execution_count": 252,
   "metadata": {},
   "outputs": [
    {
     "name": "stdout",
     "output_type": "stream",
     "text": [
      "original 23 mean :  0.05520187238066064\n",
      "0.03427046545861525\n"
     ]
    }
   ],
   "source": [
    "test_df_23 = test_df[['instance_id', 'predicted_score']][test_df.hour == 23]\n",
    "print('original 23 mean : ', test_df_23['predicted_score'].mean())\n",
    "test_df_23_after = resultAdjustment(test_df_23, -0.5128)\n"
   ]
  },
  {
   "cell_type": "code",
   "execution_count": 257,
   "metadata": {},
   "outputs": [
    {
     "name": "stderr",
     "output_type": "stream",
     "text": [
      "/usr/local/anaconda3/lib/python3.6/site-packages/ipykernel_launcher.py:2: SettingWithCopyWarning: \n",
      "A value is trying to be set on a copy of a slice from a DataFrame\n",
      "\n",
      "See the caveats in the documentation: http://pandas.pydata.org/pandas-docs/stable/indexing.html#indexing-view-versus-copy\n",
      "  \n",
      "/usr/local/anaconda3/lib/python3.6/site-packages/ipykernel_launcher.py:3: SettingWithCopyWarning: \n",
      "A value is trying to be set on a copy of a slice from a DataFrame\n",
      "\n",
      "See the caveats in the documentation: http://pandas.pydata.org/pandas-docs/stable/indexing.html#indexing-view-versus-copy\n",
      "  This is separate from the ipykernel package so we can avoid doing imports until\n",
      "/usr/local/anaconda3/lib/python3.6/site-packages/ipykernel_launcher.py:4: SettingWithCopyWarning: \n",
      "A value is trying to be set on a copy of a slice from a DataFrame\n",
      "\n",
      "See the caveats in the documentation: http://pandas.pydata.org/pandas-docs/stable/indexing.html#indexing-view-versus-copy\n",
      "  after removing the cwd from sys.path.\n",
      "/usr/local/anaconda3/lib/python3.6/site-packages/ipykernel_launcher.py:5: SettingWithCopyWarning: \n",
      "A value is trying to be set on a copy of a slice from a DataFrame\n",
      "\n",
      "See the caveats in the documentation: http://pandas.pydata.org/pandas-docs/stable/indexing.html#indexing-view-versus-copy\n",
      "  \"\"\"\n",
      "/usr/local/anaconda3/lib/python3.6/site-packages/ipykernel_launcher.py:6: SettingWithCopyWarning: \n",
      "A value is trying to be set on a copy of a slice from a DataFrame\n",
      "\n",
      "See the caveats in the documentation: http://pandas.pydata.org/pandas-docs/stable/indexing.html#indexing-view-versus-copy\n",
      "  \n",
      "/usr/local/anaconda3/lib/python3.6/site-packages/ipykernel_launcher.py:7: SettingWithCopyWarning: \n",
      "A value is trying to be set on a copy of a slice from a DataFrame\n",
      "\n",
      "See the caveats in the documentation: http://pandas.pydata.org/pandas-docs/stable/indexing.html#indexing-view-versus-copy\n",
      "  import sys\n",
      "/usr/local/anaconda3/lib/python3.6/site-packages/ipykernel_launcher.py:8: SettingWithCopyWarning: \n",
      "A value is trying to be set on a copy of a slice from a DataFrame\n",
      "\n",
      "See the caveats in the documentation: http://pandas.pydata.org/pandas-docs/stable/indexing.html#indexing-view-versus-copy\n",
      "  \n",
      "/usr/local/anaconda3/lib/python3.6/site-packages/ipykernel_launcher.py:9: SettingWithCopyWarning: \n",
      "A value is trying to be set on a copy of a slice from a DataFrame\n",
      "\n",
      "See the caveats in the documentation: http://pandas.pydata.org/pandas-docs/stable/indexing.html#indexing-view-versus-copy\n",
      "  if __name__ == '__main__':\n",
      "/usr/local/anaconda3/lib/python3.6/site-packages/ipykernel_launcher.py:10: SettingWithCopyWarning: \n",
      "A value is trying to be set on a copy of a slice from a DataFrame\n",
      "\n",
      "See the caveats in the documentation: http://pandas.pydata.org/pandas-docs/stable/indexing.html#indexing-view-versus-copy\n",
      "  # Remove the CWD from sys.path while we load stuff.\n",
      "/usr/local/anaconda3/lib/python3.6/site-packages/ipykernel_launcher.py:11: SettingWithCopyWarning: \n",
      "A value is trying to be set on a copy of a slice from a DataFrame\n",
      "\n",
      "See the caveats in the documentation: http://pandas.pydata.org/pandas-docs/stable/indexing.html#indexing-view-versus-copy\n",
      "  # This is added back by InteractiveShellApp.init_path()\n",
      "/usr/local/anaconda3/lib/python3.6/site-packages/ipykernel_launcher.py:12: SettingWithCopyWarning: \n",
      "A value is trying to be set on a copy of a slice from a DataFrame\n",
      "\n",
      "See the caveats in the documentation: http://pandas.pydata.org/pandas-docs/stable/indexing.html#indexing-view-versus-copy\n",
      "  if sys.path[0] == '':\n",
      "/usr/local/anaconda3/lib/python3.6/site-packages/ipykernel_launcher.py:13: SettingWithCopyWarning: \n",
      "A value is trying to be set on a copy of a slice from a DataFrame\n",
      "\n",
      "See the caveats in the documentation: http://pandas.pydata.org/pandas-docs/stable/indexing.html#indexing-view-versus-copy\n",
      "  del sys.path[0]\n"
     ]
    }
   ],
   "source": [
    "test_df['predicted_score_adjust'] = 0\n",
    "test_df['predicted_score_adjust'][test_df.hour == 12] = test_df_12_after\n",
    "test_df['predicted_score_adjust'][test_df.hour == 13] = test_df_13_after\n",
    "test_df['predicted_score_adjust'][test_df.hour == 14] = test_df_14_after\n",
    "test_df['predicted_score_adjust'][test_df.hour == 15] = test_df_15_after\n",
    "test_df['predicted_score_adjust'][test_df.hour == 16] = test_df_16_after\n",
    "test_df['predicted_score_adjust'][test_df.hour == 17] = test_df_17_after\n",
    "test_df['predicted_score_adjust'][test_df.hour == 18] = test_df_18_after\n",
    "test_df['predicted_score_adjust'][test_df.hour == 19] = test_df_19_after\n",
    "test_df['predicted_score_adjust'][test_df.hour == 20] = test_df_20_after\n",
    "test_df['predicted_score_adjust'][test_df.hour == 21] = test_df_21_after\n",
    "test_df['predicted_score_adjust'][test_df.hour == 22] = test_df_22_after\n",
    "test_df['predicted_score_adjust'][test_df.hour == 23] = test_df_23_after\n",
    "\n"
   ]
  },
  {
   "cell_type": "code",
   "execution_count": 271,
   "metadata": {},
   "outputs": [
    {
     "name": "stdout",
     "output_type": "stream",
     "text": [
      "0.03427046545861525\n"
     ]
    }
   ],
   "source": [
    "print(test_df['predicted_score_adjust'][test_df.hour == 23].mean())\n"
   ]
  },
  {
   "cell_type": "code",
   "execution_count": 274,
   "metadata": {},
   "outputs": [
    {
     "name": "stdout",
     "output_type": "stream",
     "text": [
      "        instance_id  predicted_score\n",
      "0    93294255633855         0.038887\n",
      "1   558322259509454         0.007602\n",
      "2   594573634113186         0.019812\n",
      "3   667327653735176         0.033166\n",
      "4   697732672924394         0.025713\n",
      "5  1467522731866334         0.056775\n",
      "6  2564345731136577         0.046818\n",
      "7  2635932702100660         0.021763\n",
      "8  3208825666465730         0.026728\n",
      "9  3654424870386483         0.044079\n",
      "0.03876910738948676\n",
      "519888\n"
     ]
    }
   ],
   "source": [
    "result_df = result_df[['instance_id']]\n",
    "result_df = pd.merge(result_df, test_df[['instance_id', 'predicted_score_adjust']], on=['instance_id'], how='left')\n",
    "result_df.rename(columns={'predicted_score_adjust':'predicted_score'}, inplace=True)\n",
    "print(result_df.head(10))\n",
    "print(result_df['predicted_score'].mean())\n",
    "print(len(result_df))\n"
   ]
  },
  {
   "cell_type": "code",
   "execution_count": 275,
   "metadata": {
    "collapsed": true
   },
   "outputs": [],
   "source": [
    "# 导出预测结果\n",
    "def exportResult(df, fileName):\n",
    "    df.to_csv('../../data/fusai/submit/%s.txt' % fileName, sep=' ', header=True, index=False)\n",
    "\n",
    "exportResult(result_df[['instance_id', 'predicted_score']], 'fusai_xgb_5_7_wen_adjust')\n"
   ]
  },
  {
   "cell_type": "code",
   "execution_count": null,
   "metadata": {
    "collapsed": true
   },
   "outputs": [],
   "source": []
  }
 ],
 "metadata": {
  "kernelspec": {
   "display_name": "Python 3",
   "language": "python",
   "name": "python3"
  },
  "language_info": {
   "codemirror_mode": {
    "name": "ipython",
    "version": 3
   },
   "file_extension": ".py",
   "mimetype": "text/x-python",
   "name": "python",
   "nbconvert_exporter": "python",
   "pygments_lexer": "ipython3",
   "version": "3.6.2"
  }
 },
 "nbformat": 4,
 "nbformat_minor": 2
}
