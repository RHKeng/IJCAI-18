{
 "cells": [
  {
   "cell_type": "code",
   "execution_count": 1,
   "metadata": {
    "collapsed": true
   },
   "outputs": [],
   "source": [
    "import pandas as pd\n",
    "from pandas import Series, DataFrame\n",
    "import numpy as np\n",
    "from scipy.stats import mode\n",
    "import csv\n",
    "import matplotlib.dates\n",
    "import matplotlib.pyplot as plt\n",
    "import matplotlib.pylab as pylab\n",
    "import seaborn as sns\n",
    "from datetime import *\n",
    "import matplotlib.pylab as pylab\n",
    "from pylab import *  \n",
    "mpl.rcParams['font.sans-serif'] = ['SimHei']"
   ]
  },
  {
   "cell_type": "code",
   "execution_count": 2,
   "metadata": {},
   "outputs": [
    {
     "name": "stdout",
     "output_type": "stream",
     "text": [
      "<class 'pandas.core.frame.DataFrame'>\n",
      "RangeIndex: 10432036 entries, 0 to 10432035\n",
      "Data columns (total 27 columns):\n",
      "instance_id                  int64\n",
      "item_id                      int64\n",
      "item_category_list           object\n",
      "item_property_list           object\n",
      "item_brand_id                int64\n",
      "item_city_id                 int64\n",
      "item_price_level             int64\n",
      "item_sales_level             int64\n",
      "item_collected_level         int64\n",
      "item_pv_level                int64\n",
      "user_id                      int64\n",
      "user_gender_id               int64\n",
      "user_age_level               int64\n",
      "user_occupation_id           int64\n",
      "user_star_level              int64\n",
      "context_id                   int64\n",
      "context_timestamp            int64\n",
      "context_page_id              int64\n",
      "predict_category_property    object\n",
      "shop_id                      int64\n",
      "shop_review_num_level        int64\n",
      "shop_review_positive_rate    float64\n",
      "shop_star_level              int64\n",
      "shop_score_service           float64\n",
      "shop_score_delivery          float64\n",
      "shop_score_description       float64\n",
      "is_trade                     int64\n",
      "dtypes: float64(4), int64(20), object(3)\n",
      "memory usage: 2.1+ GB\n",
      "None\n"
     ]
    }
   ],
   "source": [
    "#导入训练数据\n",
    "train_df = pd.read_csv('~/yuna/alimama/data/round2_train.txt', sep=' ')\n",
    "print(train_df.info())\n"
   ]
  },
  {
   "cell_type": "code",
   "execution_count": 3,
   "metadata": {
    "collapsed": true
   },
   "outputs": [],
   "source": [
    "train_df['date'] = train_df.context_timestamp.map(lambda x: datetime.datetime.fromtimestamp(x))\n",
    "train_df['weekday'] = train_df['date'].map(lambda x: x.weekday())\n",
    "train_df['day'] = train_df['date'].map(lambda x: x.day)\n",
    "train_df['hour'] = train_df['date'].map(lambda x: x.hour)\n"
   ]
  },
  {
   "cell_type": "code",
   "execution_count": 4,
   "metadata": {},
   "outputs": [
    {
     "name": "stdout",
     "output_type": "stream",
     "text": [
      "train_df_1 len :  6220199\n",
      "train_df_2 len :  3134662\n",
      "train_df_3 len :  1077175\n"
     ]
    }
   ],
   "source": [
    "#初步对数据集进行划分，31号到4号为训练集1,5号和6号为训练集2,7号为训练集3\n",
    "train_df_1 = train_df[(train_df.day == 31) | (train_df.day <= 4)]\n",
    "print('train_df_1 len : ', len(train_df_1))\n",
    "\n",
    "train_df_2 = train_df[(train_df.day == 5) | (train_df.day == 6)]\n",
    "print('train_df_2 len : ', len(train_df_2))\n",
    "\n",
    "train_df_3 = train_df[(train_df.day == 7)]\n",
    "print('train_df_3 len : ', len(train_df_3))\n"
   ]
  },
  {
   "cell_type": "code",
   "execution_count": 5,
   "metadata": {
    "collapsed": true
   },
   "outputs": [],
   "source": [
    "# 导出训练集划分结果\n",
    "def exportResult(df, fileName):\n",
    "    df.to_csv('~/kengkeng/alimama/data/%s.csv' % fileName, header=True, index=False)\n",
    "    \n",
    "exportResult(train_df_1, 'train_df_1')\n",
    "exportResult(train_df_2, 'train_df_2')\n",
    "exportResult(train_df_3, 'train_df_3')\n"
   ]
  },
  {
   "cell_type": "code",
   "execution_count": null,
   "metadata": {
    "collapsed": true
   },
   "outputs": [],
   "source": []
  }
 ],
 "metadata": {
  "kernelspec": {
   "display_name": "Python 3",
   "language": "python",
   "name": "python3"
  },
  "language_info": {
   "codemirror_mode": {
    "name": "ipython",
    "version": 3
   },
   "file_extension": ".py",
   "mimetype": "text/x-python",
   "name": "python",
   "nbconvert_exporter": "python",
   "pygments_lexer": "ipython3",
   "version": "3.6.1"
  }
 },
 "nbformat": 4,
 "nbformat_minor": 2
}
