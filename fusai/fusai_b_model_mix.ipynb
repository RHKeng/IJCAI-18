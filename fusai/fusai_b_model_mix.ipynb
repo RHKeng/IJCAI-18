{
 "cells": [
  {
   "cell_type": "code",
   "execution_count": 14,
   "metadata": {
    "collapsed": true
   },
   "outputs": [],
   "source": [
    "import pandas as pd\n",
    "from pandas import Series, DataFrame\n",
    "import numpy as np\n",
    "from scipy.stats import mode\n",
    "import csv\n",
    "import matplotlib.dates\n",
    "import matplotlib.pyplot as plt\n",
    "import matplotlib.pylab as pylab\n",
    "import seaborn as sns\n",
    "from datetime import *\n",
    "import matplotlib.pylab as pylab\n",
    "from pylab import *  \n",
    "mpl.rcParams['font.sans-serif'] = ['SimHei']\n",
    "import math"
   ]
  },
  {
   "cell_type": "code",
   "execution_count": 15,
   "metadata": {},
   "outputs": [
    {
     "name": "stdout",
     "output_type": "stream",
     "text": [
      "<class 'pandas.core.frame.DataFrame'>\n",
      "RangeIndex: 1209768 entries, 0 to 1209767\n",
      "Data columns (total 2 columns):\n",
      "instance_id        1209768 non-null int64\n",
      "predicted_score    1209768 non-null float64\n",
      "dtypes: float64(1), int64(1)\n",
      "memory usage: 18.5 MB\n",
      "None\n"
     ]
    }
   ],
   "source": [
    "#导入结果数据\n",
    "test_df_1 = pd.read_csv('../../data/fusai/submit/xgboost2B_5_14_adjust.txt', sep=' ')\n",
    "print(test_df_1.info())\n"
   ]
  },
  {
   "cell_type": "code",
   "execution_count": 16,
   "metadata": {},
   "outputs": [
    {
     "name": "stdout",
     "output_type": "stream",
     "text": [
      "<class 'pandas.core.frame.DataFrame'>\n",
      "RangeIndex: 1209768 entries, 0 to 1209767\n",
      "Data columns (total 2 columns):\n",
      "instance_id        1209768 non-null int64\n",
      "predicted_score    1209768 non-null float64\n",
      "dtypes: float64(1), int64(1)\n",
      "memory usage: 18.5 MB\n",
      "None\n"
     ]
    }
   ],
   "source": [
    "#导入结果数据\n",
    "test_df_2 = pd.read_csv('../../data/fusai/submit/fusai_b_xgb_5_12_adjust.txt', sep=' ')\n",
    "print(test_df_2.info())\n"
   ]
  },
  {
   "cell_type": "code",
   "execution_count": 17,
   "metadata": {},
   "outputs": [
    {
     "name": "stdout",
     "output_type": "stream",
     "text": [
      "<class 'pandas.core.frame.DataFrame'>\n",
      "RangeIndex: 1209768 entries, 0 to 1209767\n",
      "Data columns (total 2 columns):\n",
      "instance_id        1209768 non-null int64\n",
      "predicted_score    1209768 non-null float64\n",
      "dtypes: float64(1), int64(1)\n",
      "memory usage: 18.5 MB\n",
      "None\n"
     ]
    }
   ],
   "source": [
    "#导入结果数据\n",
    "test_df_3 = pd.read_csv('../../data/fusai/submit/fusai_b_xgb_5_14_normal_adjust.txt', sep=' ')\n",
    "print(test_df_3.info())\n"
   ]
  },
  {
   "cell_type": "code",
   "execution_count": 18,
   "metadata": {},
   "outputs": [
    {
     "name": "stdout",
     "output_type": "stream",
     "text": [
      "<class 'pandas.core.frame.DataFrame'>\n",
      "RangeIndex: 1209768 entries, 0 to 1209767\n",
      "Data columns (total 2 columns):\n",
      "instance_id        1209768 non-null int64\n",
      "predicted_score    1209768 non-null float64\n",
      "dtypes: float64(1), int64(1)\n",
      "memory usage: 18.5 MB\n",
      "None\n"
     ]
    }
   ],
   "source": [
    "#导入结果数据\n",
    "test_df_4 = pd.read_csv('../../data/fusai/submit/xgboost2B_add_normal_hashour_after_lake_5_14_9_all.txt', sep=' ')\n",
    "print(test_df_4.info())\n"
   ]
  },
  {
   "cell_type": "code",
   "execution_count": 19,
   "metadata": {},
   "outputs": [
    {
     "name": "stdout",
     "output_type": "stream",
     "text": [
      "<class 'pandas.core.frame.DataFrame'>\n",
      "RangeIndex: 1209768 entries, 0 to 1209767\n",
      "Data columns (total 2 columns):\n",
      "instance_id          1209768 non-null int64\n",
      "predicted_score_1    1209768 non-null float64\n",
      "dtypes: float64(1), int64(1)\n",
      "memory usage: 18.5 MB\n",
      "None\n"
     ]
    }
   ],
   "source": [
    "test_df_1.rename(columns={'predicted_score':'predicted_score_1'},inplace=True)\n",
    "test_df_2.rename(columns={'predicted_score':'predicted_score_2'},inplace=True)\n",
    "test_df_3.rename(columns={'predicted_score':'predicted_score_3'},inplace=True)\n",
    "test_df_4.rename(columns={'predicted_score':'predicted_score_4'},inplace=True)\n",
    "print(test_df_1.info())\n"
   ]
  },
  {
   "cell_type": "code",
   "execution_count": 20,
   "metadata": {},
   "outputs": [
    {
     "name": "stdout",
     "output_type": "stream",
     "text": [
      "<class 'pandas.core.frame.DataFrame'>\n",
      "Int64Index: 1209768 entries, 0 to 1209767\n",
      "Data columns (total 3 columns):\n",
      "instance_id          1209768 non-null int64\n",
      "predicted_score_1    1209768 non-null float64\n",
      "predicted_score_2    1209768 non-null float64\n",
      "dtypes: float64(2), int64(1)\n",
      "memory usage: 36.9 MB\n",
      "None\n"
     ]
    }
   ],
   "source": [
    "test_df = pd.merge(test_df_1, test_df_2, on=['instance_id'], how='left')\n",
    "print(test_df.info())\n"
   ]
  },
  {
   "cell_type": "code",
   "execution_count": 21,
   "metadata": {},
   "outputs": [
    {
     "name": "stdout",
     "output_type": "stream",
     "text": [
      "<class 'pandas.core.frame.DataFrame'>\n",
      "Int64Index: 1209768 entries, 0 to 1209767\n",
      "Data columns (total 5 columns):\n",
      "instance_id          1209768 non-null int64\n",
      "predicted_score_1    1209768 non-null float64\n",
      "predicted_score_2    1209768 non-null float64\n",
      "predicted_score_3    1209768 non-null float64\n",
      "predicted_score_4    1209768 non-null float64\n",
      "dtypes: float64(4), int64(1)\n",
      "memory usage: 55.4 MB\n",
      "None\n"
     ]
    }
   ],
   "source": [
    "test_df = pd.merge(test_df, test_df_3, on=['instance_id'], how='left')\n",
    "test_df = pd.merge(test_df, test_df_4, on=['instance_id'], how='left')\n",
    "print(test_df.info())\n"
   ]
  },
  {
   "cell_type": "code",
   "execution_count": 22,
   "metadata": {},
   "outputs": [
    {
     "name": "stdout",
     "output_type": "stream",
     "text": [
      "<class 'pandas.core.frame.DataFrame'>\n",
      "Int64Index: 1209768 entries, 0 to 1209767\n",
      "Data columns (total 6 columns):\n",
      "instance_id          1209768 non-null int64\n",
      "predicted_score_1    1209768 non-null float64\n",
      "predicted_score_2    1209768 non-null float64\n",
      "predicted_score_3    1209768 non-null float64\n",
      "predicted_score_4    1209768 non-null float64\n",
      "predicted_score      1209768 non-null float64\n",
      "dtypes: float64(5), int64(1)\n",
      "memory usage: 64.6 MB\n",
      "None\n"
     ]
    }
   ],
   "source": [
    "test_df['predicted_score'] = test_df['predicted_score_1'] * 0.4 + test_df['predicted_score_2'] * 0.3 + test_df['predicted_score_3'] * 0.2 + test_df['predicted_score_4'] * 0.1\n",
    "print(test_df.info())\n"
   ]
  },
  {
   "cell_type": "code",
   "execution_count": 27,
   "metadata": {},
   "outputs": [
    {
     "name": "stdout",
     "output_type": "stream",
     "text": [
      "          instance_id  predicted_score_1  predicted_score_2  \\\n",
      "0      74080508196716           0.093272           0.086166   \n",
      "1     204576715383250           0.030375           0.031284   \n",
      "2     339754209266814           0.014833           0.017433   \n",
      "3    1232471723234702           0.089755           0.096177   \n",
      "4    1432327895640503           0.033690           0.023068   \n",
      "5    1582628758469245           0.033487           0.088141   \n",
      "6    1779564246041746           0.066899           0.074251   \n",
      "7    1796710634742147           0.054847           0.058083   \n",
      "8    1842191994190388           0.023384           0.032320   \n",
      "9    1923760687276623           0.108135           0.095461   \n",
      "10   1956188429073088           0.135204           0.125827   \n",
      "11   1974766335332336           0.048967           0.050641   \n",
      "12   1992296227121063           0.079760           0.069037   \n",
      "13   2124151606258262           0.116194           0.107352   \n",
      "14   2167716169436024           0.070490           0.068861   \n",
      "15   2294305531900826           0.027117           0.027303   \n",
      "16   2405066067687729           0.021901           0.016871   \n",
      "17   2442969857166406           0.001049           0.001869   \n",
      "18   2629596950243581           0.032639           0.028136   \n",
      "19   2641966741217102           0.009421           0.010232   \n",
      "20   2687080396763390           0.090117           0.082681   \n",
      "21   2747339894219915           0.062371           0.067617   \n",
      "22   2757841123659489           0.036981           0.041784   \n",
      "23   2849451334116488           0.030460           0.026799   \n",
      "24   2991213686800450           0.020956           0.017977   \n",
      "25   3009644280742218           0.031867           0.014866   \n",
      "26   3033622876259103           0.032108           0.032694   \n",
      "27   3142994339577478           0.034208           0.029155   \n",
      "28   3334734651756880           0.005285           0.013679   \n",
      "29   3360200042613830           0.013282           0.012572   \n",
      "..                ...                ...                ...   \n",
      "70  10142899201791253           0.011551           0.049540   \n",
      "71  10407431237964024           0.007402           0.005552   \n",
      "72  10609052130169968           0.065822           0.058793   \n",
      "73  10621276885359723           0.018649           0.020463   \n",
      "74  11202667921149250           0.031188           0.023306   \n",
      "75  11247203345512446           0.008195           0.006720   \n",
      "76  11252745489945076           0.032761           0.033660   \n",
      "77  11859397812939910           0.038938           0.035735   \n",
      "78  12025606341465301           0.018539           0.011589   \n",
      "79  12109731575237638           0.069461           0.113552   \n",
      "80  12226930582218898           0.065988           0.065974   \n",
      "81  12649740640092754           0.027062           0.025296   \n",
      "82  12704733927221807           0.065849           0.054791   \n",
      "83  12881047011737854           0.031094           0.022267   \n",
      "84  12881346144088543           0.008696           0.017533   \n",
      "85  13046815534551198           0.012465           0.015463   \n",
      "86  13872455320069919           0.114738           0.125224   \n",
      "87  13898011755923420           0.011662           0.007765   \n",
      "88  13957317221554414           0.057314           0.048674   \n",
      "89  14092461097470324           0.006473           0.008292   \n",
      "90  14172853295741180           0.030166           0.015662   \n",
      "91  14528442212090101           0.119811           0.145391   \n",
      "92  15028151828262715           0.023496           0.022752   \n",
      "93  15051413408644431           0.020464           0.020488   \n",
      "94  15112257094763581           0.042323           0.039674   \n",
      "95  15219133798392486           0.049853           0.045550   \n",
      "96  15257942169151751           0.058195           0.047608   \n",
      "97  15513229240461511           0.066681           0.059752   \n",
      "98  15529946207208842           0.004737           0.005578   \n",
      "99  15710160428170232           0.151829           0.094671   \n",
      "\n",
      "    predicted_score_3  predicted_score_4  predicted_score  \n",
      "0            0.083822           0.075534         0.087476  \n",
      "1            0.033271           0.035311         0.031721  \n",
      "2            0.015837           0.015888         0.015919  \n",
      "3            0.104424           0.091771         0.094817  \n",
      "4            0.021358           0.034184         0.028086  \n",
      "5            0.108078           0.038666         0.065319  \n",
      "6            0.076562           0.063186         0.070666  \n",
      "7            0.059337           0.064822         0.057713  \n",
      "8            0.034078           0.026760         0.028541  \n",
      "9            0.097644           0.115181         0.102939  \n",
      "10           0.130471           0.141825         0.132106  \n",
      "11           0.052980           0.051005         0.050476  \n",
      "12           0.079592           0.069026         0.075436  \n",
      "13           0.104213           0.117055         0.111232  \n",
      "14           0.078264           0.068722         0.071380  \n",
      "15           0.023888           0.030973         0.026913  \n",
      "16           0.015874           0.023079         0.019304  \n",
      "17           0.001277           0.001076         0.001343  \n",
      "18           0.027320           0.029905         0.029951  \n",
      "19           0.010344           0.008684         0.009775  \n",
      "20           0.074402           0.104670         0.086199  \n",
      "21           0.078740           0.057743         0.066756  \n",
      "22           0.040750           0.038715         0.039349  \n",
      "23           0.024896           0.027674         0.027971  \n",
      "24           0.014237           0.016474         0.018270  \n",
      "25           0.012289           0.031471         0.022811  \n",
      "26           0.030397           0.034477         0.032179  \n",
      "27           0.023727           0.024082         0.029583  \n",
      "28           0.013218           0.004533         0.009315  \n",
      "29           0.012853           0.013236         0.012978  \n",
      "..                ...                ...              ...  \n",
      "70           0.051518           0.012868         0.031073  \n",
      "71           0.005412           0.005733         0.006282  \n",
      "72           0.056911           0.060818         0.061431  \n",
      "73           0.024899           0.016950         0.020273  \n",
      "74           0.027369           0.025024         0.027443  \n",
      "75           0.006325           0.008308         0.007390  \n",
      "76           0.031463           0.030768         0.032572  \n",
      "77           0.034696           0.038431         0.037078  \n",
      "78           0.010509           0.017521         0.014746  \n",
      "79           0.141390           0.094851         0.099613  \n",
      "80           0.069138           0.062919         0.066307  \n",
      "81           0.027830           0.029524         0.026932  \n",
      "82           0.058194           0.070529         0.061469  \n",
      "83           0.020371           0.031351         0.026327  \n",
      "84           0.015305           0.008792         0.012679  \n",
      "85           0.014081           0.010442         0.013485  \n",
      "86           0.128703           0.116986         0.120902  \n",
      "87           0.006652           0.010762         0.009401  \n",
      "88           0.045161           0.052576         0.051817  \n",
      "89           0.010113           0.006246         0.007724  \n",
      "90           0.018903           0.024897         0.023035  \n",
      "91           0.132912           0.120421         0.130166  \n",
      "92           0.018500           0.031053         0.023029  \n",
      "93           0.021174           0.021322         0.020699  \n",
      "94           0.035322           0.041475         0.040043  \n",
      "95           0.046524           0.048220         0.047733  \n",
      "96           0.045171           0.054690         0.052063  \n",
      "97           0.059028           0.074553         0.063859  \n",
      "98           0.004382           0.003370         0.004781  \n",
      "99           0.106712           0.148533         0.125329  \n",
      "\n",
      "[100 rows x 6 columns]\n"
     ]
    }
   ],
   "source": [
    "print(test_df.head(100))\n"
   ]
  },
  {
   "cell_type": "code",
   "execution_count": 28,
   "metadata": {},
   "outputs": [
    {
     "name": "stdout",
     "output_type": "stream",
     "text": [
      "    predicted_score_1  predicted_score_4\n",
      "0            0.093272           0.075534\n",
      "1            0.030375           0.035311\n",
      "2            0.014833           0.015888\n",
      "3            0.089755           0.091771\n",
      "4            0.033690           0.034184\n",
      "5            0.033487           0.038666\n",
      "6            0.066899           0.063186\n",
      "7            0.054847           0.064822\n",
      "8            0.023384           0.026760\n",
      "9            0.108135           0.115181\n",
      "10           0.135204           0.141825\n",
      "11           0.048967           0.051005\n",
      "12           0.079760           0.069026\n",
      "13           0.116194           0.117055\n",
      "14           0.070490           0.068722\n",
      "15           0.027117           0.030973\n",
      "16           0.021901           0.023079\n",
      "17           0.001049           0.001076\n",
      "18           0.032639           0.029905\n",
      "19           0.009421           0.008684\n",
      "20           0.090117           0.104670\n",
      "21           0.062371           0.057743\n",
      "22           0.036981           0.038715\n",
      "23           0.030460           0.027674\n",
      "24           0.020956           0.016474\n",
      "25           0.031867           0.031471\n",
      "26           0.032108           0.034477\n",
      "27           0.034208           0.024082\n",
      "28           0.005285           0.004533\n",
      "29           0.013282           0.013236\n",
      "..                ...                ...\n",
      "70           0.011551           0.012868\n",
      "71           0.007402           0.005733\n",
      "72           0.065822           0.060818\n",
      "73           0.018649           0.016950\n",
      "74           0.031188           0.025024\n",
      "75           0.008195           0.008308\n",
      "76           0.032761           0.030768\n",
      "77           0.038938           0.038431\n",
      "78           0.018539           0.017521\n",
      "79           0.069461           0.094851\n",
      "80           0.065988           0.062919\n",
      "81           0.027062           0.029524\n",
      "82           0.065849           0.070529\n",
      "83           0.031094           0.031351\n",
      "84           0.008696           0.008792\n",
      "85           0.012465           0.010442\n",
      "86           0.114738           0.116986\n",
      "87           0.011662           0.010762\n",
      "88           0.057314           0.052576\n",
      "89           0.006473           0.006246\n",
      "90           0.030166           0.024897\n",
      "91           0.119811           0.120421\n",
      "92           0.023496           0.031053\n",
      "93           0.020464           0.021322\n",
      "94           0.042323           0.041475\n",
      "95           0.049853           0.048220\n",
      "96           0.058195           0.054690\n",
      "97           0.066681           0.074553\n",
      "98           0.004737           0.003370\n",
      "99           0.151829           0.148533\n",
      "\n",
      "[100 rows x 2 columns]\n"
     ]
    }
   ],
   "source": [
    "print(test_df[['predicted_score_1','predicted_score_4']].head(100))"
   ]
  },
  {
   "cell_type": "code",
   "execution_count": 24,
   "metadata": {},
   "outputs": [
    {
     "name": "stdout",
     "output_type": "stream",
     "text": [
      "0.03575761201403476\n"
     ]
    }
   ],
   "source": [
    "print(test_df['predicted_score'].mean())\n"
   ]
  },
  {
   "cell_type": "code",
   "execution_count": 26,
   "metadata": {},
   "outputs": [],
   "source": [
    "# 导出预测结果\n",
    "def exportResult(df, fileName):\n",
    "    df.to_csv('../../data/fusai/submit/%s.txt' % fileName, sep=' ', header=True, index=False)\n",
    "\n",
    "exportResult(test_df[['instance_id', 'predicted_score']], 'fusai_xgb_5_14_mix4')\n"
   ]
  },
  {
   "cell_type": "code",
   "execution_count": null,
   "metadata": {
    "collapsed": true
   },
   "outputs": [],
   "source": []
  }
 ],
 "metadata": {
  "kernelspec": {
   "display_name": "Python 3",
   "language": "python",
   "name": "python3"
  },
  "language_info": {
   "codemirror_mode": {
    "name": "ipython",
    "version": 3
   },
   "file_extension": ".py",
   "mimetype": "text/x-python",
   "name": "python",
   "nbconvert_exporter": "python",
   "pygments_lexer": "ipython3",
   "version": "3.6.2"
  }
 },
 "nbformat": 4,
 "nbformat_minor": 2
}
