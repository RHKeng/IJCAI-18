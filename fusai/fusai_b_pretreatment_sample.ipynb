{
 "cells": [
  {
   "cell_type": "code",
   "execution_count": 1,
   "metadata": {
    "collapsed": true
   },
   "outputs": [],
   "source": [
    "import pandas as pd\n",
    "from pandas import Series, DataFrame\n",
    "import numpy as np\n",
    "from scipy.stats import mode\n",
    "import csv\n",
    "import matplotlib.dates\n",
    "import matplotlib.pyplot as plt\n",
    "import matplotlib.pylab as pylab\n",
    "import seaborn as sns\n",
    "from datetime import *\n",
    "import matplotlib.pylab as pylab\n",
    "from pylab import *  \n",
    "mpl.rcParams['font.sans-serif'] = ['SimHei']\n",
    "from sklearn.preprocessing import *\n"
   ]
  },
  {
   "cell_type": "code",
   "execution_count": 2,
   "metadata": {},
   "outputs": [
    {
     "name": "stdout",
     "output_type": "stream",
     "text": [
      "<class 'pandas.core.frame.DataFrame'>\n",
      "RangeIndex: 1077175 entries, 0 to 1077174\n",
      "Data columns (total 31 columns):\n",
      "instance_id                  1077175 non-null int64\n",
      "item_id                      1077175 non-null int64\n",
      "item_category_list           1077175 non-null object\n",
      "item_property_list           1077175 non-null object\n",
      "item_brand_id                1077175 non-null int64\n",
      "item_city_id                 1077175 non-null int64\n",
      "item_price_level             1077175 non-null int64\n",
      "item_sales_level             1077175 non-null int64\n",
      "item_collected_level         1077175 non-null int64\n",
      "item_pv_level                1077175 non-null int64\n",
      "user_id                      1077175 non-null int64\n",
      "user_gender_id               1077175 non-null int64\n",
      "user_age_level               1077175 non-null int64\n",
      "user_occupation_id           1077175 non-null int64\n",
      "user_star_level              1077175 non-null int64\n",
      "context_id                   1077175 non-null int64\n",
      "context_timestamp            1077175 non-null int64\n",
      "context_page_id              1077175 non-null int64\n",
      "predict_category_property    1077175 non-null object\n",
      "shop_id                      1077175 non-null int64\n",
      "shop_review_num_level        1077175 non-null int64\n",
      "shop_review_positive_rate    1077175 non-null float64\n",
      "shop_star_level              1077175 non-null int64\n",
      "shop_score_service           1077175 non-null float64\n",
      "shop_score_delivery          1077175 non-null float64\n",
      "shop_score_description       1077175 non-null float64\n",
      "is_trade                     1077175 non-null int64\n",
      "date                         1077175 non-null object\n",
      "weekday                      1077175 non-null int64\n",
      "day                          1077175 non-null int64\n",
      "hour                         1077175 non-null int64\n",
      "dtypes: float64(4), int64(23), object(4)\n",
      "memory usage: 254.8+ MB\n",
      "None\n"
     ]
    }
   ],
   "source": [
    "train_df_3 = pd.read_csv('~/kengkeng/alimama/data/train_df_3.csv')\n",
    "print(train_df_3.info())\n"
   ]
  },
  {
   "cell_type": "code",
   "execution_count": 3,
   "metadata": {},
   "outputs": [
    {
     "name": "stdout",
     "output_type": "stream",
     "text": [
      "<class 'pandas.core.frame.DataFrame'>\n",
      "RangeIndex: 3134662 entries, 0 to 3134661\n",
      "Data columns (total 31 columns):\n",
      "instance_id                  int64\n",
      "item_id                      int64\n",
      "item_category_list           object\n",
      "item_property_list           object\n",
      "item_brand_id                int64\n",
      "item_city_id                 int64\n",
      "item_price_level             int64\n",
      "item_sales_level             int64\n",
      "item_collected_level         int64\n",
      "item_pv_level                int64\n",
      "user_id                      int64\n",
      "user_gender_id               int64\n",
      "user_age_level               int64\n",
      "user_occupation_id           int64\n",
      "user_star_level              int64\n",
      "context_id                   int64\n",
      "context_timestamp            int64\n",
      "context_page_id              int64\n",
      "predict_category_property    object\n",
      "shop_id                      int64\n",
      "shop_review_num_level        int64\n",
      "shop_review_positive_rate    float64\n",
      "shop_star_level              int64\n",
      "shop_score_service           float64\n",
      "shop_score_delivery          float64\n",
      "shop_score_description       float64\n",
      "is_trade                     int64\n",
      "date                         object\n",
      "weekday                      int64\n",
      "day                          int64\n",
      "hour                         int64\n",
      "dtypes: float64(4), int64(23), object(4)\n",
      "memory usage: 741.4+ MB\n",
      "None\n"
     ]
    }
   ],
   "source": [
    "train_df_2 = pd.read_csv('~/kengkeng/alimama/data/train_df_2.csv')\n",
    "print(train_df_2.info())\n"
   ]
  },
  {
   "cell_type": "code",
   "execution_count": 4,
   "metadata": {},
   "outputs": [
    {
     "name": "stdout",
     "output_type": "stream",
     "text": [
      "<class 'pandas.core.frame.DataFrame'>\n",
      "RangeIndex: 6220199 entries, 0 to 6220198\n",
      "Data columns (total 31 columns):\n",
      "instance_id                  int64\n",
      "item_id                      int64\n",
      "item_category_list           object\n",
      "item_property_list           object\n",
      "item_brand_id                int64\n",
      "item_city_id                 int64\n",
      "item_price_level             int64\n",
      "item_sales_level             int64\n",
      "item_collected_level         int64\n",
      "item_pv_level                int64\n",
      "user_id                      int64\n",
      "user_gender_id               int64\n",
      "user_age_level               int64\n",
      "user_occupation_id           int64\n",
      "user_star_level              int64\n",
      "context_id                   int64\n",
      "context_timestamp            int64\n",
      "context_page_id              int64\n",
      "predict_category_property    object\n",
      "shop_id                      int64\n",
      "shop_review_num_level        int64\n",
      "shop_review_positive_rate    float64\n",
      "shop_star_level              int64\n",
      "shop_score_service           float64\n",
      "shop_score_delivery          float64\n",
      "shop_score_description       float64\n",
      "is_trade                     int64\n",
      "date                         object\n",
      "weekday                      int64\n",
      "day                          int64\n",
      "hour                         int64\n",
      "dtypes: float64(4), int64(23), object(4)\n",
      "memory usage: 1.4+ GB\n",
      "None\n"
     ]
    }
   ],
   "source": [
    "train_df_1 = pd.read_csv('~/kengkeng/alimama/data/train_df_1.csv')\n",
    "print(train_df_1.info())\n"
   ]
  },
  {
   "cell_type": "code",
   "execution_count": 5,
   "metadata": {},
   "outputs": [
    {
     "name": "stdout",
     "output_type": "stream",
     "text": [
      "519888\n",
      "1209768\n",
      "1729656\n"
     ]
    }
   ],
   "source": [
    "#导入测试集进行数据处理\n",
    "test_df_a = pd.read_csv('~/yuna/alimama/data/round2_ijcai_18_test_a_20180425.txt', sep=' ')\n",
    "test_df_b = pd.read_csv('~/yuna/alimama/data/round2_ijcai_18_test_b_20180510.txt', sep=' ')\n",
    "\n",
    "print(len(test_df_a))\n",
    "print(len(test_df_b))\n",
    "\n",
    "test_df = pd.concat([test_df_a, test_df_b])\n",
    "print(len(test_df))\n"
   ]
  },
  {
   "cell_type": "code",
   "execution_count": 7,
   "metadata": {},
   "outputs": [
    {
     "name": "stdout",
     "output_type": "stream",
     "text": [
      "622020\n",
      "313466\n",
      "107718\n",
      "172966\n"
     ]
    }
   ],
   "source": [
    "#采样保存到本地\n",
    "train_df_1_sample = train_df_1.sample(frac = 0.1, replace = True)\n",
    "train_df_2_sample = train_df_2.sample(frac = 0.1, replace = True)\n",
    "train_df_3_sample = train_df_3.sample(frac = 0.1, replace = True)\n",
    "test_df_sample = test_df.sample(frac = 0.1, replace = True)\n",
    "\n",
    "print(len(train_df_1_sample))\n",
    "print(len(train_df_2_sample))\n",
    "print(len(train_df_3_sample))\n",
    "print(len(test_df_sample))\n"
   ]
  },
  {
   "cell_type": "code",
   "execution_count": 8,
   "metadata": {
    "collapsed": true
   },
   "outputs": [],
   "source": [
    "# 导出采样样本\n",
    "def exportDataset(df, fileName):\n",
    "    df.to_csv('~/kengkeng/alimama/data/%s.csv' % fileName, header=True, index=False)\n",
    "\n",
    "exportDataset(train_df_1_sample, 'fusai_b_train_df_1_sample')\n",
    "exportDataset(train_df_2_sample, 'fusai_b_train_df_2_sample')\n",
    "exportDataset(train_df_3_sample, 'fusai_b_train_df_3_sample')\n",
    "exportDataset(test_df_sample, 'fusai_b_test_df_sample')\n"
   ]
  },
  {
   "cell_type": "code",
   "execution_count": null,
   "metadata": {
    "collapsed": true
   },
   "outputs": [],
   "source": []
  }
 ],
 "metadata": {
  "kernelspec": {
   "display_name": "Python 3",
   "language": "python",
   "name": "python3"
  },
  "language_info": {
   "codemirror_mode": {
    "name": "ipython",
    "version": 3
   },
   "file_extension": ".py",
   "mimetype": "text/x-python",
   "name": "python",
   "nbconvert_exporter": "python",
   "pygments_lexer": "ipython3",
   "version": "3.6.1"
  }
 },
 "nbformat": 4,
 "nbformat_minor": 2
}
