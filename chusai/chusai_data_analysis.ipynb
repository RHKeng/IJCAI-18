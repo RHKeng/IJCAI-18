{
 "cells": [
  {
   "cell_type": "code",
   "execution_count": 1,
   "metadata": {
    "collapsed": true
   },
   "outputs": [],
   "source": [
    "import pandas as pd\n",
    "from pandas import Series, DataFrame\n",
    "import numpy as np\n",
    "from scipy.stats import mode\n",
    "import csv\n",
    "import matplotlib.dates\n",
    "import matplotlib.pyplot as plt\n",
    "import matplotlib.pylab as pylab\n",
    "import seaborn as sns\n",
    "from datetime import *\n",
    "import matplotlib.pylab as pylab\n",
    "from pylab import *  \n",
    "mpl.rcParams['font.sans-serif'] = ['SimHei'] "
   ]
  },
  {
   "cell_type": "code",
   "execution_count": 2,
   "metadata": {},
   "outputs": [
    {
     "name": "stdout",
     "output_type": "stream",
     "text": [
      "<class 'pandas.core.frame.DataFrame'>\n",
      "RangeIndex: 478138 entries, 0 to 478137\n",
      "Data columns (total 27 columns):\n",
      "instance_id                  478138 non-null int64\n",
      "item_id                      478138 non-null int64\n",
      "item_category_list           478138 non-null object\n",
      "item_property_list           478138 non-null object\n",
      "item_brand_id                477665 non-null float64\n",
      "item_city_id                 477861 non-null float64\n",
      "item_price_level             478138 non-null int64\n",
      "item_sales_level             477225 non-null float64\n",
      "item_collected_level         478138 non-null int64\n",
      "item_pv_level                478138 non-null int64\n",
      "user_id                      478138 non-null int64\n",
      "user_gender_id               465236 non-null float64\n",
      "user_age_level               477174 non-null float64\n",
      "user_occupation_id           477174 non-null float64\n",
      "user_star_level              477174 non-null float64\n",
      "context_id                   478138 non-null int64\n",
      "context_timestamp            478138 non-null int64\n",
      "context_page_id              478138 non-null int64\n",
      "predict_category_property    478134 non-null object\n",
      "shop_id                      478138 non-null int64\n",
      "shop_review_num_level        478138 non-null int64\n",
      "shop_review_positive_rate    478131 non-null float64\n",
      "shop_star_level              478138 non-null int64\n",
      "shop_score_service           478079 non-null float64\n",
      "shop_score_delivery          478079 non-null float64\n",
      "shop_score_description       478079 non-null float64\n",
      "is_trade                     478138 non-null int64\n",
      "dtypes: float64(11), int64(13), object(3)\n",
      "memory usage: 98.5+ MB\n",
      "None\n",
      "<class 'pandas.core.frame.DataFrame'>\n",
      "RangeIndex: 18371 entries, 0 to 18370\n",
      "Data columns (total 26 columns):\n",
      "instance_id                  18371 non-null int64\n",
      "item_id                      18371 non-null int64\n",
      "item_category_list           18371 non-null object\n",
      "item_property_list           18371 non-null object\n",
      "item_brand_id                18353 non-null float64\n",
      "item_city_id                 18365 non-null float64\n",
      "item_price_level             18371 non-null int64\n",
      "item_sales_level             18336 non-null float64\n",
      "item_collected_level         18371 non-null int64\n",
      "item_pv_level                18371 non-null int64\n",
      "user_id                      18371 non-null int64\n",
      "user_gender_id               17902 non-null float64\n",
      "user_age_level               18353 non-null float64\n",
      "user_occupation_id           18353 non-null float64\n",
      "user_star_level              18353 non-null float64\n",
      "context_id                   18371 non-null int64\n",
      "context_timestamp            18371 non-null int64\n",
      "context_page_id              18371 non-null int64\n",
      "predict_category_property    18371 non-null object\n",
      "shop_id                      18371 non-null int64\n",
      "shop_review_num_level        18371 non-null int64\n",
      "shop_review_positive_rate    18371 non-null float64\n",
      "shop_star_level              18371 non-null int64\n",
      "shop_score_service           18370 non-null float64\n",
      "shop_score_delivery          18370 non-null float64\n",
      "shop_score_description       18370 non-null float64\n",
      "dtypes: float64(11), int64(12), object(3)\n",
      "memory usage: 3.6+ MB\n",
      "None\n"
     ]
    }
   ],
   "source": [
    "#导入训练数据\n",
    "train_df = pd.read_csv('../../data/round1_ijcai_18_train_20180301.txt', sep=' ')\n",
    "train_df = train_df.applymap(lambda x: np.nan if (x==-1)|(x=='-1') else x)\n",
    "print(train_df.info())\n",
    "# print(train_df.head(10))\n",
    "# print(train_df[['instance_id', 'item_id', 'item_brand_id']].head(10))\n",
    "\n",
    "test_df = pd.read_csv('../../data/round1_ijcai_18_test_a_20180301.txt', sep=' ')\n",
    "test_df = test_df.applymap(lambda x: np.nan if (x==-1)|(x=='-1') else x)\n",
    "print(test_df.info())\n",
    "# print(test_df.head(10))"
   ]
  },
  {
   "cell_type": "code",
   "execution_count": 3,
   "metadata": {},
   "outputs": [
    {
     "name": "stdout",
     "output_type": "stream",
     "text": [
      "正样本个数 ： 9021\n",
      "负样本个数 ： 469117\n",
      "正负样本比例 ： 0.019229744392123927\n"
     ]
    }
   ],
   "source": [
    "#查看正负样本个数及比例\n",
    "print('正样本个数 ： ' + str(len(train_df[train_df.is_trade == 1])))\n",
    "print('负样本个数 ： ' + str(len(train_df[train_df.is_trade == 0])))\n",
    "print('正负样本比例 ： ' + str(len(train_df[train_df.is_trade == 1]) / len(train_df[train_df.is_trade == 0])))"
   ]
  },
  {
   "cell_type": "code",
   "execution_count": 17,
   "metadata": {},
   "outputs": [
    {
     "name": "stdout",
     "output_type": "stream",
     "text": [
      "train_max_date :  2018-09-24 23:59:47\n",
      "train_min_date :  2018-09-18 00:00:01\n",
      "                     date  context_timestamp\n",
      "3844  2018-09-18 00:00:01         1537200001\n",
      "24046 2018-09-18 00:00:04         1537200004\n",
      "59329 2018-09-18 00:00:05         1537200005\n",
      "70767 2018-09-18 00:00:11         1537200011\n",
      "76650 2018-09-18 00:00:14         1537200014\n",
      "27196 2018-09-18 00:00:14         1537200014\n",
      "59196 2018-09-18 00:00:16         1537200016\n",
      "57458 2018-09-18 00:00:16         1537200016\n",
      "23301 2018-09-18 00:00:17         1537200017\n",
      "24479 2018-09-18 00:00:17         1537200017\n",
      "                     date  context_timestamp\n",
      "6594  2018-09-25 00:00:02         1537804802\n",
      "2782  2018-09-25 00:00:20         1537804820\n",
      "9049  2018-09-25 00:00:25         1537804825\n",
      "13921 2018-09-25 00:00:29         1537804829\n",
      "6324  2018-09-25 00:00:31         1537804831\n",
      "12064 2018-09-25 00:00:31         1537804831\n",
      "3087  2018-09-25 00:00:36         1537804836\n",
      "5986  2018-09-25 00:00:38         1537804838\n",
      "2237  2018-09-25 00:00:39         1537804839\n",
      "435   2018-09-25 00:00:43         1537804843\n",
      "train set deltaTime： 6 days 23:59:46\n",
      "test set deltaTime： 0 days 23:59:23\n"
     ]
    }
   ],
   "source": [
    "#尝试将时间戳转化为日期\n",
    "# train_df['date'] = train_df.context_timestamp.map(lambda x: datetime.datetime.fromtimestamp(x).strftime(\"%Y-%m-%d %H:%M:%S\"))\n",
    "train_df['date'] = train_df.context_timestamp.map(lambda x: datetime.datetime.fromtimestamp(x))\n",
    "train_df = train_df.sort_values(by = 'date', ascending = True)\n",
    "print('train_max_date : ', train_df.iloc[len(train_df) -1]['date']) \n",
    "print('train_min_date : ', train_df.iloc[0]['date'])\n",
    "print(train_df[['date', 'context_timestamp']].head(10))\n",
    "test_df['date'] = test_df.context_timestamp.map(lambda x: datetime.datetime.fromtimestamp(x))\n",
    "test_df = test_df.sort_values(by = 'date', ascending = True)\n",
    "print(test_df[['date', 'context_timestamp']].head(10))\n",
    "\n",
    "#输出训练集时间跨度\n",
    "print('train set deltaTime：', (train_df.iloc[len(train_df) -1]['date'] - train_df.iloc[0]['date']))\n",
    "print('test set deltaTime：', (test_df.iloc[len(test_df) -1]['date'] - test_df.iloc[0]['date']))"
   ]
  },
  {
   "cell_type": "code",
   "execution_count": 37,
   "metadata": {},
   "outputs": [
    {
     "name": "stdout",
     "output_type": "stream",
     "text": [
      "20\n",
      "20\n"
     ]
    },
    {
     "name": "stderr",
     "output_type": "stream",
     "text": [
      "/usr/local/anaconda3/lib/python3.6/site-packages/matplotlib/font_manager.py:1297: UserWarning: findfont: Font family ['sans-serif'] not found. Falling back to DejaVu Sans\n",
      "  (prop.get_family(), self.defaultFamily[fontext]))\n"
     ]
    },
    {
     "data": {
      "image/png": "[encoded data removed]",
      "text/plain": [
       "<matplotlib.figure.Figure at 0x7fd94f75dbe0>"
      ]
     },
     "metadata": {},
     "output_type": "display_data"
    },
    {
     "name": "stdout",
     "output_type": "stream",
     "text": [
      "page_proportion_1 : 0.01443298969072165\n"
     ]
    },
    {
     "data": {
      "text/plain": [
       "'\\n(1)、由图可以大致看出，产生交易的记录，大部分是产生于第一页的搜索，前5页比重还比较大，因此，前5页采用onehot编码，6-10页作为一个特征，10-20页作为一个特征\\n(2)、训练集对于每个page_id中正样本个数所占比例大致相近，都是百分之1到百分之2之间\\n'"
      ]
     },
     "execution_count": 37,
     "metadata": {},
     "output_type": "execute_result"
    }
   ],
   "source": [
    "#分析广告商品展示页面编号与是否交易的关系\n",
    "#输出所有的页面编号种类\n",
    "print(len(train_df['context_page_id'].drop_duplicates()))\n",
    "print(len(train_df['context_page_id'][train_df.is_trade == 1].drop_duplicates()))\n",
    "\n",
    "#查看正样本依据context_page_id的分布\n",
    "train_df_positive_page = train_df[['context_page_id']][train_df.is_trade == 1]\n",
    "train_df_positive_page.context_page_id.value_counts().plot(kind='bar')   # 柱状图 \n",
    "plt.title(u\"positive sample : context_page_id\") # 标题\n",
    "plt.ylabel(u\"count\") \n",
    "plt.xlabel(u\"context_page_id\") \n",
    "\n",
    "plt.show()\n",
    "\n",
    "#定义获取某个page_id下正样本比例\n",
    "def getPositiveProportionPage(df, context_page_id):\n",
    "    page_proportion = len(df['context_page_id'][(df.context_page_id == context_page_id) & (df.is_trade == 1)]) / len(df['context_page_id'][(df.context_page_id == context_page_id)])\n",
    "    return page_proportion\n",
    "\n",
    "page_proportion_1 = getPositiveProportionPage(train_df, 4020)\n",
    "print('page_proportion_1 : ' + str(page_proportion_1))\n",
    "'''\n",
    "(1)、由图可以大致看出，产生交易的记录，大部分是产生于第一页的搜索，前5页比重还比较大，因此，前5页采用onehot编码，6-10页作为一个特征，10-20页作为一个特征\n",
    "(2)、训练集对于每个page_id中正样本个数所占比例大致相近，都是百分之1到百分之2之间\n",
    "'''"
   ]
  },
  {
   "cell_type": "code",
   "execution_count": 38,
   "metadata": {},
   "outputs": [
    {
     "name": "stdout",
     "output_type": "stream",
     "text": [
      "2055\n",
      "872\n",
      "1101\n",
      "在测试集却不在训练集的品牌数： 21\n",
      "{nan, 3.4432875282115144e+18, 5.5846485733997005e+18, 7.0429152538739487e+18, 1.2953269899093681e+18, 5.9472364217026959e+18, 7.1898175882672394e+18, 2.3679452401295713e+18, 1.2654395498135578e+18, 2.4172558500890609e+18, 9.0595984925661225e+18, 6.4441884007399373e+18, 7.5839691417133097e+18, 4.5936988481170186e+18, 8.4391055187254149e+18, 1.924896087747605e+18, 1.2544884576638986e+18, 7.8236760922906388e+18, 5.0608213746758349e+18, 8.4238714335384197e+18, 4.6836496585763174e+17}\n"
     ]
    },
    {
     "name": "stderr",
     "output_type": "stream",
     "text": [
      "/usr/local/anaconda3/lib/python3.6/site-packages/matplotlib/font_manager.py:1297: UserWarning: findfont: Font family ['sans-serif'] not found. Falling back to DejaVu Sans\n",
      "  (prop.get_family(), self.defaultFamily[fontext]))\n"
     ]
    },
    {
     "data": {
      "image/png": "[encoded data removed]",
      "text/plain": [
       "<matplotlib.figure.Figure at 0x7fd94fdb9ba8>"
      ]
     },
     "metadata": {},
     "output_type": "display_data"
    },
    {
     "name": "stdout",
     "output_type": "stream",
     "text": [
      "24\n",
      "72\n",
      "       item_brand_id  positive_counts  all_counts  proportion  \\\n",
      "6587    6.793286e+18              179        5280    0.033902   \n",
      "14762   7.838285e+18             1505       69746    0.021578   \n",
      "13720   5.051040e+18              359       13045    0.027520   \n",
      "15554   6.350720e+16               88        1377    0.063907   \n",
      "12657   6.986650e+17               21        1251    0.016787   \n",
      "24494   5.552377e+18               10        1207    0.008285   \n",
      "53618   8.828795e+18                8         757    0.010568   \n",
      "73239   3.001778e+18               21         861    0.024390   \n",
      "37105   3.572662e+18                5         271    0.018450   \n",
      "61111   5.239370e+18               24         558    0.043011   \n",
      "\n",
      "       proportion_label  \n",
      "6587                  0  \n",
      "14762                 0  \n",
      "13720                 0  \n",
      "15554                 0  \n",
      "12657                 0  \n",
      "24494                 0  \n",
      "53618                 0  \n",
      "73239                 0  \n",
      "37105                 0  \n",
      "61111                 0  \n"
     ]
    },
    {
     "data": {
      "text/plain": [
       "'\\n(1)、可以看到，大部分测试集的品牌，在训练集中都出现过，因此，可以把在训练集中没出现过的品牌归到转正率为0的类别中，即归到proportion_label为0中\\n(2)、由图可以看出，大部分的品牌的转正率都在百分之10以下\\n'"
      ]
     },
     "execution_count": 38,
     "metadata": {},
     "output_type": "execute_result"
    }
   ],
   "source": [
    "#分析广告商品品牌与交易的关系\n",
    "#输出所有的品牌编号种类\n",
    "print(len(train_df['item_brand_id'].drop_duplicates()))\n",
    "print(len(train_df['item_brand_id'][train_df.is_trade == 1].drop_duplicates()))\n",
    "print(len(test_df['item_brand_id'].drop_duplicates()))\n",
    "\n",
    "#查看训练集和测试集品牌id的交叉情况\n",
    "train_brand_set = set(train_df['item_brand_id'].drop_duplicates())\n",
    "test_brand_set = set(test_df['item_brand_id'].drop_duplicates())\n",
    "print('在测试集却不在训练集的品牌数：', len(test_brand_set - train_brand_set))\n",
    "print(test_brand_set - train_brand_set)\n",
    "\n",
    "train_df_positive_brand = train_df[['item_brand_id']][train_df.is_trade == 1].drop_duplicates()\n",
    "train_df_positive_brand['positive_counts'] = train_df_positive_brand['item_brand_id'].map(lambda x: len(train_df['item_brand_id'][(train_df.is_trade == 1) & (train_df.item_brand_id == x)])) \n",
    "train_df_positive_brand['all_counts'] = train_df_positive_brand['item_brand_id'].map(lambda x: len(train_df['item_brand_id'][(train_df.item_brand_id == x)])) \n",
    "train_df_positive_brand['proportion'] = train_df_positive_brand['positive_counts'] / train_df_positive_brand['all_counts']\n",
    "\n",
    "train_df_positive_brand['proportion_label'] = train_df_positive_brand.proportion.map(lambda x: 0 if math.isnan(x) else int(x * 10))\n",
    "train_df_positive_brand['proportion_label'] = train_df_positive_brand.proportion_label.map(lambda x: 5 if x >= 5 else x)\n",
    "train_df_positive_brand.proportion_label.value_counts().plot(kind='bar')   # 柱状图 \n",
    "plt.title(u\"positive sample : proportion_label\") # 标题\n",
    "plt.ylabel(u\"count\") \n",
    "plt.xlabel(u\"proportion_label\") \n",
    "plt.show()\n",
    "\n",
    "print(len(train_df_positive_brand[train_df_positive_brand.positive_counts > 50]))\n",
    "print(len(train_df_positive_brand[train_df_positive_brand.proportion > 0.1]))\n",
    "print(train_df_positive_brand.head(10))\n",
    "\n",
    "'''\n",
    "(1)、可以看到，大部分测试集的品牌，在训练集中都出现过，因此，可以把在训练集中没出现过的品牌归到转正率为0的类别中，即归到proportion_label为0中\n",
    "(2)、由图可以看出，大部分的品牌的转正率都在百分之10以下\n",
    "'''"
   ]
  },
  {
   "cell_type": "code",
   "execution_count": 39,
   "metadata": {},
   "outputs": [
    {
     "name": "stdout",
     "output_type": "stream",
     "text": [
      "128\n",
      "87\n",
      "99\n",
      "在测试集却不在训练集的城市数： 1\n",
      "{nan}\n"
     ]
    },
    {
     "name": "stderr",
     "output_type": "stream",
     "text": [
      "/usr/local/anaconda3/lib/python3.6/site-packages/matplotlib/font_manager.py:1297: UserWarning: findfont: Font family ['sans-serif'] not found. Falling back to DejaVu Sans\n",
      "  (prop.get_family(), self.defaultFamily[fontext]))\n"
     ]
    },
    {
     "data": {
      "image/png": "[encoded data removed]",
      "text/plain": [
       "<matplotlib.figure.Figure at 0x7fd93e660a90>"
      ]
     },
     "metadata": {},
     "output_type": "display_data"
    },
    {
     "name": "stdout",
     "output_type": "stream",
     "text": [
      "              item_id  item_city_id  proportion\n",
      "item_city_id                                   \n",
      "3.334405e+17        1  3.334405e+17    0.055556\n",
      "9.830067e+17       43  9.830067e+17    0.058904\n",
      "2.441251e+18        3  2.441251e+18    0.071429\n",
      "3.660952e+18        1  3.660952e+18    0.066667\n",
      "4.228028e+18        1  4.228028e+18    0.333333\n",
      "4.350273e+18       12  4.350273e+18    0.069364\n",
      "4.385376e+18       15  4.385376e+18    0.076531\n",
      "4.696414e+18        2  4.696414e+18    0.051282\n",
      "7.296768e+18        3  7.296768e+18    0.136364\n",
      "7.968876e+18        1  7.968876e+18    0.076923\n",
      "8.201344e+18        4  8.201344e+18    0.072727\n",
      "8.933803e+18        1  8.933803e+18    0.076923\n"
     ]
    },
    {
     "data": {
      "text/plain": [
       "'\\n(1)、可以看到，大部分测试集的城市，在训练集中都出现过，由于转正率感觉不是很大作用，暂且选择一些交易成功数量较大的城市标为标签\\n(2)、由图可以看出，大部分的城市的转正率都在百分之10以下，而且转化率在百分之10以上的都是少数城市，不排除是数据量的问题\\n'"
      ]
     },
     "execution_count": 39,
     "metadata": {},
     "output_type": "execute_result"
    }
   ],
   "source": [
    "#分析城市编号item_city_id字段的影响\n",
    "#首先查看训练集和测试集城市编号种类个数\n",
    "print(len(train_df['item_city_id'].drop_duplicates()))\n",
    "print(len(train_df['item_city_id'][train_df.is_trade == 1].drop_duplicates()))\n",
    "print(len(test_df['item_city_id'].drop_duplicates()))\n",
    "\n",
    "#查看训练集和测试集城市id的交叉情况\n",
    "train_city_set = set(train_df['item_city_id'].drop_duplicates())\n",
    "test_city_set = set(test_df['item_city_id'].drop_duplicates())\n",
    "print('在测试集却不在训练集的城市数：', len(test_city_set - train_city_set))\n",
    "print(test_city_set - train_city_set)\n",
    "\n",
    "train_df_positive_city = train_df[['item_city_id']][train_df.is_trade == 1].drop_duplicates()\n",
    "train_df_positive_city['positive_counts'] = train_df_positive_city['item_city_id'].map(lambda x: len(train_df['item_city_id'][(train_df.is_trade == 1) & (train_df.item_city_id == x)])) \n",
    "train_df_positive_city['all_counts'] = train_df_positive_city['item_city_id'].map(lambda x: len(train_df['item_city_id'][(train_df.item_city_id == x)])) \n",
    "train_df_positive_city['proportion'] = train_df_positive_city['positive_counts'] / train_df_positive_city['all_counts']\n",
    "\n",
    "train_df_positive_city['proportion_label'] = train_df_positive_city.proportion.map(lambda x: 0 if math.isnan(x) else int(x * 10))\n",
    "train_df_positive_city['proportion_label'] = train_df_positive_city.proportion_label.map(lambda x: 5 if x >= 5 else x)\n",
    "train_df_positive_city.proportion_label.value_counts().plot(kind='bar')   # 柱状图 \n",
    "plt.title(u\"CITY positive sample : proportion_label\") # 标题\n",
    "plt.ylabel(u\"count\") \n",
    "plt.xlabel(u\"proportion_label\") \n",
    "plt.show()\n",
    "\n",
    "train_city_positive_pivot_table = pd.pivot_table(train_df[['item_id', 'item_city_id']][train_df.is_trade == 1], index = ['item_city_id'], values = ['item_id'], aggfunc = {'item_id' : len})\n",
    "train_city_positive_pivot_table['item_city_id'] = train_city_positive_pivot_table.index\n",
    "train_city_positive_pivot_table['proportion'] = train_city_positive_pivot_table.item_city_id.map(lambda x: train_df_positive_city.proportion[train_df_positive_city.item_city_id == x].values[0])\n",
    "# train_city_positive_pivot_table.reset_index(inplace=True)\n",
    "print(train_city_positive_pivot_table[(train_city_positive_pivot_table.item_id > 0) & (train_city_positive_pivot_table.proportion > 0.05)].head(20))\n",
    "\n",
    "'''\n",
    "(1)、可以看到，大部分测试集的城市，在训练集中都出现过，由于转正率感觉不是很大作用，暂且选择一些交易成功数量较大的城市标为标签\n",
    "(2)、由图可以看出，大部分的城市的转正率都在百分之10以下，而且转化率在百分之10以上的都是少数城市，不排除是数据量的问题\n",
    "'''\n"
   ]
  },
  {
   "cell_type": "code",
   "execution_count": 40,
   "metadata": {},
   "outputs": [
    {
     "name": "stdout",
     "output_type": "stream",
     "text": [
      "14\n",
      "10\n",
      "10\n",
      "在测试集却不在训练集的广告商品价格等级数： 0\n",
      "                           item_id\n",
      "item_price_level is_trade         \n",
      "0                0              11\n",
      "                 1               1\n",
      "1                0              80\n",
      "                 1               5\n",
      "2                0             330\n",
      "                 1              17\n",
      "3                0            3416\n",
      "                 1             171\n",
      "4                0           13881\n",
      "                 1             726\n",
      "5                0           39787\n",
      "                 1            1270\n",
      "6                0           86996\n",
      "                 1            2061\n",
      "7                0          206099\n",
      "                 1            3186\n",
      "8                0          114034\n",
      "                 1            1553\n",
      "9                0            4004\n",
      "                 1              31\n",
      "10               0             456\n",
      "11               0              21\n",
      "16               0               1\n",
      "17               0               1\n"
     ]
    },
    {
     "data": {
      "text/plain": [
       "'\\n(1)、可以看到，所有在测试集中出现过的广告商品价格等级都在训练集中出现过\\n(2)、通过透视表可以看到，在价格等级较低或者较高的时候点击次数都是比较少，特别是对于较高的价格，基本不会有人购买，因此，可以采取onehot编码\\n'"
      ]
     },
     "execution_count": 40,
     "metadata": {},
     "output_type": "execute_result"
    }
   ],
   "source": [
    "#查看广告商品价格等级item_price_level的影响\n",
    "#首先查看训练集和测试集广告商品价格等级种类个数\n",
    "print(len(train_df['item_price_level'].drop_duplicates()))\n",
    "print(len(train_df['item_price_level'][train_df.is_trade == 1].drop_duplicates()))\n",
    "print(len(test_df['item_price_level'].drop_duplicates()))\n",
    "\n",
    "#查看训练集和测试集广告商品价格等级的交叉情况\n",
    "train_price_level_set = set(train_df['item_price_level'].drop_duplicates())\n",
    "test_price_level_set = set(test_df['item_price_level'].drop_duplicates())\n",
    "print('在测试集却不在训练集的广告商品价格等级数：', len(test_price_level_set - train_price_level_set))\n",
    "\n",
    "train_price_level_pivot_table = pd.pivot_table(train_df[['item_id', 'item_price_level', 'is_trade']], index=['item_price_level', 'is_trade'], values=['item_id'], aggfunc = {'item_id' : len})\n",
    "print(train_price_level_pivot_table.head(100))\n",
    "\n",
    "'''\n",
    "(1)、可以看到，所有在测试集中出现过的广告商品价格等级都在训练集中出现过\n",
    "(2)、通过透视表可以看到，在价格等级较低或者较高的时候点击次数都是比较少，特别是对于较高的价格，基本不会有人购买，因此，可以采取onehot编码\n",
    "'''"
   ]
  },
  {
   "cell_type": "code",
   "execution_count": 41,
   "metadata": {},
   "outputs": [
    {
     "name": "stdout",
     "output_type": "stream",
     "text": [
      "18\n",
      "18\n",
      "18\n",
      "                           item_id\n",
      "item_sales_level is_trade         \n",
      "1.0              0             496\n",
      "                 1               5\n",
      "2.0              0             945\n",
      "                 1               5\n",
      "3.0              0            1824\n",
      "                 1              20\n",
      "4.0              0            3208\n",
      "                 1              22\n",
      "5.0              0            5681\n",
      "                 1              58\n",
      "6.0              0           10920\n",
      "                 1             114\n",
      "7.0              0           17802\n",
      "                 1             228\n",
      "8.0              0           26605\n",
      "                 1             364\n",
      "9.0              0           39106\n",
      "                 1             532\n",
      "10.0             0           56788\n",
      "                 1             876\n",
      "11.0             0           79014\n",
      "                 1            1426\n",
      "12.0             0           85276\n",
      "                 1            1684\n",
      "13.0             0           63009\n",
      "                 1            1442\n",
      "14.0             0           43385\n",
      "                 1            1140\n",
      "15.0             0           21479\n",
      "                 1             720\n",
      "16.0             0           10742\n",
      "                 1             354\n",
      "17.0             0            1927\n",
      "                 1              28\n"
     ]
    },
    {
     "data": {
      "text/plain": [
       "'\\n(1)、可以看到，所有在测试集中出现过的广告商品销量等级都在训练集中出现过\\n(2)、通过透视表可以看到，在销量等级较低或者较高的时候点击次数都是比较少，不过按常理来说，应该销量高一点的话点击得应该也是越多的，此处有点疑惑。\\n初步做法，先采取onehot编码，后期可以考虑提取一些点击量和转正率都较高的特征，比如销量等级从10到14\\n(3)、注意这个字段存在缺失值，先把缺失值当作一种类型处理\\n'"
      ]
     },
     "execution_count": 41,
     "metadata": {},
     "output_type": "execute_result"
    }
   ],
   "source": [
    "#查看广告商品销量等级item_sales_level的影响\n",
    "#首先查看训练集和测试集广告商品销量等级种类个数\n",
    "print(len(train_df['item_sales_level'].drop_duplicates()))\n",
    "print(len(train_df['item_sales_level'][train_df.is_trade == 1].drop_duplicates()))\n",
    "print(len(test_df['item_sales_level'].drop_duplicates()))\n",
    "\n",
    "train_sales_level_pivot_table = pd.pivot_table(train_df[['item_id', 'item_sales_level', 'is_trade']], index=['item_sales_level', 'is_trade'], values=['item_id'], aggfunc = {'item_id' : len})\n",
    "print(train_sales_level_pivot_table.head(100))\n",
    "\n",
    "'''\n",
    "(1)、可以看到，所有在测试集中出现过的广告商品销量等级都在训练集中出现过\n",
    "(2)、通过透视表可以看到，在销量等级较低或者较高的时候点击次数都是比较少，不过按常理来说，应该销量高一点的话点击得应该也是越多的，此处有点疑惑。\n",
    "初步做法，先采取onehot编码，后期可以考虑提取一些点击量和转正率都较高的特征，比如销量等级从10到14\n",
    "(3)、注意这个字段存在缺失值，先把缺失值当作一种类型处理\n",
    "'''"
   ]
  },
  {
   "cell_type": "code",
   "execution_count": 42,
   "metadata": {},
   "outputs": [
    {
     "name": "stdout",
     "output_type": "stream",
     "text": [
      "18\n",
      "18\n",
      "18\n",
      "                               item_id\n",
      "item_collected_level is_trade         \n",
      "0                    0             277\n",
      "                     1               2\n",
      "1                    0             265\n",
      "                     1               2\n",
      "2                    0             482\n",
      "                     1              10\n",
      "3                    0             929\n",
      "                     1              10\n",
      "4                    0            1716\n",
      "                     1              20\n",
      "5                    0            2770\n",
      "                     1              34\n",
      "6                    0            5277\n",
      "                     1              95\n",
      "7                    0           10305\n",
      "                     1             133\n",
      "8                    0           16205\n",
      "                     1             238\n",
      "9                    0           23570\n",
      "                     1             429\n",
      "10                   0           41257\n",
      "                     1             796\n",
      "11                   0           52054\n",
      "                     1             956\n",
      "12                   0           83052\n",
      "                     1            1549\n",
      "13                   0           82550\n",
      "                     1            1500\n",
      "14                   0           72269\n",
      "                     1            1502\n",
      "15                   0           45363\n",
      "                     1            1047\n",
      "16                   0           19992\n",
      "                     1             411\n",
      "17                   0           10784\n",
      "                     1             287\n"
     ]
    },
    {
     "data": {
      "text/plain": [
       "'\\n(1)、可以看到，所有在测试集中出现过的广告商品被收藏次数等级都在训练集中出现过\\n(2)、类似与广告商品销量等级item_sales_level字段，都是在较低等级的时候点击率和转正率都比较低，在十几级达到高峰后会出现下降现象\\n初步做法，先采取onehot编码，后期可以考虑提取一些点击量和转正率都较高的特征，比如销量等级从10到15\\n'"
      ]
     },
     "execution_count": 42,
     "metadata": {},
     "output_type": "execute_result"
    }
   ],
   "source": [
    "#查看广告商品被收藏次数等级item_collected_level的影响\n",
    "#首先查看训练集和测试集广告商品被收藏次数等级种类个数\n",
    "print(len(train_df['item_collected_level'].drop_duplicates()))\n",
    "print(len(train_df['item_collected_level'][train_df.is_trade == 1].drop_duplicates()))\n",
    "print(len(test_df['item_collected_level'].drop_duplicates()))\n",
    "\n",
    "train_collected_level_pivot_table = pd.pivot_table(train_df[['item_id', 'item_collected_level', 'is_trade']], index=['item_collected_level', 'is_trade'], values=['item_id'], aggfunc = {'item_id' : len})\n",
    "print(train_collected_level_pivot_table.head(100))\n",
    "\n",
    "'''\n",
    "(1)、可以看到，所有在测试集中出现过的广告商品被收藏次数等级都在训练集中出现过\n",
    "(2)、类似与广告商品销量等级item_sales_level字段，都是在较低等级的时候点击率和转正率都比较低，在十几级达到高峰后会出现下降现象\n",
    "初步做法，先采取onehot编码，后期可以考虑提取一些点击量和转正率都较高的特征，比如销量等级从10到15\n",
    "'''"
   ]
  },
  {
   "cell_type": "code",
   "execution_count": 43,
   "metadata": {},
   "outputs": [
    {
     "name": "stdout",
     "output_type": "stream",
     "text": [
      "22\n",
      "17\n",
      "21\n",
      "在测试集却不在训练集的广告商品被展示次数等级item_pv_level数： 0\n",
      "set()\n",
      "                        item_id\n",
      "item_pv_level is_trade         \n",
      "0             0             122\n",
      "              1               1\n",
      "1             0               1\n",
      "2             0               5\n",
      "3             0              10\n",
      "              1               1\n",
      "4             0              33\n",
      "5             0              63\n",
      "6             0             116\n",
      "7             0             242\n",
      "              1               3\n",
      "8             0             444\n",
      "              1               5\n",
      "9             0             905\n",
      "              1               8\n",
      "10            0            1808\n",
      "              1              37\n",
      "11            0            3821\n",
      "              1              64\n",
      "12            0            7184\n",
      "              1             108\n",
      "13            0           13564\n",
      "              1             264\n",
      "14            0           25091\n",
      "              1             457\n",
      "15            0           40734\n",
      "              1             745\n",
      "16            0           61241\n",
      "              1            1199\n",
      "17            0           82810\n",
      "              1            1634\n",
      "18            0          100174\n",
      "              1            1909\n",
      "19            0           79831\n",
      "              1            1422\n",
      "20            0           41836\n",
      "              1             925\n",
      "21            0            9082\n",
      "              1             239\n"
     ]
    },
    {
     "data": {
      "text/plain": [
       "'\\n(1)、可以看到，所有在测试集中出现过的广告商品被展示次数等级item_collected_level都在训练集中出现过\\n(2)、通过透视表可以看到，基本上随着等级的升高，点击量和转正率都会升高\\n'"
      ]
     },
     "execution_count": 43,
     "metadata": {},
     "output_type": "execute_result"
    }
   ],
   "source": [
    "#查看广告商品被展示次数等级item_collected_level的影响\n",
    "#首先查看训练集和测试集广告商品被展示次数等级种类个数\n",
    "print(len(train_df['item_pv_level'].drop_duplicates()))\n",
    "print(len(train_df['item_pv_level'][train_df.is_trade == 1].drop_duplicates()))\n",
    "print(len(test_df['item_pv_level'].drop_duplicates()))\n",
    "\n",
    "#查看训练集和测试集广告商品被展示次数等级item_pv_level的交叉情况\n",
    "train_pv_level_set = set(train_df['item_pv_level'].drop_duplicates())\n",
    "test_pv_level_set = set(test_df['item_pv_level'].drop_duplicates())\n",
    "print('在测试集却不在训练集的广告商品被展示次数等级item_pv_level数：', len(test_pv_level_set - train_pv_level_set))\n",
    "print(test_pv_level_set - train_pv_level_set)\n",
    "\n",
    "train_pv_level_pivot_table = pd.pivot_table(train_df[['item_id', 'item_pv_level', 'is_trade']], index=['item_pv_level', 'is_trade'], values=['item_id'], aggfunc = {'item_id' : len})\n",
    "print(train_pv_level_pivot_table.head(100))\n",
    "\n",
    "'''\n",
    "(1)、可以看到，所有在测试集中出现过的广告商品被展示次数等级item_collected_level都在训练集中出现过\n",
    "(2)、通过透视表可以看到，基本上随着等级的升高，点击量和转正率都会升高\n",
    "'''"
   ]
  },
  {
   "cell_type": "code",
   "execution_count": 44,
   "metadata": {},
   "outputs": [
    {
     "name": "stdout",
     "output_type": "stream",
     "text": [
      "4\n",
      "4\n",
      "4\n",
      "                         user_id\n",
      "user_gender_id is_trade         \n",
      "0.0            0          354151\n",
      "               1            6666\n",
      "1.0            0           92076\n",
      "               1            1994\n",
      "2.0            0           10154\n",
      "               1             195\n"
     ]
    },
    {
     "data": {
      "text/plain": [
       "'\\n(1)、可以看到，在训练集中，女性用户通常会比男性用户点击次数多，男性用户转正率会相对来说高一点\\n(2)、暂且先采用onehot处理，后期要和其他特征进行交叉处理估计效果会好点\\n'"
      ]
     },
     "execution_count": 44,
     "metadata": {},
     "output_type": "execute_result"
    }
   ],
   "source": [
    "#分析用户的预测性别编号user_gender_id的影响\n",
    "#首先查看训练集和测试集预测性别编号user_gender_id种类个数\n",
    "print(len(train_df['user_gender_id'].drop_duplicates()))\n",
    "print(len(train_df['user_gender_id'][train_df.is_trade == 1].drop_duplicates()))\n",
    "print(len(test_df['user_gender_id'].drop_duplicates()))\n",
    "\n",
    "train_user_gender_pivot_table = pd.pivot_table(train_df[['user_id', 'user_gender_id', 'is_trade']], index=['user_gender_id', 'is_trade'], values=['user_id'], aggfunc = {'user_id' : len})\n",
    "print(train_user_gender_pivot_table.head(100))\n",
    "\n",
    "'''\n",
    "(1)、可以看到，在训练集中，女性用户通常会比男性用户点击次数多，男性用户转正率会相对来说高一点\n",
    "(2)、暂且先采用onehot处理，后期要和其他特征进行交叉处理估计效果会好点\n",
    "'''"
   ]
  },
  {
   "cell_type": "code",
   "execution_count": 45,
   "metadata": {},
   "outputs": [
    {
     "name": "stdout",
     "output_type": "stream",
     "text": [
      "9\n",
      "9\n",
      "9\n",
      "                         user_id\n",
      "user_age_level is_trade         \n",
      "1000.0         0           12781\n",
      "               1             177\n",
      "1001.0         0            6361\n",
      "               1              85\n",
      "1002.0         0           69061\n",
      "               1            1114\n",
      "1003.0         0          166444\n",
      "               1            3005\n",
      "1004.0         0          123611\n",
      "               1            2520\n",
      "1005.0         0           55268\n",
      "               1            1340\n",
      "1006.0         0           29543\n",
      "               1             647\n",
      "1007.0         0            5096\n",
      "               1             121\n"
     ]
    },
    {
     "data": {
      "text/plain": [
       "'\\n(1)、可以看到，在训练集中，当年龄等级升高至1003和1004附近时达到较高点\\n(2)、暂且先采用onehot处理，后期要和其他特征进行交叉处理估计效果会好点\\n'"
      ]
     },
     "execution_count": 45,
     "metadata": {},
     "output_type": "execute_result"
    }
   ],
   "source": [
    "#分析用户的预测年龄等级user_age_level的影响\n",
    "#首先查看训练集和测试集预测年龄等级user_age_level种类个数\n",
    "print(len(train_df['user_age_level'].drop_duplicates()))\n",
    "print(len(train_df['user_age_level'][train_df.is_trade == 1].drop_duplicates()))\n",
    "print(len(test_df['user_age_level'].drop_duplicates()))\n",
    "\n",
    "train_user_age_pivot_table = pd.pivot_table(train_df[['user_id', 'user_age_level', 'is_trade']], index=['user_age_level', 'is_trade'], values=['user_id'], aggfunc = {'user_id' : len})\n",
    "print(train_user_age_pivot_table.head(100))\n",
    "\n",
    "'''\n",
    "(1)、可以看到，在训练集中，当年龄等级升高至1003和1004附近时达到较高点\n",
    "(2)、暂且先采用onehot处理，后期要和其他特征进行交叉处理估计效果会好点\n",
    "'''"
   ]
  },
  {
   "cell_type": "code",
   "execution_count": 46,
   "metadata": {},
   "outputs": [
    {
     "name": "stdout",
     "output_type": "stream",
     "text": [
      "5\n",
      "5\n",
      "5\n",
      "                             user_id\n",
      "user_occupation_id is_trade         \n",
      "2002.0             0          143932\n",
      "                   1            2985\n",
      "2003.0             0            6332\n",
      "                   1              86\n",
      "2004.0             0           23363\n",
      "                   1             440\n",
      "2005.0             0          294538\n",
      "                   1            5498\n"
     ]
    },
    {
     "data": {
      "text/plain": [
       "'\\n(1)、可以看到，在训练集中，对于职业2002和2005来说，点击量和点击率都比较高\\n(2)、暂且先采用onehot处理，后期要和其他特征进行交叉处理估计效果会好点\\n'"
      ]
     },
     "execution_count": 46,
     "metadata": {},
     "output_type": "execute_result"
    }
   ],
   "source": [
    "#分析用户的预测职业编号user_occupation_id的影响\n",
    "#首先查看训练集和测试集预测职业编号user_occupation_id种类个数\n",
    "print(len(train_df['user_occupation_id'].drop_duplicates()))\n",
    "print(len(train_df['user_occupation_id'][train_df.is_trade == 1].drop_duplicates()))\n",
    "print(len(test_df['user_occupation_id'].drop_duplicates()))\n",
    "\n",
    "train_user_occupation_pivot_table = pd.pivot_table(train_df[['user_id', 'user_occupation_id', 'is_trade']], index=['user_occupation_id', 'is_trade'], values=['user_id'], aggfunc = {'user_id' : len})\n",
    "print(train_user_occupation_pivot_table.head(100))\n",
    "\n",
    "'''\n",
    "(1)、可以看到，在训练集中，对于职业2002和2005来说，点击量和点击率都比较高\n",
    "(2)、暂且先采用onehot处理，后期要和其他特征进行交叉处理估计效果会好点\n",
    "'''"
   ]
  },
  {
   "cell_type": "code",
   "execution_count": 47,
   "metadata": {},
   "outputs": [
    {
     "name": "stdout",
     "output_type": "stream",
     "text": [
      "12\n",
      "12\n",
      "12\n",
      "                          user_id\n",
      "user_star_level is_trade         \n",
      "3000.0          0           30962\n",
      "                1             374\n",
      "3001.0          0           18976\n",
      "                1             349\n",
      "3002.0          0           61675\n",
      "                1            1246\n",
      "3003.0          0           73129\n",
      "                1            1449\n",
      "3004.0          0           60552\n",
      "                1            1217\n",
      "3005.0          0           66177\n",
      "                1            1263\n",
      "3006.0          0           80434\n",
      "                1            1575\n",
      "3007.0          0           52266\n",
      "                1            1049\n",
      "3008.0          0           19786\n",
      "                1             392\n",
      "3009.0          0            4034\n",
      "                1              90\n",
      "3010.0          0             174\n",
      "                1               5\n"
     ]
    },
    {
     "data": {
      "text/plain": [
       "'\\n(1)、可以看到，在训练集中，对于用户星级在3002到3007时，点击量和转正率相对来说高一点\\n(2)、暂且先采用onehot处理，后期要和其他特征进行交叉处理估计效果会好点\\n'"
      ]
     },
     "execution_count": 47,
     "metadata": {},
     "output_type": "execute_result"
    }
   ],
   "source": [
    "#分析用户的星级编号user_star_level的影响\n",
    "#首先查看训练集和测试集用户的星级编号user_star_level种类个数\n",
    "print(len(train_df['user_star_level'].drop_duplicates()))\n",
    "print(len(train_df['user_star_level'][train_df.is_trade == 1].drop_duplicates()))\n",
    "print(len(test_df['user_star_level'].drop_duplicates()))\n",
    "\n",
    "train_user_star_pivot_table = pd.pivot_table(train_df[['user_id', 'user_star_level', 'is_trade']], index=['user_star_level', 'is_trade'], values=['user_id'], aggfunc = {'user_id' : len})\n",
    "print(train_user_star_pivot_table.head(100))\n",
    "\n",
    "'''\n",
    "(1)、可以看到，在训练集中，对于用户星级在3002到3007时，点击量和转正率相对来说高一点\n",
    "(2)、暂且先采用onehot处理，后期要和其他特征进行交叉处理估计效果会好点\n",
    "'''"
   ]
  },
  {
   "cell_type": "code",
   "execution_count": 48,
   "metadata": {},
   "outputs": [
    {
     "name": "stdout",
     "output_type": "stream",
     "text": [
      "25\n",
      "22\n",
      "21\n",
      "                                shop_id\n",
      "shop_review_num_level is_trade         \n",
      "0                     0               7\n",
      "1                     0              20\n",
      "2                     0              85\n",
      "                      1               2\n",
      "3                     0              79\n",
      "                      1               1\n",
      "4                     0             263\n",
      "                      1               3\n",
      "5                     0             572\n",
      "                      1               6\n",
      "6                     0            1316\n",
      "                      1              27\n",
      "7                     0            1817\n",
      "                      1              32\n",
      "8                     0            3034\n",
      "                      1              55\n",
      "9                     0            5354\n",
      "                      1             130\n",
      "10                    0            8463\n",
      "                      1             135\n",
      "11                    0           13768\n",
      "                      1             240\n",
      "12                    0           18350\n",
      "                      1             323\n",
      "13                    0           30525\n",
      "                      1             526\n",
      "14                    0           49858\n",
      "                      1             869\n",
      "15                    0           64731\n",
      "                      1            1223\n",
      "16                    0           77529\n",
      "                      1            1766\n",
      "17                    0           79714\n",
      "                      1            1723\n",
      "18                    0           49733\n",
      "                      1             884\n",
      "19                    0           15855\n",
      "                      1             375\n",
      "20                    0           24449\n",
      "                      1             465\n",
      "21                    0           22624\n",
      "                      1             231\n",
      "22                    0             618\n",
      "                      1               1\n",
      "23                    0             349\n",
      "                      1               4\n",
      "25                    0               4\n"
     ]
    },
    {
     "data": {
      "text/plain": [
       "'\\n(1)、总体来说，随着店铺评价数量的增加，点击量和转正率都会上升，在17附近会下降，14-18点击量较大\\n(2)、暂且先采用onehot处理，后期要和其他特征进行交叉处理估计效果会好点\\n'"
      ]
     },
     "execution_count": 48,
     "metadata": {},
     "output_type": "execute_result"
    }
   ],
   "source": [
    "#分析店铺的评价数量等级的影响\n",
    "#首先查看训练集和测试集店铺的评价数量等级shop_review_num_level种类个数\n",
    "print(len(train_df['shop_review_num_level'].drop_duplicates()))\n",
    "print(len(train_df['shop_review_num_level'][train_df.is_trade == 1].drop_duplicates()))\n",
    "print(len(test_df['shop_review_num_level'].drop_duplicates()))\n",
    "\n",
    "train_shop_review_num_level_pivot_table = pd.pivot_table(train_df[['shop_id', 'shop_review_num_level', 'is_trade']], index=['shop_review_num_level', 'is_trade'], values=['shop_id'], aggfunc = {'shop_id' : len})\n",
    "print(train_shop_review_num_level_pivot_table.head(100))\n",
    "\n",
    "'''\n",
    "(1)、总体来说，随着店铺评价数量的增加，点击量和转正率都会上升，在17附近会下降，14-18点击量较大\n",
    "(2)、暂且先采用onehot处理，后期要和其他特征进行交叉处理估计效果会好点\n",
    "'''"
   ]
  },
  {
   "cell_type": "code",
   "execution_count": 49,
   "metadata": {},
   "outputs": [
    {
     "name": "stdout",
     "output_type": "stream",
     "text": [
      "22\n",
      "21\n",
      "20\n",
      "                          shop_id\n",
      "shop_star_level is_trade         \n",
      "4999            0               7\n",
      "5000            0              80\n",
      "                1               1\n",
      "5001            0              58\n",
      "                1               2\n",
      "5002            0             471\n",
      "                1               6\n",
      "5003            0            1246\n",
      "                1              20\n",
      "5004            0             844\n",
      "                1              19\n",
      "5005            0            1438\n",
      "                1              21\n",
      "5006            0            3030\n",
      "                1              57\n",
      "5007            0            5371\n",
      "                1             129\n",
      "5008            0            8343\n",
      "                1             137\n",
      "5009            0           17894\n",
      "                1             297\n",
      "5010            0           24071\n",
      "                1             416\n",
      "5011            0           33804\n",
      "                1             552\n",
      "5012            0           72331\n",
      "                1            1280\n",
      "5013            0           80806\n",
      "                1            1835\n",
      "5014            0           79797\n",
      "                1            1799\n",
      "5015            0           72636\n",
      "                1            1356\n",
      "5016            0           18846\n",
      "                1             393\n",
      "5017            0           22816\n",
      "                1             427\n",
      "5018            0           24806\n",
      "                1             269\n",
      "5019            0              69\n",
      "                1               1\n",
      "5020            0             353\n",
      "                1               4\n"
     ]
    }
   ],
   "source": [
    "#分析店铺星级编号的影响\n",
    "#首先查看训练集和测试集店铺的星级编号shop_star_level种类个数\n",
    "print(len(train_df['shop_star_level'].drop_duplicates()))\n",
    "print(len(train_df['shop_star_level'][train_df.is_trade == 1].drop_duplicates()))\n",
    "print(len(test_df['shop_star_level'].drop_duplicates()))\n",
    "\n",
    "train_shop_star_level_pivot_table = pd.pivot_table(train_df[['shop_id', 'shop_star_level', 'is_trade']], index=['shop_star_level', 'is_trade'], values=['shop_id'], aggfunc = {'shop_id' : len})\n",
    "print(train_shop_star_level_pivot_table.head(100))\n"
   ]
  },
  {
   "cell_type": "code",
   "execution_count": 50,
   "metadata": {},
   "outputs": [
    {
     "name": "stdout",
     "output_type": "stream",
     "text": [
      "                                                           user_id\n",
      "user_gender_id user_age_level user_occupation_id is_trade         \n",
      "0.0            1000.0         2002.0             0             440\n",
      "                                                 1               6\n",
      "                              2003.0             0               9\n",
      "                              2004.0             0              59\n",
      "                              2005.0             0            2126\n",
      "                                                 1              19\n",
      "               1001.0         2002.0             0             755\n",
      "                                                 1               6\n",
      "                              2003.0             0            1219\n",
      "                                                 1              21\n",
      "                              2004.0             0             160\n",
      "                                                 1               2\n",
      "                              2005.0             0            2981\n",
      "                                                 1              44\n",
      "               1002.0         2002.0             0           15543\n",
      "                                                 1             251\n",
      "                              2003.0             0            2853\n",
      "                                                 1              32\n",
      "                              2004.0             0            3281\n",
      "                                                 1              49\n",
      "                              2005.0             0           36801\n",
      "                                                 1             591\n",
      "               1003.0         2002.0             0           42028\n",
      "                                                 1             781\n",
      "                              2003.0             0             819\n",
      "                                                 1              11\n",
      "                              2004.0             0            7619\n",
      "                                                 1             143\n",
      "                              2005.0             0           81556\n",
      "                                                 1            1442\n",
      "...                                                            ...\n",
      "1.0            1001.0         2005.0             0             784\n",
      "                                                 1               8\n",
      "               1002.0         2002.0             0            2499\n",
      "                                                 1              51\n",
      "                              2003.0             0             445\n",
      "                                                 1               6\n",
      "                              2004.0             0             303\n",
      "                                                 1               6\n",
      "                              2005.0             0            6339\n",
      "                                                 1             120\n",
      "               1003.0         2002.0             0           10274\n",
      "                                                 1             222\n",
      "                              2003.0             0             171\n",
      "                                                 1               3\n",
      "                              2004.0             0            1254\n",
      "                                                 1              17\n",
      "                              2005.0             0           18455\n",
      "                                                 1             317\n",
      "               1004.0         2002.0             0            9692\n",
      "                                                 1             216\n",
      "                              2003.0             0              54\n",
      "                                                 1               1\n",
      "                              2004.0             0            1283\n",
      "                                                 1              17\n",
      "                              2005.0             0           15554\n",
      "                                                 1             334\n",
      "               1005.0         2002.0             0            5019\n",
      "                                                 1             126\n",
      "                              2003.0             0              17\n",
      "                              2004.0             0             611\n",
      "\n",
      "[100 rows x 1 columns]\n"
     ]
    }
   ],
   "source": [
    "#查看用户相关特征的分布\n",
    "train_user_pivot_table = pd.pivot_table(train_df[['user_id', 'user_gender_id', 'user_age_level', 'user_occupation_id', 'is_trade']], index=['user_gender_id', 'user_age_level', 'user_occupation_id', 'is_trade'], values=['user_id'], aggfunc = {'user_id' : len})\n",
    "print(train_user_pivot_table.head(100))\n"
   ]
  },
  {
   "cell_type": "code",
   "execution_count": 51,
   "metadata": {},
   "outputs": [
    {
     "name": "stdout",
     "output_type": "stream",
     "text": [
      "478138\n",
      "3959\n",
      "0.9933314255939395\n",
      "                                           user_id\n",
      "isHigh_shop_review_positive_rate is_trade         \n",
      "0                                0          123918\n",
      "                                 1            3142\n",
      "1                                0          345199\n",
      "                                 1            5879\n"
     ]
    }
   ],
   "source": [
    "#查看店铺好评率与是否交易间的关系，标记是否高于平均水平\n",
    "print(len(train_df))\n",
    "print(len(train_df.drop_duplicates('shop_id')))\n",
    "shop_review_positive_rate_ave = train_df['shop_review_positive_rate'][train_df.is_trade == 1].mean()\n",
    "train_df['isHigh_shop_review_positive_rate'] = train_df['shop_review_positive_rate'].map(lambda x: 1 if x >= shop_review_positive_rate_ave else 0)\n",
    "print(shop_review_positive_rate_ave)\n",
    "\n",
    "train_isHigh_shop_review_positive_rate_pivot_table = pd.pivot_table(train_df[['user_id', 'isHigh_shop_review_positive_rate', 'is_trade']], index=['isHigh_shop_review_positive_rate', 'is_trade'], values=['user_id'], aggfunc = {'user_id' : len})\n",
    "print(train_isHigh_shop_review_positive_rate_pivot_table.head(100))"
   ]
  },
  {
   "cell_type": "code",
   "execution_count": 52,
   "metadata": {},
   "outputs": [
    {
     "name": "stdout",
     "output_type": "stream",
     "text": [
      "0.969103023835867\n",
      "                                    user_id\n",
      "isHigh_shop_score_service is_trade         \n",
      "0                         0          167686\n",
      "                          1            4351\n",
      "1                         0          301431\n",
      "                          1            4670\n"
     ]
    }
   ],
   "source": [
    "#查看店铺的服务态度评分与是否交易间的关系，标记是否高于平均水平\n",
    "shop_score_service_ave = train_df['shop_score_service'][train_df.is_trade == 1].mean()\n",
    "train_df['isHigh_shop_score_service'] = train_df['shop_score_service'].map(lambda x: 1 if x >= shop_score_service_ave else 0)\n",
    "print(shop_score_service_ave)\n",
    "\n",
    "train_isHigh_shop_score_service_pivot_table = pd.pivot_table(train_df[['user_id', 'isHigh_shop_score_service', 'is_trade']], index=['isHigh_shop_score_service', 'is_trade'], values=['user_id'], aggfunc = {'user_id' : len})\n",
    "print(train_isHigh_shop_score_service_pivot_table.head(100))"
   ]
  },
  {
   "cell_type": "code",
   "execution_count": 53,
   "metadata": {},
   "outputs": [
    {
     "name": "stdout",
     "output_type": "stream",
     "text": [
      "0.9683669185334133\n",
      "                                     user_id\n",
      "isHigh_shop_score_delivery is_trade         \n",
      "0                          0          171646\n",
      "                           1            4411\n",
      "1                          0          297471\n",
      "                           1            4610\n"
     ]
    }
   ],
   "source": [
    "#查看店铺的物流服务评分与是否交易间的关系，标记是否高于平均水平\n",
    "shop_score_delivery_ave = train_df['shop_score_delivery'][train_df.is_trade == 1].mean()\n",
    "train_df['isHigh_shop_score_delivery'] = train_df['shop_score_delivery'].map(lambda x: 1 if x >= shop_score_delivery_ave else 0)\n",
    "print(shop_score_delivery_ave)\n",
    "\n",
    "train_isHigh_shop_score_delivery_pivot_table = pd.pivot_table(train_df[['user_id', 'isHigh_shop_score_delivery', 'is_trade']], index=['isHigh_shop_score_delivery', 'is_trade'], values=['user_id'], aggfunc = {'user_id' : len})\n",
    "print(train_isHigh_shop_score_delivery_pivot_table.head(100))"
   ]
  },
  {
   "cell_type": "code",
   "execution_count": 54,
   "metadata": {},
   "outputs": [
    {
     "name": "stdout",
     "output_type": "stream",
     "text": [
      "0.9724992382102065\n",
      "                                        user_id\n",
      "isHigh_shop_score_description is_trade         \n",
      "0                             0          141982\n",
      "                              1            3602\n",
      "1                             0          327135\n",
      "                              1            5419\n"
     ]
    }
   ],
   "source": [
    "#查看店铺的描述相符评分与是否交易间的关系，标记是否高于平均水平\n",
    "shop_score_description_ave = train_df['shop_score_description'][train_df.is_trade == 1].mean()\n",
    "train_df['isHigh_shop_score_description'] = train_df['shop_score_description'].map(lambda x: 1 if x >= shop_score_description_ave else 0)\n",
    "print(shop_score_description_ave)\n",
    "\n",
    "train_isHigh_shop_score_description_pivot_table = pd.pivot_table(train_df[['user_id', 'isHigh_shop_score_description', 'is_trade']], index=['isHigh_shop_score_description', 'is_trade'], values=['user_id'], aggfunc = {'user_id' : len})\n",
    "print(train_isHigh_shop_score_description_pivot_table.head(100))"
   ]
  },
  {
   "cell_type": "code",
   "execution_count": 55,
   "metadata": {},
   "outputs": [
    {
     "name": "stdout",
     "output_type": "stream",
     "text": [
      "                                                                                             user_id\n",
      "isHigh_shop_score_description isHigh_shop_score_service isHigh_shop_score_delivery is_trade         \n",
      "0                             0                         0                          0           83180\n",
      "                                                                                   1            2483\n",
      "                                                        1                          0            5314\n",
      "                                                                                   1              88\n",
      "                              1                         0                          0            6469\n",
      "                                                                                   1             141\n",
      "                                                        1                          0           47019\n",
      "                                                                                   1             890\n",
      "1                             0                         0                          0           69782\n",
      "                                                                                   1            1610\n",
      "                                                        1                          0            9410\n",
      "                                                                                   1             170\n",
      "                              1                         0                          0           12215\n",
      "                                                                                   1             177\n",
      "                                                        1                          0          235728\n",
      "                                                                                   1            3462\n"
     ]
    }
   ],
   "source": [
    "train_isHigh_shop_pivot_table = pd.pivot_table(train_df[['user_id', 'isHigh_shop_score_delivery', 'isHigh_shop_score_service', 'isHigh_shop_score_description', 'is_trade']], index=['isHigh_shop_score_description', 'isHigh_shop_score_service', 'isHigh_shop_score_delivery', 'is_trade'], values=['user_id'], aggfunc = {'user_id' : len})\n",
    "print(train_isHigh_shop_pivot_table.head(100))"
   ]
  },
  {
   "cell_type": "code",
   "execution_count": 56,
   "metadata": {},
   "outputs": [
    {
     "name": "stdout",
     "output_type": "stream",
     "text": [
      "               user_id\n",
      "hour is_trade         \n",
      "0    0           10606\n",
      "     1             189\n",
      "1    0            4407\n",
      "     1              79\n",
      "2    0            2409\n",
      "     1              55\n",
      "3    0            1860\n",
      "     1              29\n",
      "4    0            1535\n",
      "     1              29\n",
      "5    0            2292\n",
      "     1              44\n",
      "6    0            5298\n",
      "     1              90\n",
      "7    0           10771\n",
      "     1             243\n",
      "8    0           15119\n",
      "     1             362\n",
      "9    0           19408\n",
      "     1             519\n",
      "10   0           23779\n",
      "     1             546\n",
      "11   0           23527\n",
      "     1             555\n",
      "12   0           24097\n",
      "     1             571\n",
      "13   0           26986\n",
      "     1             514\n",
      "14   0           26690\n",
      "     1             530\n",
      "15   0           26380\n",
      "     1             491\n",
      "16   0           24128\n",
      "     1             434\n",
      "17   0           23025\n",
      "     1             425\n",
      "18   0           24862\n",
      "     1             496\n",
      "19   0           33079\n",
      "     1             658\n",
      "20   0           40351\n",
      "     1             769\n",
      "21   0           42076\n",
      "     1             680\n",
      "22   0           35505\n",
      "     1             472\n",
      "23   0           20927\n",
      "     1             241\n"
     ]
    }
   ],
   "source": [
    "#分析小时与是否交易的关系\n",
    "train_df['hour'] = train_df['date'].map(lambda x: x.hour)\n",
    "\n",
    "train_hour_pivot_table = pd.pivot_table(train_df[['user_id', 'hour', 'is_trade']], index=['hour', 'is_trade'], values=['user_id'], aggfunc = {'user_id' : len})\n",
    "print(train_hour_pivot_table.head(100))\n"
   ]
  },
  {
   "cell_type": "code",
   "execution_count": 57,
   "metadata": {},
   "outputs": [
    {
     "name": "stdout",
     "output_type": "stream",
     "text": [
      "3844     [509660095530134768, 5755694407684602296, 8277...\n",
      "24046    [5755694407684602296, 509660095530134768, 7908...\n",
      "59329    [8868887661186419229, 7908382889764677758, 799...\n",
      "70767    [7258015885215914736, 7822717283490579102, 509...\n",
      "76650    [5755694407684602296, 7908382889764677758, 825...\n",
      "27196    [509660095530134768, 8277336076276184272, 5755...\n",
      "59196           [8868887661186419229, 7908382889764677758]\n",
      "57458           [8868887661186419229, 7908382889764677758]\n",
      "23301    [5799347067982556520, 8710739180200009128, 509...\n",
      "24479    [5755694407684602296, 5799347067982556520, 871...\n",
      "Name: predict_category_list, dtype: object\n",
      "3844     {9148482949976129397, 1895089419167761448, 513...\n",
      "24046           {5131280576272319091, 1667949271803926094}\n",
      "59329    {8218883658021718578, 9148482949976129397, 342...\n",
      "70767    {6641007758333551406, 6165347051143749031, 807...\n",
      "76650                                {2636395404473730413}\n",
      "27196           {9148482949976129397, 2636395404473730413}\n",
      "59196                                                   {}\n",
      "57458                                                   {}\n",
      "23301                                {3314043031480230897}\n",
      "24479                                                   {}\n",
      "Name: predict_property_list, dtype: object\n",
      "3844     509660095530134768:-1;5755694407684602296:1895...\n",
      "24046    5755694407684602296:1667949271803926094,513128...\n",
      "59329    8868887661186419229:9148482949976129397;790838...\n",
      "70767    7258015885215914736:-1;7822717283490579102:821...\n",
      "76650    5755694407684602296:2636395404473730413;790838...\n",
      "27196    509660095530134768:2636395404473730413;8277336...\n",
      "59196        8868887661186419229:-1;7908382889764677758:-1\n",
      "57458        8868887661186419229:-1;7908382889764677758:-1\n",
      "23301    5799347067982556520:3314043031480230897;871073...\n",
      "24479    5755694407684602296:-1;5799347067982556520:-1;...\n",
      "Name: predict_category_property, dtype: object\n"
     ]
    }
   ],
   "source": [
    "#处理跟预测预测类目和属性相关的数据\n",
    "train_df['predict_category_list'] = train_df['predict_category_property'].map(\n",
    "    lambda x: [] if x == np.nan else list(kv.split(':')[0] for kv in str(x).split(';')))\n",
    "train_df['predict_category_set'] = train_df['predict_category_list'].map(lambda x: set(x))\n",
    "print(train_df['predict_category_list'].head(10))\n",
    "\n",
    "train_df['predict_property_list'] = train_df['predict_category_property'].map(\n",
    "    lambda x: [] if x == np.nan else ((kv.split(':')[1].split(',') if kv.split(':')[1]!='-1' else []) if len(kv.split(':')) >= 2 else [] for kv in str(x).split(';')))\n",
    "\n",
    "def addSet(setList):\n",
    "    allSet = []\n",
    "    for member in setList:\n",
    "        allSet = allSet + member\n",
    "    allSet = set(allSet)\n",
    "    return allSet\n",
    "train_df['predict_property_list'] = train_df['predict_property_list'].map(\n",
    "    lambda x: addSet(x))\n",
    "print(train_df['predict_property_list'].head(10))\n",
    "print(train_df['predict_category_property'].head(10))"
   ]
  },
  {
   "cell_type": "code",
   "execution_count": 58,
   "metadata": {},
   "outputs": [
    {
     "name": "stdout",
     "output_type": "stream",
     "text": [
      "3844            {5755694407684602296, 7908382889764677758}\n",
      "24046            {509660095530134768, 7908382889764677758}\n",
      "59329    {8868887661186419229, 2642175453151805566, 790...\n",
      "70767           {7258015885215914736, 7908382889764677758}\n",
      "76650           {5755694407684602296, 7908382889764677758}\n",
      "27196           {8277336076276184272, 7908382889764677758}\n",
      "59196    {8868887661186419229, 2642175453151805566, 790...\n",
      "57458    {8868887661186419229, 2642175453151805566, 790...\n",
      "23301           {5755694407684602296, 7908382889764677758}\n",
      "24479           {5799347067982556520, 7908382889764677758}\n",
      "Name: real_item_category_list, dtype: object\n",
      "3844     {8511978268505564147, 1243768796732904674, 651...\n",
      "24046    {8511978268505564147, 1243768796732904674, 704...\n",
      "59329    {6331684169764759279, 1243768796732904674, 471...\n",
      "70767    {1243768796732904674, 8833035145586185926, 360...\n",
      "76650    {4382345526775915346, 6518827169254436786, 273...\n",
      "27196    {8511978268505564147, 1243768796732904674, 883...\n",
      "59196    {6331684169764759279, 1243768796732904674, 471...\n",
      "57458    {6215051418593166194, 492526082836488834, 6917...\n",
      "23301    {1243768796732904674, 7046835092279798919, 360...\n",
      "24479    {9172976955054793469, 6457208937217973355, 124...\n",
      "Name: real_item_property_list, dtype: object\n"
     ]
    }
   ],
   "source": [
    "#处理跟商铺类目和属性相关的特征\n",
    "train_df['real_item_category_list'] = train_df['item_category_list'].map(lambda x: set(x.split(';')))\n",
    "train_df['real_item_property_list'] = train_df['item_property_list'].map(lambda x: set(x.split(';')))\n",
    "print(train_df['real_item_category_list'].head(10))\n",
    "print(train_df['real_item_property_list'].head(10))\n"
   ]
  },
  {
   "cell_type": "code",
   "execution_count": 59,
   "metadata": {},
   "outputs": [
    {
     "name": "stdout",
     "output_type": "stream",
     "text": [
      "       match_category_proportion  match_property_proportion\n",
      "3844                    0.500000                   0.250000\n",
      "24046                   0.400000                   0.500000\n",
      "59329                   0.500000                   0.333333\n",
      "70767                   0.222222                   0.200000\n",
      "76650                   0.500000                   1.000000\n",
      "27196                   0.333333                   1.000000\n",
      "59196                   1.000000                   0.000000\n",
      "57458                   1.000000                   0.000000\n",
      "23301                   0.333333                   0.000000\n",
      "24479                   0.500000                   0.000000\n"
     ]
    }
   ],
   "source": [
    "#构造跟匹配比例相关的特征\n",
    "train_df['first_category'] = train_df['predict_category_list'].map(lambda x: np.nan if len(x) < 1 else x[0])\n",
    "train_df['last_category'] = train_df['predict_category_list'].map(lambda x: np.nan if len(x) < 1 else x[len(x) -1])\n",
    "\n",
    "def getMatchProportion(df):\n",
    "    match_category_proportion = []\n",
    "    match_property_proportion = []\n",
    "    for x,y,m,n in df[['real_item_category_list', 'predict_category_set', 'real_item_property_list', 'predict_property_list']].values:\n",
    "        match_category = x & y\n",
    "        match_property = m & n\n",
    "        if len(y) > 0:\n",
    "            category_proportion = len(match_category) / len(y)\n",
    "            match_category_proportion.append(category_proportion)\n",
    "        else:\n",
    "            match_category_proportion.append(0)\n",
    "        if len(n) > 0:\n",
    "            property_proportion = len(match_property) / len(n)\n",
    "            match_property_proportion.append(property_proportion)\n",
    "        else:\n",
    "            match_property_proportion.append(0)\n",
    "    df['match_category_proportion'] = match_category_proportion\n",
    "    df['match_property_proportion'] = match_property_proportion\n",
    "    return df\n",
    "\n",
    "train_df = getMatchProportion(train_df)\n",
    "print(train_df[['match_category_proportion', 'match_property_proportion']].head(10))"
   ]
  },
  {
   "cell_type": "code",
   "execution_count": 60,
   "metadata": {},
   "outputs": [
    {
     "name": "stdout",
     "output_type": "stream",
     "text": [
      "       predict_category_number  predict_property_number  is_trade\n",
      "3844                         4                        4         0\n",
      "24046                        5                        2         0\n",
      "59329                        4                        3         0\n",
      "70767                        9                        5         0\n",
      "76650                        4                        1         0\n",
      "27196                        6                        2         0\n",
      "59196                        2                        0         0\n",
      "57458                        2                        0         0\n",
      "23301                        6                        1         0\n",
      "24479                        4                        0         0\n"
     ]
    }
   ],
   "source": [
    "#构造跟预测数目相关的特征\n",
    "def getPredictNumber(df):\n",
    "    df['predict_category_number'] = df['predict_category_set'].map(lambda x: len(x))\n",
    "    df['predict_property_number'] = df['predict_property_list'].map(lambda x: len(x))\n",
    "    return df\n",
    "\n",
    "train_df = getPredictNumber(train_df)\n",
    "print(train_df[['predict_category_number', 'predict_property_number', 'is_trade']].head(10))"
   ]
  },
  {
   "cell_type": "code",
   "execution_count": 61,
   "metadata": {},
   "outputs": [
    {
     "name": "stdout",
     "output_type": "stream",
     "text": [
      "       isFirstCategoryIn  isLastCategoryIn  is_trade\n",
      "3844                   0                 1         0\n",
      "24046                  0                 0         0\n",
      "59329                  1                 0         0\n",
      "70767                  1                 0         0\n",
      "76650                  1                 0         0\n",
      "27196                  0                 0         0\n",
      "59196                  1                 1         0\n",
      "57458                  1                 1         0\n",
      "23301                  0                 1         0\n",
      "24479                  0                 1         0\n"
     ]
    }
   ],
   "source": [
    "#构造跟类目预测精确性相关的特征\n",
    "def getPredictAccuracy(df):\n",
    "    isFirstCategoryIn = []\n",
    "    isLastCategoryIn = []\n",
    "    for x,y in df[['item_category_list', 'predict_category_list']].values:\n",
    "        if y[0] in x:\n",
    "            isFirstCategoryIn.append(1)\n",
    "        else:\n",
    "            isFirstCategoryIn.append(0)\n",
    "        if y[len(y)-1] in x:\n",
    "            isLastCategoryIn.append(1)\n",
    "        else:\n",
    "            isLastCategoryIn.append(0)\n",
    "    df['isFirstCategoryIn'] = isFirstCategoryIn\n",
    "    df['isLastCategoryIn'] = isLastCategoryIn\n",
    "    return df\n",
    "\n",
    "train_df = getPredictAccuracy(train_df)\n",
    "print(train_df[['isFirstCategoryIn', 'isLastCategoryIn', 'is_trade']].head(10))"
   ]
  },
  {
   "cell_type": "code",
   "execution_count": 62,
   "metadata": {},
   "outputs": [
    {
     "name": "stderr",
     "output_type": "stream",
     "text": [
      "/usr/local/anaconda3/lib/python3.6/site-packages/ipykernel_launcher.py:20: SettingWithCopyWarning: \n",
      "A value is trying to be set on a copy of a slice from a DataFrame.\n",
      "Try using .loc[row_indexer,col_indexer] = value instead\n",
      "\n",
      "See the caveats in the documentation: http://pandas.pydata.org/pandas-docs/stable/indexing.html#indexing-view-versus-copy\n",
      "/usr/local/anaconda3/lib/python3.6/site-packages/ipykernel_launcher.py:21: SettingWithCopyWarning: \n",
      "A value is trying to be set on a copy of a slice from a DataFrame.\n",
      "Try using .loc[row_indexer,col_indexer] = value instead\n",
      "\n",
      "See the caveats in the documentation: http://pandas.pydata.org/pandas-docs/stable/indexing.html#indexing-view-versus-copy\n",
      "/usr/local/anaconda3/lib/python3.6/site-packages/ipykernel_launcher.py:22: SettingWithCopyWarning: \n",
      "A value is trying to be set on a copy of a slice from a DataFrame.\n",
      "Try using .loc[row_indexer,col_indexer] = value instead\n",
      "\n",
      "See the caveats in the documentation: http://pandas.pydata.org/pandas-docs/stable/indexing.html#indexing-view-versus-copy\n"
     ]
    },
    {
     "name": "stdout",
     "output_type": "stream",
     "text": [
      "                     date  lastOneHour_sameItem_count\n",
      "3844  2018-09-18 00:00:01                         0.0\n",
      "24046 2018-09-18 00:00:04                         0.0\n",
      "59329 2018-09-18 00:00:05                         0.0\n",
      "70767 2018-09-18 00:00:11                         0.0\n",
      "76650 2018-09-18 00:00:14                         0.0\n",
      "27196 2018-09-18 00:00:14                         0.0\n",
      "59196 2018-09-18 00:00:16                         0.0\n",
      "57458 2018-09-18 00:00:16                         0.0\n",
      "23301 2018-09-18 00:00:17                         0.0\n",
      "24479 2018-09-18 00:00:17                         0.0\n"
     ]
    }
   ],
   "source": [
    "# train_df['lastOneHour_date'] = train_df['date'].map(lambda x: x - datetime.timedelta(hours = 1))\n",
    "# print(train_df[['date', 'lastOneHour_date']].head(10))\n",
    "\n",
    "# 统计过去一个小时某用户点击某个相同商品的次数\n",
    "# def getOneHourSameItemCount(df):\n",
    "#     lastOneHour_sameItem_count_list = []\n",
    "#     temp_df = df[['user_id', 'item_id', 'date', 'lastOneHour_date']]\n",
    "#     for x,y,m,n in temp_df[['user_id', 'item_id', 'date', 'lastOneHour_date']].values:\n",
    "#         lastOneHour_sameItem_count = len(temp_df[((temp_df.user_id == x) & (temp_df.item_id == y) & (temp_df.date <= m) & (temp_df.date > n))])\n",
    "#         lastOneHour_sameItem_count_list.append(lastOneHour_sameItem_count)\n",
    "#     df['lastOneHour_sameItem_count'] = lastOneHour_sameItem_count_list\n",
    "#     return df\n",
    "\n",
    "# temp_df = train_df.copy()\n",
    "# print(temp_df[['is_trade']].head())\n",
    "\n",
    "# 统计过去一个小时某用户点击某个相同商品的次数\n",
    "def getOneHourSameItemCount(df):\n",
    "    temp_df = df[['user_id', 'item_id', 'date', 'is_trade']]\n",
    "    temp_df['user_id_str'] = temp_df['user_id'].map(lambda x: str(x))\n",
    "    temp_df['item_id_str'] = temp_df['item_id'].map(lambda x: str(x))\n",
    "    temp_df['user_item'] = temp_df['user_id_str'] + temp_df['item_id_str']\n",
    "    tempDf = pd.pivot_table(temp_df, index=['user_item','date'], values=['is_trade'], aggfunc=len)\n",
    "    tempDf.columns = ['show']\n",
    "    tempDf.reset_index(inplace=True)\n",
    "    tempDf['last_user_item'] = tempDf['user_item'].shift(1)\n",
    "    tempDf['last_user_item'] = tempDf['last_user_item']==tempDf['user_item']\n",
    "    tempDf['last_show_time'] = tempDf['date'].shift(1)\n",
    "    tempDf.loc[~tempDf.last_user_item, 'last_show_time'] = np.nan\n",
    "    tempDf['ui_last_show_timedelta'] = tempDf['date'] - tempDf['last_show_time']\n",
    "    tempDf['ui_last_show_timedelta'] = tempDf['ui_last_show_timedelta'].dt.seconds\n",
    "    tempDf['ui_last_show_timedelta'].fillna(999999, inplace=True)\n",
    "    hourShowList = []\n",
    "    hourShowTemp = {}\n",
    "    for same, dt, show in tempDf[['last_user_item','date','show']].values:\n",
    "        if same:\n",
    "            [hourShowTemp.pop(k) for k in list(hourShowTemp) if k<dt-timedelta(hours=1)]\n",
    "            hourShowList.append(np.sum(list(hourShowTemp.values())))\n",
    "            hourShowTemp[dt] = show\n",
    "        else:\n",
    "            hourShowList.append(0)\n",
    "            hourShowTemp = {dt:show}\n",
    "    tempDf['lastOneHour_sameItem_count'] = hourShowList\n",
    "    temp = pd.merge(temp_df[['user_item', 'date']], tempDf[['user_item', 'date', 'lastOneHour_sameItem_count']], on = ['user_item', 'date'], how = 'left')\n",
    "#     print(temp_df[['user_item', 'date']].head())\n",
    "#     print(tempDf[['user_item', 'date', 'lastOneHour_sameItem_count']][tempDf.user_item == '15383240786656120175586531724608162781'].head())\n",
    "#     print(temp[temp.lastOneHour_sameItem_count > 0].head())\n",
    "    df['lastOneHour_sameItem_count'] = temp['lastOneHour_sameItem_count']\n",
    "    return df\n",
    "\n",
    "train_df = getOneHourSameItemCount(train_df)\n",
    "print(train_df[['date', 'lastOneHour_sameItem_count']].head(10))"
   ]
  },
  {
   "cell_type": "code",
   "execution_count": 94,
   "metadata": {},
   "outputs": [
    {
     "name": "stdout",
     "output_type": "stream",
     "text": [
      "7\n",
      "   real_first_category  shop_review_positive_rate_ave\n",
      "0  1968056100269760729                       0.991194\n",
      "1  2011981573061447208                       0.992751\n",
      "2    22731265849056483                       0.975132\n",
      "3  2436715285093487584                       0.987921\n",
      "4  2642175453151805566                       0.992293\n",
      "5  3203673979138763595                       0.991075\n",
      "6  4879721024980945592                       0.990844\n",
      "7   509660095530134768                       0.995699\n",
      "8  5755694407684602296                       0.996590\n",
      "9  5799347067982556520                       0.991042\n",
      "   real_first_category  shop_review_positive_rate  \\\n",
      "0  5799347067982556520                   1.000000   \n",
      "1  5799347067982556520                   1.000000   \n",
      "2  5799347067982556520                   1.000000   \n",
      "3  5799347067982556520                   1.000000   \n",
      "4  5799347067982556520                   1.000000   \n",
      "5  5799347067982556520                   1.000000   \n",
      "6  8277336076276184272                   0.985427   \n",
      "7  8277336076276184272                   0.985427   \n",
      "8  5755694407684602296                   0.985427   \n",
      "9  8277336076276184272                   0.985427   \n",
      "\n",
      "   shop_review_positive_rate_ave  isHigh_shop_review_positive_rate  \n",
      "0                       0.991042                                 1  \n",
      "1                       0.991042                                 1  \n",
      "2                       0.991042                                 1  \n",
      "3                       0.991042                                 1  \n",
      "4                       0.991042                                 1  \n",
      "5                       0.991042                                 1  \n",
      "6                       0.995915                                 0  \n",
      "7                       0.995915                                 0  \n",
      "8                       0.996590                                 0  \n",
      "9                       0.995915                                 0  \n"
     ]
    },
    {
     "name": "stderr",
     "output_type": "stream",
     "text": [
      "/usr/local/anaconda3/lib/python3.6/site-packages/ipykernel_launcher.py:18: SettingWithCopyWarning: \n",
      "A value is trying to be set on a copy of a slice from a DataFrame\n",
      "\n",
      "See the caveats in the documentation: http://pandas.pydata.org/pandas-docs/stable/indexing.html#indexing-view-versus-copy\n",
      "/usr/local/anaconda3/lib/python3.6/site-packages/ipykernel_launcher.py:20: SettingWithCopyWarning: \n",
      "A value is trying to be set on a copy of a slice from a DataFrame\n",
      "\n",
      "See the caveats in the documentation: http://pandas.pydata.org/pandas-docs/stable/indexing.html#indexing-view-versus-copy\n"
     ]
    },
    {
     "name": "stdout",
     "output_type": "stream",
     "text": [
      "   shop_review_positive_rate  shop_review_positive_rate_ave  \\\n",
      "0                   1.000000                       0.991042   \n",
      "1                   1.000000                       0.991042   \n",
      "2                   1.000000                       0.991042   \n",
      "3                   1.000000                       0.991042   \n",
      "4                   1.000000                       0.991042   \n",
      "5                   1.000000                       0.991042   \n",
      "6                   0.985427                       0.995915   \n",
      "7                   0.985427                       0.995915   \n",
      "8                   0.985427                       0.996590   \n",
      "9                   0.985427                       0.995915   \n",
      "\n",
      "   isHigh_shop_review_positive_rate  \n",
      "0                               1.0  \n",
      "1                               1.0  \n",
      "2                               1.0  \n",
      "3                               1.0  \n",
      "4                               1.0  \n",
      "5                               1.0  \n",
      "6                               0.0  \n",
      "7                               0.0  \n",
      "8                               0.0  \n",
      "9                               0.0  \n",
      "7\n",
      "18371\n",
      "18371\n",
      "   real_first_category  shop_review_positive_rate  \\\n",
      "0  8277336076276184272                   0.985244   \n",
      "1  5755694407684602296                   0.989068   \n",
      "2  5755694407684602296                   0.989068   \n",
      "3  5755694407684602296                   0.989068   \n",
      "4  5755694407684602296                   0.989068   \n",
      "5  5755694407684602296                   0.989068   \n",
      "6  4879721024980945592                   1.000000   \n",
      "7  2011981573061447208                   1.000000   \n",
      "8  2011981573061447208                   1.000000   \n",
      "9  2011981573061447208                   1.000000   \n",
      "\n",
      "   shop_review_positive_rate_ave  isHigh_shop_review_positive_rate  \n",
      "0                       0.995915                                 0  \n",
      "1                       0.996590                                 0  \n",
      "2                       0.996590                                 0  \n",
      "3                       0.996590                                 0  \n",
      "4                       0.996590                                 0  \n",
      "5                       0.996590                                 0  \n",
      "6                       0.990844                                 1  \n",
      "7                       0.992751                                 1  \n",
      "8                       0.992751                                 1  \n",
      "9                       0.992751                                 1  \n"
     ]
    },
    {
     "name": "stderr",
     "output_type": "stream",
     "text": [
      "/usr/local/anaconda3/lib/python3.6/site-packages/ipykernel_launcher.py:31: SettingWithCopyWarning: \n",
      "A value is trying to be set on a copy of a slice from a DataFrame\n",
      "\n",
      "See the caveats in the documentation: http://pandas.pydata.org/pandas-docs/stable/indexing.html#indexing-view-versus-copy\n",
      "/usr/local/anaconda3/lib/python3.6/site-packages/ipykernel_launcher.py:34: SettingWithCopyWarning: \n",
      "A value is trying to be set on a copy of a slice from a DataFrame\n",
      "\n",
      "See the caveats in the documentation: http://pandas.pydata.org/pandas-docs/stable/indexing.html#indexing-view-versus-copy\n",
      "/usr/local/anaconda3/lib/python3.6/site-packages/ipykernel_launcher.py:36: SettingWithCopyWarning: \n",
      "A value is trying to be set on a copy of a slice from a DataFrame\n",
      "\n",
      "See the caveats in the documentation: http://pandas.pydata.org/pandas-docs/stable/indexing.html#indexing-view-versus-copy\n",
      "/usr/local/anaconda3/lib/python3.6/site-packages/ipykernel_launcher.py:37: SettingWithCopyWarning: \n",
      "A value is trying to be set on a copy of a slice from a DataFrame\n",
      "\n",
      "See the caveats in the documentation: http://pandas.pydata.org/pandas-docs/stable/indexing.html#indexing-view-versus-copy\n"
     ]
    }
   ],
   "source": [
    "#修改分析跟店铺评价相关的特征\n",
    "train_df['shop_review_positive_rate'] = train_df.shop_review_positive_rate.map(lambda x: -1 if math.isnan(x) else x)\n",
    "train_df['real_first_category'] = train_df.item_category_list.map(lambda x: x.split(';')[1])\n",
    "shop_review_positive_miss_train_df = train_df[train_df.shop_review_positive_rate == -1]\n",
    "print(len(shop_review_positive_miss_train_df))\n",
    "shop_review_positive_notmiss_train_df = train_df[train_df.shop_review_positive_rate != -1]\n",
    "shop_review_positive_train_df_pivot_table = pd.pivot_table(shop_review_positive_notmiss_train_df[['real_first_category', 'shop_review_positive_rate']], index=['real_first_category'], values=['shop_review_positive_rate'], aggfunc=np.mean)\n",
    "shop_review_positive_train_df_pivot_table.columns = ['shop_review_positive_rate_ave']\n",
    "shop_review_positive_train_df_pivot_table.reset_index(inplace=True)\n",
    "print(shop_review_positive_train_df_pivot_table.head(10))\n",
    "\n",
    "shop_review_positive_notmiss_train_df = pd.merge(shop_review_positive_notmiss_train_df, shop_review_positive_train_df_pivot_table, on=['real_first_category'], how='left')\n",
    "shop_review_positive_notmiss_train_df['shop_review_positive_rate_diff'] = shop_review_positive_notmiss_train_df['shop_review_positive_rate'] - shop_review_positive_notmiss_train_df['shop_review_positive_rate_ave']\n",
    "shop_review_positive_notmiss_train_df['isHigh_shop_review_positive_rate'] = shop_review_positive_notmiss_train_df['shop_review_positive_rate_diff'].map(lambda x: 1 if x >= 0 else 0)\n",
    "print(shop_review_positive_notmiss_train_df[['real_first_category', 'shop_review_positive_rate', 'shop_review_positive_rate_ave', 'isHigh_shop_review_positive_rate']].head(10))\n",
    "\n",
    "train_df['isHigh_shop_review_positive_rate'] = 2\n",
    "train_df['isHigh_shop_review_positive_rate'][train_df.shop_review_positive_rate != -1] = shop_review_positive_notmiss_train_df['isHigh_shop_review_positive_rate']\n",
    "train_df['shop_review_positive_rate_ave'] = -1\n",
    "train_df['shop_review_positive_rate_ave'][train_df.shop_review_positive_rate != -1] = shop_review_positive_notmiss_train_df['shop_review_positive_rate_ave']\n",
    "print(train_df[['shop_review_positive_rate', 'shop_review_positive_rate_ave', 'isHigh_shop_review_positive_rate']].head(10))\n",
    "print(len(train_df[train_df.isHigh_shop_review_positive_rate == 2]))\n",
    "\n",
    "test_df['shop_review_positive_rate'] = test_df.shop_review_positive_rate.map(lambda x: -1 if math.isnan(x) else x)\n",
    "test_df['real_first_category'] = test_df.item_category_list.map(lambda x: x.split(';')[1])\n",
    "shop_review_positive_notmiss_test_df = test_df[test_df.shop_review_positive_rate != -1]\n",
    "print(len(shop_review_positive_notmiss_test_df))\n",
    "shop_review_positive_notmiss_test_df = pd.merge(shop_review_positive_notmiss_test_df, shop_review_positive_train_df_pivot_table, on=['real_first_category'], how='left')\n",
    "shop_review_positive_notmiss_test_df['shop_review_positive_rate_ave'] = shop_review_positive_notmiss_test_df['shop_review_positive_rate_ave'].map(lambda x: -1 if x == np.nan else x)\n",
    "test_df['shop_review_positive_rate_ave'] = -1\n",
    "test_df['shop_review_positive_rate_ave'][test_df.shop_review_positive_rate != -1] = shop_review_positive_notmiss_test_df['shop_review_positive_rate_ave']\n",
    "print(len(shop_review_positive_notmiss_test_df))\n",
    "test_df['shop_review_positive_rate_diff'] = -1\n",
    "test_df['shop_review_positive_rate_diff'][test_df.shop_review_positive_rate_ave != -1] = test_df['shop_review_positive_rate'][test_df.shop_review_positive_rate_ave != -1] - test_df['shop_review_positive_rate_ave'][test_df.shop_review_positive_rate_ave != -1]\n",
    "test_df['isHigh_shop_review_positive_rate'] = 2\n",
    "test_df['isHigh_shop_review_positive_rate'][test_df.shop_review_positive_rate_diff >= 0] = 1\n",
    "test_df['isHigh_shop_review_positive_rate'][test_df.shop_review_positive_rate_diff < 0] = 0\n",
    "print(test_df[['real_first_category', 'shop_review_positive_rate', 'shop_review_positive_rate_ave', 'isHigh_shop_review_positive_rate']].head(10))\n"
   ]
  },
  {
   "cell_type": "code",
   "execution_count": 12,
   "metadata": {},
   "outputs": [
    {
     "name": "stdout",
     "output_type": "stream",
     "text": [
      "           user_id  total_number\n",
      "0   24779788309075             3\n",
      "1   36134987234568             1\n",
      "2   59341486148291             1\n",
      "3  179317972644611             8\n",
      "4  212049717332865             1\n",
      "5  217191929432135             6\n",
      "6  218627666998650             1\n",
      "7  225768902336823             1\n",
      "8  300164043453670             1\n",
      "9  317896740941222             1\n",
      "            user_id  buy_number\n",
      "0  1090153241528992           1\n",
      "1  2123576066989657           1\n",
      "2  2130558538098129           1\n",
      "3  3015517907397958           1\n",
      "4  4324918501156758           1\n",
      "5  4882847642011651           1\n",
      "6  6226206022927438           1\n",
      "7  6425609504608902           1\n",
      "8  8059853486497640           1\n",
      "9  9367152554010011           1\n",
      "           user_id  total_number  buy_number  buy_origion_rate\n",
      "0   24779788309075             3         0.0               0.0\n",
      "1   36134987234568             1         0.0               0.0\n",
      "2   59341486148291             1         0.0               0.0\n",
      "3  179317972644611             8         0.0               0.0\n",
      "4  212049717332865             1         0.0               0.0\n",
      "5  217191929432135             6         0.0               0.0\n",
      "6  218627666998650             1         0.0               0.0\n",
      "7  225768902336823             1         0.0               0.0\n",
      "8  300164043453670             1         0.0               0.0\n",
      "9  317896740941222             1         0.0               0.0\n",
      "origion_rate_mean :  0.02345720715412147\n",
      "origion_rate_var :  0.016850208886595427\n",
      "alpha :  0.008431623667616671\n",
      "beta :  0.3510154158805344\n"
     ]
    },
    {
     "name": "stderr",
     "output_type": "stream",
     "text": [
      "/usr/local/anaconda3/lib/python3.6/site-packages/ipykernel_launcher.py:2: SettingWithCopyWarning: \n",
      "A value is trying to be set on a copy of a slice from a DataFrame.\n",
      "Try using .loc[row_indexer,col_indexer] = value instead\n",
      "\n",
      "See the caveats in the documentation: http://pandas.pydata.org/pandas-docs/stable/indexing.html#indexing-view-versus-copy\n",
      "  \n"
     ]
    }
   ],
   "source": [
    "t = train_df[['user_id']]\n",
    "t['total_number'] = 1\n",
    "t = t.groupby('user_id').agg('sum').reset_index()\n",
    "print(t.head(10))\n",
    "\n",
    "t_buy = train_df[['user_id']][train_df.is_trade == 1]\n",
    "t_buy['buy_number'] = 1\n",
    "t_buy = t_buy.groupby('user_id').agg('sum').reset_index()\n",
    "print(t_buy.head(10))\n",
    "\n",
    "t = pd.merge(t, t_buy, on='user_id', how='left')\n",
    "t['buy_number'] = t.buy_number.map(lambda x: 0 if math.isnan(x) else x)\n",
    "t['buy_origion_rate'] = t['buy_number'] / t['total_number']\n",
    "print(t.head(10))\n",
    "\n",
    "def getBayesSmoothParam(origion_rate):\n",
    "    origion_rate_mean = origion_rate.mean()\n",
    "    origion_rate_var = origion_rate.var()\n",
    "    alpha = origion_rate_mean / origion_rate_var * (origion_rate_mean * (1 - origion_rate_mean) - origion_rate_var)\n",
    "    beta = (1 - origion_rate_mean) / origion_rate_var * (origion_rate_mean * (1 - origion_rate_mean) - origion_rate_var)\n",
    "    print('origion_rate_mean : ', origion_rate_mean)\n",
    "    print('origion_rate_var : ', origion_rate_var)\n",
    "    print('alpha : ', alpha)\n",
    "    print('beta : ', beta)\n",
    "    return alpha, beta\n",
    "\n",
    "alpha, beta = getBayesSmoothParam(t['buy_origion_rate'])"
   ]
  },
  {
   "cell_type": "code",
   "execution_count": 15,
   "metadata": {},
   "outputs": [
    {
     "ename": "KeyError",
     "evalue": "0",
     "output_type": "error",
     "traceback": [
      "\u001b[0;31m---------------------------------------------------------------------------\u001b[0m",
      "\u001b[0;31mKeyError\u001b[0m                                  Traceback (most recent call last)",
      "\u001b[0;32m/usr/local/anaconda3/lib/python3.6/site-packages/pandas/core/indexes/base.py\u001b[0m in \u001b[0;36mget_loc\u001b[0;34m(self, key, method, tolerance)\u001b[0m\n\u001b[1;32m   2441\u001b[0m             \u001b[0;32mtry\u001b[0m\u001b[0;34m:\u001b[0m\u001b[0;34m\u001b[0m\u001b[0m\n\u001b[0;32m-> 2442\u001b[0;31m                 \u001b[0;32mreturn\u001b[0m \u001b[0mself\u001b[0m\u001b[0;34m.\u001b[0m\u001b[0m_engine\u001b[0m\u001b[0;34m.\u001b[0m\u001b[0mget_loc\u001b[0m\u001b[0;34m(\u001b[0m\u001b[0mkey\u001b[0m\u001b[0;34m)\u001b[0m\u001b[0;34m\u001b[0m\u001b[0m\n\u001b[0m\u001b[1;32m   2443\u001b[0m             \u001b[0;32mexcept\u001b[0m \u001b[0mKeyError\u001b[0m\u001b[0;34m:\u001b[0m\u001b[0;34m\u001b[0m\u001b[0m\n",
      "\u001b[0;32mpandas/_libs/index.pyx\u001b[0m in \u001b[0;36mpandas._libs.index.IndexEngine.get_loc\u001b[0;34m()\u001b[0m\n",
      "\u001b[0;32mpandas/_libs/index.pyx\u001b[0m in \u001b[0;36mpandas._libs.index.IndexEngine.get_loc\u001b[0;34m()\u001b[0m\n",
      "\u001b[0;32mpandas/_libs/hashtable_class_helper.pxi\u001b[0m in \u001b[0;36mpandas._libs.hashtable.PyObjectHashTable.get_item\u001b[0;34m()\u001b[0m\n",
      "\u001b[0;32mpandas/_libs/hashtable_class_helper.pxi\u001b[0m in \u001b[0;36mpandas._libs.hashtable.PyObjectHashTable.get_item\u001b[0;34m()\u001b[0m\n",
      "\u001b[0;31mKeyError\u001b[0m: 0",
      "\nDuring handling of the above exception, another exception occurred:\n",
      "\u001b[0;31mKeyError\u001b[0m                                  Traceback (most recent call last)",
      "\u001b[0;32m<ipython-input-15-1a04b6d15a64>\u001b[0m in \u001b[0;36m<module>\u001b[0;34m()\u001b[0m\n\u001b[1;32m     27\u001b[0m \u001b[0;34m\u001b[0m\u001b[0m\n\u001b[1;32m     28\u001b[0m \u001b[0mbs\u001b[0m \u001b[0;34m=\u001b[0m \u001b[0mBayesianSmoothing\u001b[0m\u001b[0;34m(\u001b[0m\u001b[0;36m1\u001b[0m\u001b[0;34m,\u001b[0m \u001b[0;36m1\u001b[0m\u001b[0;34m)\u001b[0m\u001b[0;34m\u001b[0m\u001b[0m\n\u001b[0;32m---> 29\u001b[0;31m \u001b[0mbs\u001b[0m\u001b[0;34m.\u001b[0m\u001b[0mupdate\u001b[0m\u001b[0;34m(\u001b[0m\u001b[0mt\u001b[0m\u001b[0;34m[\u001b[0m\u001b[0;34m[\u001b[0m\u001b[0;34m'total_number'\u001b[0m\u001b[0;34m]\u001b[0m\u001b[0;34m]\u001b[0m\u001b[0;34m,\u001b[0m \u001b[0mt\u001b[0m\u001b[0;34m[\u001b[0m\u001b[0;34m[\u001b[0m\u001b[0;34m'buy_number'\u001b[0m\u001b[0;34m]\u001b[0m\u001b[0;34m]\u001b[0m\u001b[0;34m,\u001b[0m \u001b[0;36m1000\u001b[0m\u001b[0;34m,\u001b[0m \u001b[0;36m0.0000000001\u001b[0m\u001b[0;34m)\u001b[0m\u001b[0;34m\u001b[0m\u001b[0m\n\u001b[0m\u001b[1;32m     30\u001b[0m \u001b[0mprint\u001b[0m\u001b[0;34m(\u001b[0m\u001b[0mbs\u001b[0m\u001b[0;34m.\u001b[0m\u001b[0malpha\u001b[0m\u001b[0;34m,\u001b[0m \u001b[0mbs\u001b[0m\u001b[0;34m.\u001b[0m\u001b[0mbeta\u001b[0m\u001b[0;34m)\u001b[0m\u001b[0;34m\u001b[0m\u001b[0m\n",
      "\u001b[0;32m<ipython-input-15-1a04b6d15a64>\u001b[0m in \u001b[0;36mupdate\u001b[0;34m(self, imps, clks, iter_num, epsilon)\u001b[0m\n\u001b[1;32m      8\u001b[0m     \u001b[0;32mdef\u001b[0m \u001b[0mupdate\u001b[0m\u001b[0;34m(\u001b[0m\u001b[0mself\u001b[0m\u001b[0;34m,\u001b[0m \u001b[0mimps\u001b[0m\u001b[0;34m,\u001b[0m \u001b[0mclks\u001b[0m\u001b[0;34m,\u001b[0m \u001b[0miter_num\u001b[0m\u001b[0;34m,\u001b[0m \u001b[0mepsilon\u001b[0m\u001b[0;34m)\u001b[0m\u001b[0;34m:\u001b[0m\u001b[0;34m\u001b[0m\u001b[0m\n\u001b[1;32m      9\u001b[0m         \u001b[0;32mfor\u001b[0m \u001b[0mi\u001b[0m \u001b[0;32min\u001b[0m \u001b[0mrange\u001b[0m\u001b[0;34m(\u001b[0m\u001b[0miter_num\u001b[0m\u001b[0;34m)\u001b[0m\u001b[0;34m:\u001b[0m\u001b[0;34m\u001b[0m\u001b[0m\n\u001b[0;32m---> 10\u001b[0;31m             \u001b[0mnew_alpha\u001b[0m\u001b[0;34m,\u001b[0m \u001b[0mnew_beta\u001b[0m \u001b[0;34m=\u001b[0m \u001b[0mself\u001b[0m\u001b[0;34m.\u001b[0m\u001b[0m__fixed_point_iteration\u001b[0m\u001b[0;34m(\u001b[0m\u001b[0mimps\u001b[0m\u001b[0;34m,\u001b[0m \u001b[0mclks\u001b[0m\u001b[0;34m,\u001b[0m \u001b[0mself\u001b[0m\u001b[0;34m.\u001b[0m\u001b[0malpha\u001b[0m\u001b[0;34m,\u001b[0m \u001b[0mself\u001b[0m\u001b[0;34m.\u001b[0m\u001b[0mbeta\u001b[0m\u001b[0;34m)\u001b[0m\u001b[0;34m\u001b[0m\u001b[0m\n\u001b[0m\u001b[1;32m     11\u001b[0m             \u001b[0;32mif\u001b[0m \u001b[0mabs\u001b[0m\u001b[0;34m(\u001b[0m\u001b[0mnew_alpha\u001b[0m\u001b[0;34m-\u001b[0m\u001b[0mself\u001b[0m\u001b[0;34m.\u001b[0m\u001b[0malpha\u001b[0m\u001b[0;34m)\u001b[0m\u001b[0;34m<\u001b[0m\u001b[0mepsilon\u001b[0m \u001b[0;32mand\u001b[0m \u001b[0mabs\u001b[0m\u001b[0;34m(\u001b[0m\u001b[0mnew_beta\u001b[0m\u001b[0;34m-\u001b[0m\u001b[0mself\u001b[0m\u001b[0;34m.\u001b[0m\u001b[0mbeta\u001b[0m\u001b[0;34m)\u001b[0m\u001b[0;34m<\u001b[0m\u001b[0mepsilon\u001b[0m\u001b[0;34m:\u001b[0m\u001b[0;34m\u001b[0m\u001b[0m\n\u001b[1;32m     12\u001b[0m                 \u001b[0;32mbreak\u001b[0m\u001b[0;34m\u001b[0m\u001b[0m\n",
      "\u001b[0;32m<ipython-input-15-1a04b6d15a64>\u001b[0m in \u001b[0;36m__fixed_point_iteration\u001b[0;34m(self, imps, clks, alpha, beta)\u001b[0m\n\u001b[1;32m     20\u001b[0m \u001b[0;34m\u001b[0m\u001b[0m\n\u001b[1;32m     21\u001b[0m         \u001b[0;32mfor\u001b[0m \u001b[0mi\u001b[0m \u001b[0;32min\u001b[0m \u001b[0mrange\u001b[0m\u001b[0;34m(\u001b[0m\u001b[0mlen\u001b[0m\u001b[0;34m(\u001b[0m\u001b[0mimps\u001b[0m\u001b[0;34m)\u001b[0m\u001b[0;34m)\u001b[0m\u001b[0;34m:\u001b[0m\u001b[0;34m\u001b[0m\u001b[0m\n\u001b[0;32m---> 22\u001b[0;31m             \u001b[0mnumerator_alpha\u001b[0m \u001b[0;34m+=\u001b[0m \u001b[0;34m(\u001b[0m\u001b[0mspecial\u001b[0m\u001b[0;34m.\u001b[0m\u001b[0mdigamma\u001b[0m\u001b[0;34m(\u001b[0m\u001b[0mclks\u001b[0m\u001b[0;34m[\u001b[0m\u001b[0mi\u001b[0m\u001b[0;34m]\u001b[0m\u001b[0;34m+\u001b[0m\u001b[0malpha\u001b[0m\u001b[0;34m)\u001b[0m \u001b[0;34m-\u001b[0m \u001b[0mspecial\u001b[0m\u001b[0;34m.\u001b[0m\u001b[0mdigamma\u001b[0m\u001b[0;34m(\u001b[0m\u001b[0malpha\u001b[0m\u001b[0;34m)\u001b[0m\u001b[0;34m)\u001b[0m\u001b[0;34m\u001b[0m\u001b[0m\n\u001b[0m\u001b[1;32m     23\u001b[0m             \u001b[0mnumerator_beta\u001b[0m \u001b[0;34m+=\u001b[0m \u001b[0;34m(\u001b[0m\u001b[0mspecial\u001b[0m\u001b[0;34m.\u001b[0m\u001b[0mdigamma\u001b[0m\u001b[0;34m(\u001b[0m\u001b[0mimps\u001b[0m\u001b[0;34m[\u001b[0m\u001b[0mi\u001b[0m\u001b[0;34m]\u001b[0m\u001b[0;34m-\u001b[0m\u001b[0mclks\u001b[0m\u001b[0;34m[\u001b[0m\u001b[0mi\u001b[0m\u001b[0;34m]\u001b[0m\u001b[0;34m+\u001b[0m\u001b[0mbeta\u001b[0m\u001b[0;34m)\u001b[0m \u001b[0;34m-\u001b[0m \u001b[0mspecial\u001b[0m\u001b[0;34m.\u001b[0m\u001b[0mdigamma\u001b[0m\u001b[0;34m(\u001b[0m\u001b[0mbeta\u001b[0m\u001b[0;34m)\u001b[0m\u001b[0;34m)\u001b[0m\u001b[0;34m\u001b[0m\u001b[0m\n\u001b[1;32m     24\u001b[0m             \u001b[0mdenominator\u001b[0m \u001b[0;34m+=\u001b[0m \u001b[0;34m(\u001b[0m\u001b[0mspecial\u001b[0m\u001b[0;34m.\u001b[0m\u001b[0mdigamma\u001b[0m\u001b[0;34m(\u001b[0m\u001b[0mimps\u001b[0m\u001b[0;34m[\u001b[0m\u001b[0mi\u001b[0m\u001b[0;34m]\u001b[0m\u001b[0;34m+\u001b[0m\u001b[0malpha\u001b[0m\u001b[0;34m+\u001b[0m\u001b[0mbeta\u001b[0m\u001b[0;34m)\u001b[0m \u001b[0;34m-\u001b[0m \u001b[0mspecial\u001b[0m\u001b[0;34m.\u001b[0m\u001b[0mdigamma\u001b[0m\u001b[0;34m(\u001b[0m\u001b[0malpha\u001b[0m\u001b[0;34m+\u001b[0m\u001b[0mbeta\u001b[0m\u001b[0;34m)\u001b[0m\u001b[0;34m)\u001b[0m\u001b[0;34m\u001b[0m\u001b[0m\n",
      "\u001b[0;32m/usr/local/anaconda3/lib/python3.6/site-packages/pandas/core/frame.py\u001b[0m in \u001b[0;36m__getitem__\u001b[0;34m(self, key)\u001b[0m\n\u001b[1;32m   1962\u001b[0m             \u001b[0;32mreturn\u001b[0m \u001b[0mself\u001b[0m\u001b[0;34m.\u001b[0m\u001b[0m_getitem_multilevel\u001b[0m\u001b[0;34m(\u001b[0m\u001b[0mkey\u001b[0m\u001b[0;34m)\u001b[0m\u001b[0;34m\u001b[0m\u001b[0m\n\u001b[1;32m   1963\u001b[0m         \u001b[0;32melse\u001b[0m\u001b[0;34m:\u001b[0m\u001b[0;34m\u001b[0m\u001b[0m\n\u001b[0;32m-> 1964\u001b[0;31m             \u001b[0;32mreturn\u001b[0m \u001b[0mself\u001b[0m\u001b[0;34m.\u001b[0m\u001b[0m_getitem_column\u001b[0m\u001b[0;34m(\u001b[0m\u001b[0mkey\u001b[0m\u001b[0;34m)\u001b[0m\u001b[0;34m\u001b[0m\u001b[0m\n\u001b[0m\u001b[1;32m   1965\u001b[0m \u001b[0;34m\u001b[0m\u001b[0m\n\u001b[1;32m   1966\u001b[0m     \u001b[0;32mdef\u001b[0m \u001b[0m_getitem_column\u001b[0m\u001b[0;34m(\u001b[0m\u001b[0mself\u001b[0m\u001b[0;34m,\u001b[0m \u001b[0mkey\u001b[0m\u001b[0;34m)\u001b[0m\u001b[0;34m:\u001b[0m\u001b[0;34m\u001b[0m\u001b[0m\n",
      "\u001b[0;32m/usr/local/anaconda3/lib/python3.6/site-packages/pandas/core/frame.py\u001b[0m in \u001b[0;36m_getitem_column\u001b[0;34m(self, key)\u001b[0m\n\u001b[1;32m   1969\u001b[0m         \u001b[0;31m# get column\u001b[0m\u001b[0;34m\u001b[0m\u001b[0;34m\u001b[0m\u001b[0m\n\u001b[1;32m   1970\u001b[0m         \u001b[0;32mif\u001b[0m \u001b[0mself\u001b[0m\u001b[0;34m.\u001b[0m\u001b[0mcolumns\u001b[0m\u001b[0;34m.\u001b[0m\u001b[0mis_unique\u001b[0m\u001b[0;34m:\u001b[0m\u001b[0;34m\u001b[0m\u001b[0m\n\u001b[0;32m-> 1971\u001b[0;31m             \u001b[0;32mreturn\u001b[0m \u001b[0mself\u001b[0m\u001b[0;34m.\u001b[0m\u001b[0m_get_item_cache\u001b[0m\u001b[0;34m(\u001b[0m\u001b[0mkey\u001b[0m\u001b[0;34m)\u001b[0m\u001b[0;34m\u001b[0m\u001b[0m\n\u001b[0m\u001b[1;32m   1972\u001b[0m \u001b[0;34m\u001b[0m\u001b[0m\n\u001b[1;32m   1973\u001b[0m         \u001b[0;31m# duplicate columns & possible reduce dimensionality\u001b[0m\u001b[0;34m\u001b[0m\u001b[0;34m\u001b[0m\u001b[0m\n",
      "\u001b[0;32m/usr/local/anaconda3/lib/python3.6/site-packages/pandas/core/generic.py\u001b[0m in \u001b[0;36m_get_item_cache\u001b[0;34m(self, item)\u001b[0m\n\u001b[1;32m   1643\u001b[0m         \u001b[0mres\u001b[0m \u001b[0;34m=\u001b[0m \u001b[0mcache\u001b[0m\u001b[0;34m.\u001b[0m\u001b[0mget\u001b[0m\u001b[0;34m(\u001b[0m\u001b[0mitem\u001b[0m\u001b[0;34m)\u001b[0m\u001b[0;34m\u001b[0m\u001b[0m\n\u001b[1;32m   1644\u001b[0m         \u001b[0;32mif\u001b[0m \u001b[0mres\u001b[0m \u001b[0;32mis\u001b[0m \u001b[0;32mNone\u001b[0m\u001b[0;34m:\u001b[0m\u001b[0;34m\u001b[0m\u001b[0m\n\u001b[0;32m-> 1645\u001b[0;31m             \u001b[0mvalues\u001b[0m \u001b[0;34m=\u001b[0m \u001b[0mself\u001b[0m\u001b[0;34m.\u001b[0m\u001b[0m_data\u001b[0m\u001b[0;34m.\u001b[0m\u001b[0mget\u001b[0m\u001b[0;34m(\u001b[0m\u001b[0mitem\u001b[0m\u001b[0;34m)\u001b[0m\u001b[0;34m\u001b[0m\u001b[0m\n\u001b[0m\u001b[1;32m   1646\u001b[0m             \u001b[0mres\u001b[0m \u001b[0;34m=\u001b[0m \u001b[0mself\u001b[0m\u001b[0;34m.\u001b[0m\u001b[0m_box_item_values\u001b[0m\u001b[0;34m(\u001b[0m\u001b[0mitem\u001b[0m\u001b[0;34m,\u001b[0m \u001b[0mvalues\u001b[0m\u001b[0;34m)\u001b[0m\u001b[0;34m\u001b[0m\u001b[0m\n\u001b[1;32m   1647\u001b[0m             \u001b[0mcache\u001b[0m\u001b[0;34m[\u001b[0m\u001b[0mitem\u001b[0m\u001b[0;34m]\u001b[0m \u001b[0;34m=\u001b[0m \u001b[0mres\u001b[0m\u001b[0;34m\u001b[0m\u001b[0m\n",
      "\u001b[0;32m/usr/local/anaconda3/lib/python3.6/site-packages/pandas/core/internals.py\u001b[0m in \u001b[0;36mget\u001b[0;34m(self, item, fastpath)\u001b[0m\n\u001b[1;32m   3588\u001b[0m \u001b[0;34m\u001b[0m\u001b[0m\n\u001b[1;32m   3589\u001b[0m             \u001b[0;32mif\u001b[0m \u001b[0;32mnot\u001b[0m \u001b[0misnull\u001b[0m\u001b[0;34m(\u001b[0m\u001b[0mitem\u001b[0m\u001b[0;34m)\u001b[0m\u001b[0;34m:\u001b[0m\u001b[0;34m\u001b[0m\u001b[0m\n\u001b[0;32m-> 3590\u001b[0;31m                 \u001b[0mloc\u001b[0m \u001b[0;34m=\u001b[0m \u001b[0mself\u001b[0m\u001b[0;34m.\u001b[0m\u001b[0mitems\u001b[0m\u001b[0;34m.\u001b[0m\u001b[0mget_loc\u001b[0m\u001b[0;34m(\u001b[0m\u001b[0mitem\u001b[0m\u001b[0;34m)\u001b[0m\u001b[0;34m\u001b[0m\u001b[0m\n\u001b[0m\u001b[1;32m   3591\u001b[0m             \u001b[0;32melse\u001b[0m\u001b[0;34m:\u001b[0m\u001b[0;34m\u001b[0m\u001b[0m\n\u001b[1;32m   3592\u001b[0m                 \u001b[0mindexer\u001b[0m \u001b[0;34m=\u001b[0m \u001b[0mnp\u001b[0m\u001b[0;34m.\u001b[0m\u001b[0marange\u001b[0m\u001b[0;34m(\u001b[0m\u001b[0mlen\u001b[0m\u001b[0;34m(\u001b[0m\u001b[0mself\u001b[0m\u001b[0;34m.\u001b[0m\u001b[0mitems\u001b[0m\u001b[0;34m)\u001b[0m\u001b[0;34m)\u001b[0m\u001b[0;34m[\u001b[0m\u001b[0misnull\u001b[0m\u001b[0;34m(\u001b[0m\u001b[0mself\u001b[0m\u001b[0;34m.\u001b[0m\u001b[0mitems\u001b[0m\u001b[0;34m)\u001b[0m\u001b[0;34m]\u001b[0m\u001b[0;34m\u001b[0m\u001b[0m\n",
      "\u001b[0;32m/usr/local/anaconda3/lib/python3.6/site-packages/pandas/core/indexes/base.py\u001b[0m in \u001b[0;36mget_loc\u001b[0;34m(self, key, method, tolerance)\u001b[0m\n\u001b[1;32m   2442\u001b[0m                 \u001b[0;32mreturn\u001b[0m \u001b[0mself\u001b[0m\u001b[0;34m.\u001b[0m\u001b[0m_engine\u001b[0m\u001b[0;34m.\u001b[0m\u001b[0mget_loc\u001b[0m\u001b[0;34m(\u001b[0m\u001b[0mkey\u001b[0m\u001b[0;34m)\u001b[0m\u001b[0;34m\u001b[0m\u001b[0m\n\u001b[1;32m   2443\u001b[0m             \u001b[0;32mexcept\u001b[0m \u001b[0mKeyError\u001b[0m\u001b[0;34m:\u001b[0m\u001b[0;34m\u001b[0m\u001b[0m\n\u001b[0;32m-> 2444\u001b[0;31m                 \u001b[0;32mreturn\u001b[0m \u001b[0mself\u001b[0m\u001b[0;34m.\u001b[0m\u001b[0m_engine\u001b[0m\u001b[0;34m.\u001b[0m\u001b[0mget_loc\u001b[0m\u001b[0;34m(\u001b[0m\u001b[0mself\u001b[0m\u001b[0;34m.\u001b[0m\u001b[0m_maybe_cast_indexer\u001b[0m\u001b[0;34m(\u001b[0m\u001b[0mkey\u001b[0m\u001b[0;34m)\u001b[0m\u001b[0;34m)\u001b[0m\u001b[0;34m\u001b[0m\u001b[0m\n\u001b[0m\u001b[1;32m   2445\u001b[0m \u001b[0;34m\u001b[0m\u001b[0m\n\u001b[1;32m   2446\u001b[0m         \u001b[0mindexer\u001b[0m \u001b[0;34m=\u001b[0m \u001b[0mself\u001b[0m\u001b[0;34m.\u001b[0m\u001b[0mget_indexer\u001b[0m\u001b[0;34m(\u001b[0m\u001b[0;34m[\u001b[0m\u001b[0mkey\u001b[0m\u001b[0;34m]\u001b[0m\u001b[0;34m,\u001b[0m \u001b[0mmethod\u001b[0m\u001b[0;34m=\u001b[0m\u001b[0mmethod\u001b[0m\u001b[0;34m,\u001b[0m \u001b[0mtolerance\u001b[0m\u001b[0;34m=\u001b[0m\u001b[0mtolerance\u001b[0m\u001b[0;34m)\u001b[0m\u001b[0;34m\u001b[0m\u001b[0m\n",
      "\u001b[0;32mpandas/_libs/index.pyx\u001b[0m in \u001b[0;36mpandas._libs.index.IndexEngine.get_loc\u001b[0;34m()\u001b[0m\n",
      "\u001b[0;32mpandas/_libs/index.pyx\u001b[0m in \u001b[0;36mpandas._libs.index.IndexEngine.get_loc\u001b[0;34m()\u001b[0m\n",
      "\u001b[0;32mpandas/_libs/hashtable_class_helper.pxi\u001b[0m in \u001b[0;36mpandas._libs.hashtable.PyObjectHashTable.get_item\u001b[0;34m()\u001b[0m\n",
      "\u001b[0;32mpandas/_libs/hashtable_class_helper.pxi\u001b[0m in \u001b[0;36mpandas._libs.hashtable.PyObjectHashTable.get_item\u001b[0;34m()\u001b[0m\n",
      "\u001b[0;31mKeyError\u001b[0m: 0"
     ]
    }
   ],
   "source": [
    "import scipy.special as special\n",
    "\n",
    "class BayesianSmoothing(object):\n",
    "    def __init__(self, alpha, beta):\n",
    "        self.alpha = alpha\n",
    "        self.beta = beta\n",
    "\n",
    "    def update(self, imps, clks, iter_num, epsilon):\n",
    "        for i in range(iter_num):\n",
    "            new_alpha, new_beta = self.__fixed_point_iteration(imps, clks, self.alpha, self.beta)\n",
    "            if abs(new_alpha-self.alpha)<epsilon and abs(new_beta-self.beta)<epsilon:\n",
    "                break\n",
    "            self.alpha = new_alpha\n",
    "            self.beta = new_beta\n",
    "\n",
    "    def __fixed_point_iteration(self, imps, clks, alpha, beta):\n",
    "        numerator_alpha = 0.0\n",
    "        numerator_beta = 0.0\n",
    "        denominator = 0.0\n",
    "\n",
    "        for i in range(len(imps)):\n",
    "            numerator_alpha += (special.digamma(clks[i]+alpha) - special.digamma(alpha))\n",
    "            numerator_beta += (special.digamma(imps[i]-clks[i]+beta) - special.digamma(beta))\n",
    "            denominator += (special.digamma(imps[i]+alpha+beta) - special.digamma(alpha+beta))\n",
    "\n",
    "        return alpha*(numerator_alpha/denominator), beta*(numerator_beta/denominator)\n",
    "    \n",
    "bs = BayesianSmoothing(1, 1)\n",
    "bs.update(t[['total_number']], t[['buy_number']], 1000, 0.0000000001)\n",
    "print(bs.alpha, bs.beta)\n"
   ]
  },
  {
   "cell_type": "code",
   "execution_count": null,
   "metadata": {
    "collapsed": true
   },
   "outputs": [],
   "source": []
  }
 ],
 "metadata": {
  "kernelspec": {
   "display_name": "Python 3",
   "language": "python",
   "name": "python3"
  },
  "language_info": {
   "codemirror_mode": {
    "name": "ipython",
    "version": 3
   },
   "file_extension": ".py",
   "mimetype": "text/x-python",
   "name": "python",
   "nbconvert_exporter": "python",
   "pygments_lexer": "ipython3",
   "version": "3.6.2"
  }
 },
 "nbformat": 4,
 "nbformat_minor": 2
}
